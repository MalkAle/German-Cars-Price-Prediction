{
 "cells": [
  {
   "cell_type": "markdown",
   "id": "d022b574",
   "metadata": {
    "papermill": {
     "duration": 0.007814,
     "end_time": "2023-11-16T19:00:52.761175",
     "exception": false,
     "start_time": "2023-11-16T19:00:52.753361",
     "status": "completed"
    },
    "tags": []
   },
   "source": [
    "# Introduction\n",
    "The goal of this notebook is to apply different ML algorithms to preform regression on a car sales data to select the best algorithm for this purpose. That is, based on basic car data (model, power, fuel type, transmission, mileage and age), to choose the ML algorithms that predicts the cost of the car the best. "
   ]
  },
  {
   "cell_type": "code",
   "execution_count": 7,
   "id": "42864ebb",
   "metadata": {
    "execution": {
     "iopub.execute_input": "2023-11-16T19:00:52.777585Z",
     "iopub.status.busy": "2023-11-16T19:00:52.777151Z",
     "iopub.status.idle": "2023-11-16T19:00:53.168582Z",
     "shell.execute_reply": "2023-11-16T19:00:53.167489Z"
    },
    "papermill": {
     "duration": 0.402543,
     "end_time": "2023-11-16T19:00:53.171355",
     "exception": false,
     "start_time": "2023-11-16T19:00:52.768812",
     "status": "completed"
    },
    "tags": []
   },
   "outputs": [],
   "source": [
    "import pandas as pd\n",
    "import numpy as np"
   ]
  },
  {
   "cell_type": "code",
   "execution_count": 8,
   "id": "cbaa2b96",
   "metadata": {
    "execution": {
     "iopub.execute_input": "2023-11-16T19:00:53.187631Z",
     "iopub.status.busy": "2023-11-16T19:00:53.187104Z",
     "iopub.status.idle": "2023-11-16T19:00:53.192111Z",
     "shell.execute_reply": "2023-11-16T19:00:53.190937Z"
    },
    "papermill": {
     "duration": 0.015788,
     "end_time": "2023-11-16T19:00:53.194426",
     "exception": false,
     "start_time": "2023-11-16T19:00:53.178638",
     "status": "completed"
    },
    "tags": []
   },
   "outputs": [],
   "source": [
    "import time"
   ]
  },
  {
   "cell_type": "code",
   "execution_count": 9,
   "id": "cb336d2d",
   "metadata": {
    "execution": {
     "iopub.execute_input": "2023-11-16T19:00:53.210607Z",
     "iopub.status.busy": "2023-11-16T19:00:53.210207Z",
     "iopub.status.idle": "2023-11-16T19:00:54.553165Z",
     "shell.execute_reply": "2023-11-16T19:00:54.552040Z"
    },
    "papermill": {
     "duration": 1.354104,
     "end_time": "2023-11-16T19:00:54.555716",
     "exception": false,
     "start_time": "2023-11-16T19:00:53.201612",
     "status": "completed"
    },
    "tags": []
   },
   "outputs": [],
   "source": [
    "import seaborn as sns\n",
    "import matplotlib.pyplot as plt\n",
    "%matplotlib inline\n",
    "#plt.rcParams.update(plt.rcParamsDefault)"
   ]
  },
  {
   "cell_type": "code",
   "execution_count": 10,
   "id": "04ffccb1",
   "metadata": {
    "execution": {
     "iopub.execute_input": "2023-11-16T19:00:54.571929Z",
     "iopub.status.busy": "2023-11-16T19:00:54.571523Z",
     "iopub.status.idle": "2023-11-16T19:00:55.189293Z",
     "shell.execute_reply": "2023-11-16T19:00:55.188174Z"
    },
    "papermill": {
     "duration": 0.628718,
     "end_time": "2023-11-16T19:00:55.191865",
     "exception": false,
     "start_time": "2023-11-16T19:00:54.563147",
     "status": "completed"
    },
    "tags": []
   },
   "outputs": [],
   "source": [
    "#from sklearn.pipeline import Pipeline\n",
    "from sklearn.pipeline import make_pipeline\n",
    "from sklearn.model_selection import train_test_split\n",
    "\n",
    "from sklearn.preprocessing import MinMaxScaler\n",
    "from sklearn.linear_model import LogisticRegression\n",
    "from sklearn.linear_model import LinearRegression\n",
    "from sklearn.ensemble import RandomForestRegressor\n",
    "from sklearn.ensemble import IsolationForest\n",
    "from sklearn.ensemble import GradientBoostingRegressor\n",
    "from sklearn.neighbors import KNeighborsRegressor\n",
    "from sklearn.svm import SVR\n",
    "\n",
    "from sklearn.metrics import mean_squared_error\n",
    "from sklearn.metrics import mean_absolute_error\n",
    "from sklearn.metrics import mean_absolute_percentage_error\n",
    "from sklearn.metrics import r2_score"
   ]
  },
  {
   "cell_type": "markdown",
   "id": "7603c652",
   "metadata": {
    "papermill": {
     "duration": 0.006821,
     "end_time": "2023-11-16T19:00:55.205867",
     "exception": false,
     "start_time": "2023-11-16T19:00:55.199046",
     "status": "completed"
    },
    "tags": []
   },
   "source": [
    "# Read Data"
   ]
  },
  {
   "cell_type": "code",
   "execution_count": 11,
   "id": "6bf19323",
   "metadata": {
    "execution": {
     "iopub.execute_input": "2023-11-16T19:00:55.222311Z",
     "iopub.status.busy": "2023-11-16T19:00:55.221262Z",
     "iopub.status.idle": "2023-11-16T19:00:55.697305Z",
     "shell.execute_reply": "2023-11-16T19:00:55.696198Z"
    },
    "papermill": {
     "duration": 0.486981,
     "end_time": "2023-11-16T19:00:55.699857",
     "exception": false,
     "start_time": "2023-11-16T19:00:55.212876",
     "status": "completed"
    },
    "tags": []
   },
   "outputs": [
    {
     "data": {
      "text/html": [
       "<div>\n",
       "<style scoped>\n",
       "    .dataframe tbody tr th:only-of-type {\n",
       "        vertical-align: middle;\n",
       "    }\n",
       "\n",
       "    .dataframe tbody tr th {\n",
       "        vertical-align: top;\n",
       "    }\n",
       "\n",
       "    .dataframe thead th {\n",
       "        text-align: right;\n",
       "    }\n",
       "</style>\n",
       "<table border=\"1\" class=\"dataframe\">\n",
       "  <thead>\n",
       "    <tr style=\"text-align: right;\">\n",
       "      <th></th>\n",
       "      <th>Unnamed: 0</th>\n",
       "      <th>brand</th>\n",
       "      <th>model</th>\n",
       "      <th>price_in_euro</th>\n",
       "      <th>power_ps</th>\n",
       "      <th>transmission_type</th>\n",
       "      <th>fuel_type</th>\n",
       "      <th>mileage_in_km</th>\n",
       "      <th>car_age</th>\n",
       "    </tr>\n",
       "  </thead>\n",
       "  <tbody>\n",
       "    <tr>\n",
       "      <th>0</th>\n",
       "      <td>0</td>\n",
       "      <td>alfa-romeo</td>\n",
       "      <td>Alfa Romeo GTV</td>\n",
       "      <td>1300.0</td>\n",
       "      <td>201.0</td>\n",
       "      <td>Manual</td>\n",
       "      <td>Petrol</td>\n",
       "      <td>160500.0</td>\n",
       "      <td>27.7</td>\n",
       "    </tr>\n",
       "    <tr>\n",
       "      <th>1</th>\n",
       "      <td>3</td>\n",
       "      <td>alfa-romeo</td>\n",
       "      <td>Alfa Romeo Spider</td>\n",
       "      <td>4900.0</td>\n",
       "      <td>150.0</td>\n",
       "      <td>Manual</td>\n",
       "      <td>Petrol</td>\n",
       "      <td>189500.0</td>\n",
       "      <td>27.9</td>\n",
       "    </tr>\n",
       "    <tr>\n",
       "      <th>2</th>\n",
       "      <td>5</td>\n",
       "      <td>alfa-romeo</td>\n",
       "      <td>Alfa Romeo Spider</td>\n",
       "      <td>7900.0</td>\n",
       "      <td>150.0</td>\n",
       "      <td>Manual</td>\n",
       "      <td>Petrol</td>\n",
       "      <td>47307.0</td>\n",
       "      <td>27.2</td>\n",
       "    </tr>\n",
       "  </tbody>\n",
       "</table>\n",
       "</div>"
      ],
      "text/plain": [
       "   Unnamed: 0       brand              model  price_in_euro  power_ps  \\\n",
       "0           0  alfa-romeo     Alfa Romeo GTV         1300.0     201.0   \n",
       "1           3  alfa-romeo  Alfa Romeo Spider         4900.0     150.0   \n",
       "2           5  alfa-romeo  Alfa Romeo Spider         7900.0     150.0   \n",
       "\n",
       "  transmission_type fuel_type  mileage_in_km  car_age  \n",
       "0            Manual    Petrol       160500.0     27.7  \n",
       "1            Manual    Petrol       189500.0     27.9  \n",
       "2            Manual    Petrol        47307.0     27.2  "
      ]
     },
     "execution_count": 11,
     "metadata": {},
     "output_type": "execute_result"
    }
   ],
   "source": [
    "car_data_ML = pd.read_csv('car_data_ML.csv')\n",
    "car_data_ML.head(3)"
   ]
  },
  {
   "cell_type": "markdown",
   "id": "2192bf0e",
   "metadata": {
    "papermill": {
     "duration": 0.007029,
     "end_time": "2023-11-16T19:00:55.714408",
     "exception": false,
     "start_time": "2023-11-16T19:00:55.707379",
     "status": "completed"
    },
    "tags": []
   },
   "source": [
    "# Data Selection\n",
    "The ML algorithm selection is made based on a single car a close as it is possible based on the dataset. Each model is processed at once by the ML algorithm to avoid excessive memory usage. So for each car model an separate ML model is created. \n",
    "\n",
    "The dataset is grouped by models so that the model becomes an index in the dateframe and can be selected using this index when looping though the models later on. A good choice seems to be the most popular car VW Golf with 150 hp, manual transmission and pertrol engine. The issue here is that the number of datapoints is not enough for a single generation of VW Golf, therefore the age is limited to 11 years with encopasses VW Golf VI to VIII."
   ]
  },
  {
   "cell_type": "markdown",
   "id": "e4922120",
   "metadata": {
    "papermill": {
     "duration": 0.007639,
     "end_time": "2023-11-16T19:00:55.729870",
     "exception": false,
     "start_time": "2023-11-16T19:00:55.722231",
     "status": "completed"
    },
    "tags": []
   },
   "source": [
    "Creating a list of car models"
   ]
  },
  {
   "cell_type": "code",
   "execution_count": 12,
   "id": "f9fc4c1e",
   "metadata": {
    "execution": {
     "iopub.execute_input": "2023-11-16T19:00:55.746681Z",
     "iopub.status.busy": "2023-11-16T19:00:55.746301Z",
     "iopub.status.idle": "2023-11-16T19:00:55.836578Z",
     "shell.execute_reply": "2023-11-16T19:00:55.835413Z"
    },
    "papermill": {
     "duration": 0.101358,
     "end_time": "2023-11-16T19:00:55.838945",
     "exception": false,
     "start_time": "2023-11-16T19:00:55.737587",
     "status": "completed"
    },
    "tags": []
   },
   "outputs": [
    {
     "data": {
      "text/html": [
       "<div>\n",
       "<style scoped>\n",
       "    .dataframe tbody tr th:only-of-type {\n",
       "        vertical-align: middle;\n",
       "    }\n",
       "\n",
       "    .dataframe tbody tr th {\n",
       "        vertical-align: top;\n",
       "    }\n",
       "\n",
       "    .dataframe thead th {\n",
       "        text-align: right;\n",
       "    }\n",
       "</style>\n",
       "<table border=\"1\" class=\"dataframe\">\n",
       "  <thead>\n",
       "    <tr style=\"text-align: right;\">\n",
       "      <th></th>\n",
       "      <th>Unnamed: 0</th>\n",
       "      <th>brand</th>\n",
       "      <th>model</th>\n",
       "      <th>price_in_euro</th>\n",
       "      <th>power_ps</th>\n",
       "      <th>transmission_type</th>\n",
       "      <th>fuel_type</th>\n",
       "      <th>mileage_in_km</th>\n",
       "      <th>car_age</th>\n",
       "    </tr>\n",
       "  </thead>\n",
       "  <tbody>\n",
       "    <tr>\n",
       "      <th>89446</th>\n",
       "      <td>93699</td>\n",
       "      <td>lamborghini</td>\n",
       "      <td>Lamborghini</td>\n",
       "      <td>5890500.0</td>\n",
       "      <td>770.0</td>\n",
       "      <td>Automatic</td>\n",
       "      <td>Petrol</td>\n",
       "      <td>65.0</td>\n",
       "      <td>4.8</td>\n",
       "    </tr>\n",
       "    <tr>\n",
       "      <th>89584</th>\n",
       "      <td>93840</td>\n",
       "      <td>lamborghini</td>\n",
       "      <td>Lamborghini</td>\n",
       "      <td>3250000.0</td>\n",
       "      <td>818.0</td>\n",
       "      <td>Automatic</td>\n",
       "      <td>Hybrid</td>\n",
       "      <td>177.0</td>\n",
       "      <td>1.6</td>\n",
       "    </tr>\n",
       "    <tr>\n",
       "      <th>102000</th>\n",
       "      <td>106583</td>\n",
       "      <td>mercedes-benz</td>\n",
       "      <td>Mercedes-Benz SLR</td>\n",
       "      <td>2490000.0</td>\n",
       "      <td>650.0</td>\n",
       "      <td>Automatic</td>\n",
       "      <td>Petrol</td>\n",
       "      <td>15793.0</td>\n",
       "      <td>16.4</td>\n",
       "    </tr>\n",
       "  </tbody>\n",
       "</table>\n",
       "</div>"
      ],
      "text/plain": [
       "        Unnamed: 0          brand              model  price_in_euro  power_ps  \\\n",
       "89446        93699    lamborghini        Lamborghini      5890500.0     770.0   \n",
       "89584        93840    lamborghini        Lamborghini      3250000.0     818.0   \n",
       "102000      106583  mercedes-benz  Mercedes-Benz SLR      2490000.0     650.0   \n",
       "\n",
       "       transmission_type fuel_type  mileage_in_km  car_age  \n",
       "89446          Automatic    Petrol           65.0      4.8  \n",
       "89584          Automatic    Hybrid          177.0      1.6  \n",
       "102000         Automatic    Petrol        15793.0     16.4  "
      ]
     },
     "execution_count": 12,
     "metadata": {},
     "output_type": "execute_result"
    }
   ],
   "source": [
    "car_data_ML.sort_values(by='price_in_euro',ascending=False).head(3)"
   ]
  },
  {
   "cell_type": "code",
   "execution_count": 13,
   "id": "aa26d9c9",
   "metadata": {
    "execution": {
     "iopub.execute_input": "2023-11-16T19:00:55.855888Z",
     "iopub.status.busy": "2023-11-16T19:00:55.855476Z",
     "iopub.status.idle": "2023-11-16T19:00:55.923965Z",
     "shell.execute_reply": "2023-11-16T19:00:55.922699Z"
    },
    "papermill": {
     "duration": 0.08003,
     "end_time": "2023-11-16T19:00:55.926552",
     "exception": false,
     "start_time": "2023-11-16T19:00:55.846522",
     "status": "completed"
    },
    "tags": []
   },
   "outputs": [],
   "source": [
    "car_data_ML = car_data_ML[(car_data_ML['model']=='Volkswagen Golf') &\\\n",
    "                          (car_data_ML['power_ps']==150) &\\\n",
    "                          (car_data_ML['transmission_type']=='Manual') &\\\n",
    "                            (car_data_ML['fuel_type']=='Petrol') &\\\n",
    "                          (car_data_ML['car_age']<11)]                       "
   ]
  },
  {
   "cell_type": "markdown",
   "id": "5ba3c6e3",
   "metadata": {
    "papermill": {
     "duration": 0.007286,
     "end_time": "2023-11-16T19:00:55.941535",
     "exception": false,
     "start_time": "2023-11-16T19:00:55.934249",
     "status": "completed"
    },
    "tags": []
   },
   "source": [
    "# Machine Learning"
   ]
  },
  {
   "cell_type": "code",
   "execution_count": 14,
   "id": "6717f64f",
   "metadata": {
    "execution": {
     "iopub.execute_input": "2023-11-16T19:00:55.958329Z",
     "iopub.status.busy": "2023-11-16T19:00:55.957951Z",
     "iopub.status.idle": "2023-11-16T19:00:55.981303Z",
     "shell.execute_reply": "2023-11-16T19:00:55.980129Z"
    },
    "papermill": {
     "duration": 0.034398,
     "end_time": "2023-11-16T19:00:55.983599",
     "exception": false,
     "start_time": "2023-11-16T19:00:55.949201",
     "status": "completed"
    },
    "tags": []
   },
   "outputs": [
    {
     "data": {
      "text/html": [
       "<div>\n",
       "<style scoped>\n",
       "    .dataframe tbody tr th:only-of-type {\n",
       "        vertical-align: middle;\n",
       "    }\n",
       "\n",
       "    .dataframe tbody tr th {\n",
       "        vertical-align: top;\n",
       "    }\n",
       "\n",
       "    .dataframe thead th {\n",
       "        text-align: right;\n",
       "    }\n",
       "</style>\n",
       "<table border=\"1\" class=\"dataframe\">\n",
       "  <thead>\n",
       "    <tr style=\"text-align: right;\">\n",
       "      <th></th>\n",
       "      <th>Unnamed: 0</th>\n",
       "      <th>brand</th>\n",
       "      <th>model</th>\n",
       "      <th>price_in_euro</th>\n",
       "      <th>power_ps</th>\n",
       "      <th>transmission_type</th>\n",
       "      <th>fuel_type</th>\n",
       "      <th>mileage_in_km</th>\n",
       "      <th>car_age</th>\n",
       "    </tr>\n",
       "  </thead>\n",
       "  <tbody>\n",
       "    <tr>\n",
       "      <th>217834</th>\n",
       "      <td>227427</td>\n",
       "      <td>volkswagen</td>\n",
       "      <td>Volkswagen Golf</td>\n",
       "      <td>15650.0</td>\n",
       "      <td>150.0</td>\n",
       "      <td>Manual</td>\n",
       "      <td>Petrol</td>\n",
       "      <td>84500.0</td>\n",
       "      <td>8.8</td>\n",
       "    </tr>\n",
       "    <tr>\n",
       "      <th>217837</th>\n",
       "      <td>227430</td>\n",
       "      <td>volkswagen</td>\n",
       "      <td>Volkswagen Golf</td>\n",
       "      <td>13300.0</td>\n",
       "      <td>150.0</td>\n",
       "      <td>Manual</td>\n",
       "      <td>Petrol</td>\n",
       "      <td>79000.0</td>\n",
       "      <td>8.8</td>\n",
       "    </tr>\n",
       "    <tr>\n",
       "      <th>217863</th>\n",
       "      <td>227457</td>\n",
       "      <td>volkswagen</td>\n",
       "      <td>Volkswagen Golf</td>\n",
       "      <td>14444.0</td>\n",
       "      <td>150.0</td>\n",
       "      <td>Manual</td>\n",
       "      <td>Petrol</td>\n",
       "      <td>111300.0</td>\n",
       "      <td>8.9</td>\n",
       "    </tr>\n",
       "    <tr>\n",
       "      <th>218077</th>\n",
       "      <td>227672</td>\n",
       "      <td>volkswagen</td>\n",
       "      <td>Volkswagen Golf</td>\n",
       "      <td>15950.0</td>\n",
       "      <td>150.0</td>\n",
       "      <td>Manual</td>\n",
       "      <td>Petrol</td>\n",
       "      <td>112741.0</td>\n",
       "      <td>9.1</td>\n",
       "    </tr>\n",
       "    <tr>\n",
       "      <th>218285</th>\n",
       "      <td>227881</td>\n",
       "      <td>volkswagen</td>\n",
       "      <td>Volkswagen Golf</td>\n",
       "      <td>14900.0</td>\n",
       "      <td>150.0</td>\n",
       "      <td>Manual</td>\n",
       "      <td>Petrol</td>\n",
       "      <td>106000.0</td>\n",
       "      <td>8.8</td>\n",
       "    </tr>\n",
       "    <tr>\n",
       "      <th>...</th>\n",
       "      <td>...</td>\n",
       "      <td>...</td>\n",
       "      <td>...</td>\n",
       "      <td>...</td>\n",
       "      <td>...</td>\n",
       "      <td>...</td>\n",
       "      <td>...</td>\n",
       "      <td>...</td>\n",
       "      <td>...</td>\n",
       "    </tr>\n",
       "    <tr>\n",
       "      <th>235769</th>\n",
       "      <td>245671</td>\n",
       "      <td>volkswagen</td>\n",
       "      <td>Volkswagen Golf</td>\n",
       "      <td>32448.0</td>\n",
       "      <td>150.0</td>\n",
       "      <td>Manual</td>\n",
       "      <td>Petrol</td>\n",
       "      <td>10.0</td>\n",
       "      <td>0.3</td>\n",
       "    </tr>\n",
       "    <tr>\n",
       "      <th>235800</th>\n",
       "      <td>245702</td>\n",
       "      <td>volkswagen</td>\n",
       "      <td>Volkswagen Golf</td>\n",
       "      <td>28990.0</td>\n",
       "      <td>150.0</td>\n",
       "      <td>Manual</td>\n",
       "      <td>Petrol</td>\n",
       "      <td>10.0</td>\n",
       "      <td>0.2</td>\n",
       "    </tr>\n",
       "    <tr>\n",
       "      <th>235986</th>\n",
       "      <td>245901</td>\n",
       "      <td>volkswagen</td>\n",
       "      <td>Volkswagen Golf</td>\n",
       "      <td>29475.0</td>\n",
       "      <td>150.0</td>\n",
       "      <td>Manual</td>\n",
       "      <td>Petrol</td>\n",
       "      <td>10.0</td>\n",
       "      <td>0.1</td>\n",
       "    </tr>\n",
       "    <tr>\n",
       "      <th>236016</th>\n",
       "      <td>245937</td>\n",
       "      <td>volkswagen</td>\n",
       "      <td>Volkswagen Golf</td>\n",
       "      <td>36480.0</td>\n",
       "      <td>150.0</td>\n",
       "      <td>Manual</td>\n",
       "      <td>Petrol</td>\n",
       "      <td>4900.0</td>\n",
       "      <td>0.3</td>\n",
       "    </tr>\n",
       "    <tr>\n",
       "      <th>236278</th>\n",
       "      <td>246239</td>\n",
       "      <td>volkswagen</td>\n",
       "      <td>Volkswagen Golf</td>\n",
       "      <td>31911.0</td>\n",
       "      <td>150.0</td>\n",
       "      <td>Manual</td>\n",
       "      <td>Petrol</td>\n",
       "      <td>10.0</td>\n",
       "      <td>0.2</td>\n",
       "    </tr>\n",
       "  </tbody>\n",
       "</table>\n",
       "<p>240 rows × 9 columns</p>\n",
       "</div>"
      ],
      "text/plain": [
       "        Unnamed: 0       brand            model  price_in_euro  power_ps  \\\n",
       "217834      227427  volkswagen  Volkswagen Golf        15650.0     150.0   \n",
       "217837      227430  volkswagen  Volkswagen Golf        13300.0     150.0   \n",
       "217863      227457  volkswagen  Volkswagen Golf        14444.0     150.0   \n",
       "218077      227672  volkswagen  Volkswagen Golf        15950.0     150.0   \n",
       "218285      227881  volkswagen  Volkswagen Golf        14900.0     150.0   \n",
       "...            ...         ...              ...            ...       ...   \n",
       "235769      245671  volkswagen  Volkswagen Golf        32448.0     150.0   \n",
       "235800      245702  volkswagen  Volkswagen Golf        28990.0     150.0   \n",
       "235986      245901  volkswagen  Volkswagen Golf        29475.0     150.0   \n",
       "236016      245937  volkswagen  Volkswagen Golf        36480.0     150.0   \n",
       "236278      246239  volkswagen  Volkswagen Golf        31911.0     150.0   \n",
       "\n",
       "       transmission_type fuel_type  mileage_in_km  car_age  \n",
       "217834            Manual    Petrol        84500.0      8.8  \n",
       "217837            Manual    Petrol        79000.0      8.8  \n",
       "217863            Manual    Petrol       111300.0      8.9  \n",
       "218077            Manual    Petrol       112741.0      9.1  \n",
       "218285            Manual    Petrol       106000.0      8.8  \n",
       "...                  ...       ...            ...      ...  \n",
       "235769            Manual    Petrol           10.0      0.3  \n",
       "235800            Manual    Petrol           10.0      0.2  \n",
       "235986            Manual    Petrol           10.0      0.1  \n",
       "236016            Manual    Petrol         4900.0      0.3  \n",
       "236278            Manual    Petrol           10.0      0.2  \n",
       "\n",
       "[240 rows x 9 columns]"
      ]
     },
     "execution_count": 14,
     "metadata": {},
     "output_type": "execute_result"
    }
   ],
   "source": [
    "car_data_ML"
   ]
  },
  {
   "cell_type": "markdown",
   "id": "6160b81c",
   "metadata": {
    "papermill": {
     "duration": 0.00829,
     "end_time": "2023-11-16T19:00:56.000203",
     "exception": false,
     "start_time": "2023-11-16T19:00:55.991913",
     "status": "completed"
    },
    "tags": []
   },
   "source": [
    "**The remaining dateset consists of 240 datapoints and should be enough to get an idea how the different algorithms perform**"
   ]
  },
  {
   "cell_type": "markdown",
   "id": "2baf4227",
   "metadata": {
    "papermill": {
     "duration": 0.00774,
     "end_time": "2023-11-16T19:00:56.015987",
     "exception": false,
     "start_time": "2023-11-16T19:00:56.008247",
     "status": "completed"
    },
    "tags": []
   },
   "source": [
    "## Creating Pipeline\n",
    "Using a scikit learn pipeline a function that loops through the previously created list of car models the same piece of code can be reused to try out several ML algorhithms to compare the peformance."
   ]
  },
  {
   "cell_type": "code",
   "execution_count": 15,
   "id": "b4f17212",
   "metadata": {
    "execution": {
     "iopub.execute_input": "2023-11-16T19:00:56.034691Z",
     "iopub.status.busy": "2023-11-16T19:00:56.034305Z",
     "iopub.status.idle": "2023-11-16T19:00:56.045771Z",
     "shell.execute_reply": "2023-11-16T19:00:56.044793Z"
    },
    "papermill": {
     "duration": 0.024199,
     "end_time": "2023-11-16T19:00:56.048312",
     "exception": false,
     "start_time": "2023-11-16T19:00:56.024113",
     "status": "completed"
    },
    "tags": []
   },
   "outputs": [],
   "source": [
    "def predict(steps,car_data_ML):\n",
    "    #print(steps)\n",
    "    start = time.time()\n",
    "    r2 = []\n",
    "    mape = []\n",
    "    #car_data_ML = car_data_ML.loc[model].reset_index()\n",
    "    cat_feat = car_data_ML[['transmission_type','fuel_type']]\n",
    "    cont_feat = car_data_ML[['price_in_euro','power_ps','mileage_in_km','car_age']]\n",
    "    dummies = pd.get_dummies(cat_feat,drop_first=False)\n",
    "    car_data_ML = pd.concat([cont_feat,dummies],axis=1)\n",
    "    y = car_data_ML['price_in_euro'].values\n",
    "    X = car_data_ML.drop(columns=['price_in_euro']).values\n",
    "    X_train, X_test, y_train, y_test = train_test_split(X, y, test_size=0.3, random_state=0)\n",
    "    pipeline = make_pipeline(*steps)\n",
    "    pipeline.fit(X_train, y_train)\n",
    "    predictions = pipeline.predict(X_test) \n",
    "    r2.append(r2_score(y_test, predictions))\n",
    "    mape.append(mean_absolute_percentage_error(y_test, predictions))\n",
    "    end = time.time()\n",
    "    print(f'Completed in {np.round((end - start),decimals=2)} seconds\\n\\\n",
    "Mean r2 value for all models is {np.round(sum(r2)/len(r2),decimals=2)}\\n\\\n",
    "Mean mape value for all models is {np.round(sum(mape)/len(mape)*100,decimals=1)} %')\n",
    "    return((X_train,y_train,X_test,y_test,predictions))      "
   ]
  },
  {
   "cell_type": "markdown",
   "id": "9d3d580a",
   "metadata": {
    "papermill": {
     "duration": 0.007787,
     "end_time": "2023-11-16T19:00:56.064231",
     "exception": false,
     "start_time": "2023-11-16T19:00:56.056444",
     "status": "completed"
    },
    "tags": []
   },
   "source": [
    "## Creating plot function to visualize the perfromance of an ML algorithm"
   ]
  },
  {
   "cell_type": "code",
   "execution_count": 16,
   "id": "f5fe9ebc",
   "metadata": {
    "execution": {
     "iopub.execute_input": "2023-11-16T19:00:56.082408Z",
     "iopub.status.busy": "2023-11-16T19:00:56.082038Z",
     "iopub.status.idle": "2023-11-16T19:00:56.089702Z",
     "shell.execute_reply": "2023-11-16T19:00:56.088432Z"
    },
    "papermill": {
     "duration": 0.019449,
     "end_time": "2023-11-16T19:00:56.092007",
     "exception": false,
     "start_time": "2023-11-16T19:00:56.072558",
     "status": "completed"
    },
    "tags": []
   },
   "outputs": [],
   "source": [
    "def plot_results(X_train,y_train,X_test,y_test,predictions):\n",
    "    fig, (ax1, ax2) = plt.subplots(1, 2,figsize=(12,5),sharey=True)\n",
    "    fig.tight_layout()\n",
    "    ax1.scatter(x=X_train[:,1],y=y_train,color='blue',alpha=0.5,label='y_train')\n",
    "    ax1.set_title('Training Data')\n",
    "    ax1.set_ylabel('Price in Euro')\n",
    "    ax1.legend()\n",
    "    ax2.scatter(x=X_test[:,1],y=y_test,color='blue',alpha=0.5,label='y_test')\n",
    "    ax2.scatter(x=X_test[:,1],y=predictions,color='red',alpha=0.5,label='predictions')\n",
    "    ax2.set_title('Testing Data vs Predictions')\n",
    "    ax2.legend()\n",
    "    fig.text(0.5,-0.02, \"Mileage in km\", ha=\"center\", va=\"center\")\n",
    "    plt.show() "
   ]
  },
  {
   "cell_type": "markdown",
   "id": "65252952",
   "metadata": {
    "papermill": {
     "duration": 0.007528,
     "end_time": "2023-11-16T19:00:56.107612",
     "exception": false,
     "start_time": "2023-11-16T19:00:56.100084",
     "status": "completed"
    },
    "tags": []
   },
   "source": [
    "## Training and Predictions"
   ]
  },
  {
   "cell_type": "markdown",
   "id": "64d3d197",
   "metadata": {
    "papermill": {
     "duration": 0.007657,
     "end_time": "2023-11-16T19:00:56.123096",
     "exception": false,
     "start_time": "2023-11-16T19:00:56.115439",
     "status": "completed"
    },
    "tags": []
   },
   "source": [
    "### Linear Regression"
   ]
  },
  {
   "cell_type": "code",
   "execution_count": 17,
   "id": "ffd62264",
   "metadata": {
    "execution": {
     "iopub.execute_input": "2023-11-16T19:00:56.140526Z",
     "iopub.status.busy": "2023-11-16T19:00:56.140162Z",
     "iopub.status.idle": "2023-11-16T19:00:56.180819Z",
     "shell.execute_reply": "2023-11-16T19:00:56.179752Z"
    },
    "papermill": {
     "duration": 0.052383,
     "end_time": "2023-11-16T19:00:56.183314",
     "exception": false,
     "start_time": "2023-11-16T19:00:56.130931",
     "status": "completed"
    },
    "tags": []
   },
   "outputs": [
    {
     "name": "stdout",
     "output_type": "stream",
     "text": [
      "Completed in 0.05 seconds\n",
      "Mean r2 value for all models is 0.55\n",
      "Mean mape value for all models is 10.6 %\n"
     ]
    }
   ],
   "source": [
    "(X_train,y_train,X_test,y_test,predictions) = predict((MinMaxScaler(), LinearRegression()),car_data_ML)"
   ]
  },
  {
   "cell_type": "code",
   "execution_count": 18,
   "id": "5f076d3d",
   "metadata": {
    "execution": {
     "iopub.execute_input": "2023-11-16T19:00:56.201645Z",
     "iopub.status.busy": "2023-11-16T19:00:56.200652Z",
     "iopub.status.idle": "2023-11-16T19:00:56.844546Z",
     "shell.execute_reply": "2023-11-16T19:00:56.843715Z"
    },
    "papermill": {
     "duration": 0.655113,
     "end_time": "2023-11-16T19:00:56.846587",
     "exception": false,
     "start_time": "2023-11-16T19:00:56.191474",
     "status": "completed"
    },
    "tags": []
   },
   "outputs": [
    {
     "data": {
      "image/png": "[encoded data removed]",
      "text/plain": [
       "<Figure size 864x360 with 2 Axes>"
      ]
     },
     "metadata": {
      "needs_background": "light"
     },
     "output_type": "display_data"
    }
   ],
   "source": [
    "plot_results(X_train,y_train,X_test,y_test,predictions)"
   ]
  },
  {
   "cell_type": "markdown",
   "id": "19a3a70a",
   "metadata": {
    "papermill": {
     "duration": 0.008807,
     "end_time": "2023-11-16T19:00:56.864324",
     "exception": false,
     "start_time": "2023-11-16T19:00:56.855517",
     "status": "completed"
    },
    "tags": []
   },
   "source": [
    "### K Neighbours Regression"
   ]
  },
  {
   "cell_type": "code",
   "execution_count": 19,
   "id": "4d8e93c8",
   "metadata": {
    "execution": {
     "iopub.execute_input": "2023-11-16T19:00:56.884823Z",
     "iopub.status.busy": "2023-11-16T19:00:56.883997Z",
     "iopub.status.idle": "2023-11-16T19:00:56.900921Z",
     "shell.execute_reply": "2023-11-16T19:00:56.900048Z"
    },
    "papermill": {
     "duration": 0.03018,
     "end_time": "2023-11-16T19:00:56.903549",
     "exception": false,
     "start_time": "2023-11-16T19:00:56.873369",
     "status": "completed"
    },
    "tags": []
   },
   "outputs": [
    {
     "name": "stdout",
     "output_type": "stream",
     "text": [
      "Completed in 0.02 seconds\n",
      "Mean r2 value for all models is 0.63\n",
      "Mean mape value for all models is 8.8 %\n"
     ]
    }
   ],
   "source": [
    "(X_train,y_train,X_test,y_test,predictions) = predict((MinMaxScaler(), KNeighborsRegressor(n_neighbors=15)),car_data_ML)"
   ]
  },
  {
   "cell_type": "code",
   "execution_count": 20,
   "id": "88bdae75",
   "metadata": {
    "execution": {
     "iopub.execute_input": "2023-11-16T19:00:56.923688Z",
     "iopub.status.busy": "2023-11-16T19:00:56.923268Z",
     "iopub.status.idle": "2023-11-16T19:00:57.545663Z",
     "shell.execute_reply": "2023-11-16T19:00:57.544591Z"
    },
    "papermill": {
     "duration": 0.635175,
     "end_time": "2023-11-16T19:00:57.548046",
     "exception": false,
     "start_time": "2023-11-16T19:00:56.912871",
     "status": "completed"
    },
    "tags": []
   },
   "outputs": [
    {
     "data": {
      "image/png": "[encoded data removed]",
      "text/plain": [
       "<Figure size 864x360 with 2 Axes>"
      ]
     },
     "metadata": {
      "needs_background": "light"
     },
     "output_type": "display_data"
    }
   ],
   "source": [
    "plot_results(X_train,y_train,X_test,y_test,predictions)"
   ]
  },
  {
   "cell_type": "markdown",
   "id": "bf28b0fb",
   "metadata": {
    "papermill": {
     "duration": 0.010326,
     "end_time": "2023-11-16T19:00:57.568637",
     "exception": false,
     "start_time": "2023-11-16T19:00:57.558311",
     "status": "completed"
    },
    "tags": []
   },
   "source": [
    "### Support Vector Machines Regression"
   ]
  },
  {
   "cell_type": "code",
   "execution_count": 21,
   "id": "18db296a",
   "metadata": {
    "execution": {
     "iopub.execute_input": "2023-11-16T19:00:57.591158Z",
     "iopub.status.busy": "2023-11-16T19:00:57.590750Z",
     "iopub.status.idle": "2023-11-16T19:00:57.609657Z",
     "shell.execute_reply": "2023-11-16T19:00:57.608538Z"
    },
    "papermill": {
     "duration": 0.032666,
     "end_time": "2023-11-16T19:00:57.611954",
     "exception": false,
     "start_time": "2023-11-16T19:00:57.579288",
     "status": "completed"
    },
    "tags": []
   },
   "outputs": [
    {
     "name": "stdout",
     "output_type": "stream",
     "text": [
      "Completed in 0.02 seconds\n",
      "Mean r2 value for all models is 0.54\n",
      "Mean mape value for all models is 8.1 %\n"
     ]
    }
   ],
   "source": [
    "(X_train,y_train,X_test,y_test,predictions) = predict(( MinMaxScaler(), SVR(C=2000)),car_data_ML)"
   ]
  },
  {
   "cell_type": "code",
   "execution_count": 22,
   "id": "2dd9ac58",
   "metadata": {
    "execution": {
     "iopub.execute_input": "2023-11-16T19:00:57.634817Z",
     "iopub.status.busy": "2023-11-16T19:00:57.633821Z",
     "iopub.status.idle": "2023-11-16T19:00:58.251922Z",
     "shell.execute_reply": "2023-11-16T19:00:58.250774Z"
    },
    "papermill": {
     "duration": 0.632424,
     "end_time": "2023-11-16T19:00:58.254773",
     "exception": false,
     "start_time": "2023-11-16T19:00:57.622349",
     "status": "completed"
    },
    "tags": []
   },
   "outputs": [
    {
     "data": {
      "image/png": "[encoded data removed]",
      "text/plain": [
       "<Figure size 864x360 with 2 Axes>"
      ]
     },
     "metadata": {
      "needs_background": "light"
     },
     "output_type": "display_data"
    }
   ],
   "source": [
    "plot_results(X_train,y_train,X_test,y_test,predictions)"
   ]
  },
  {
   "cell_type": "markdown",
   "id": "b9fb6a0d",
   "metadata": {
    "papermill": {
     "duration": 0.012503,
     "end_time": "2023-11-16T19:00:58.279611",
     "exception": false,
     "start_time": "2023-11-16T19:00:58.267108",
     "status": "completed"
    },
    "tags": []
   },
   "source": [
    "### Random Forest Regression"
   ]
  },
  {
   "cell_type": "code",
   "execution_count": 23,
   "id": "b8f5c772",
   "metadata": {
    "execution": {
     "iopub.execute_input": "2023-11-16T19:00:58.306071Z",
     "iopub.status.busy": "2023-11-16T19:00:58.305620Z",
     "iopub.status.idle": "2023-11-16T19:00:58.477848Z",
     "shell.execute_reply": "2023-11-16T19:00:58.476577Z"
    },
    "papermill": {
     "duration": 0.189153,
     "end_time": "2023-11-16T19:00:58.480305",
     "exception": false,
     "start_time": "2023-11-16T19:00:58.291152",
     "status": "completed"
    },
    "tags": []
   },
   "outputs": [
    {
     "name": "stdout",
     "output_type": "stream",
     "text": [
      "Completed in 0.15 seconds\n",
      "Mean r2 value for all models is 0.59\n",
      "Mean mape value for all models is 10.4 %\n"
     ]
    }
   ],
   "source": [
    "(X_train,y_train,X_test,y_test,predictions) = predict((MinMaxScaler(), RandomForestRegressor(n_estimators=100)),car_data_ML)"
   ]
  },
  {
   "cell_type": "code",
   "execution_count": 24,
   "id": "fb61e44d",
   "metadata": {
    "execution": {
     "iopub.execute_input": "2023-11-16T19:00:58.505284Z",
     "iopub.status.busy": "2023-11-16T19:00:58.504894Z",
     "iopub.status.idle": "2023-11-16T19:00:59.162408Z",
     "shell.execute_reply": "2023-11-16T19:00:59.161118Z"
    },
    "papermill": {
     "duration": 0.672589,
     "end_time": "2023-11-16T19:00:59.164665",
     "exception": false,
     "start_time": "2023-11-16T19:00:58.492076",
     "status": "completed"
    },
    "tags": []
   },
   "outputs": [
    {
     "data": {
      "image/png": "[encoded data removed]",
      "text/plain": [
       "<Figure size 864x360 with 2 Axes>"
      ]
     },
     "metadata": {
      "needs_background": "light"
     },
     "output_type": "display_data"
    }
   ],
   "source": [
    "plot_results(X_train,y_train,X_test,y_test,predictions)"
   ]
  },
  {
   "cell_type": "markdown",
   "id": "43fe50f7",
   "metadata": {
    "papermill": {
     "duration": 0.015659,
     "end_time": "2023-11-16T19:00:59.192869",
     "exception": false,
     "start_time": "2023-11-16T19:00:59.177210",
     "status": "completed"
    },
    "tags": []
   },
   "source": [
    "### Gradient Boost Regression"
   ]
  },
  {
   "cell_type": "code",
   "execution_count": 25,
   "id": "b7dc5d92",
   "metadata": {
    "execution": {
     "iopub.execute_input": "2023-11-16T19:00:59.296494Z",
     "iopub.status.busy": "2023-11-16T19:00:59.296034Z",
     "iopub.status.idle": "2023-11-16T19:00:59.383717Z",
     "shell.execute_reply": "2023-11-16T19:00:59.382363Z"
    },
    "papermill": {
     "duration": 0.179711,
     "end_time": "2023-11-16T19:00:59.386372",
     "exception": false,
     "start_time": "2023-11-16T19:00:59.206661",
     "status": "completed"
    },
    "tags": []
   },
   "outputs": [
    {
     "name": "stdout",
     "output_type": "stream",
     "text": [
      "Completed in 0.04 seconds\n",
      "Mean r2 value for all models is 0.57\n",
      "Mean mape value for all models is 10.1 %\n"
     ]
    }
   ],
   "source": [
    "(X_train,y_train,X_test,y_test,predictions) = predict((MinMaxScaler(), GradientBoostingRegressor()),car_data_ML)"
   ]
  },
  {
   "cell_type": "code",
   "execution_count": 26,
   "id": "7d8b653b",
   "metadata": {
    "execution": {
     "iopub.execute_input": "2023-11-16T19:00:59.416282Z",
     "iopub.status.busy": "2023-11-16T19:00:59.415779Z",
     "iopub.status.idle": "2023-11-16T19:01:00.063039Z",
     "shell.execute_reply": "2023-11-16T19:01:00.061821Z"
    },
    "papermill": {
     "duration": 0.666441,
     "end_time": "2023-11-16T19:01:00.066122",
     "exception": false,
     "start_time": "2023-11-16T19:00:59.399681",
     "status": "completed"
    },
    "tags": []
   },
   "outputs": [
    {
     "data": {
      "image/png": "[encoded data removed]",
      "text/plain": [
       "<Figure size 864x360 with 2 Axes>"
      ]
     },
     "metadata": {
      "needs_background": "light"
     },
     "output_type": "display_data"
    }
   ],
   "source": [
    "plot_results(X_train,y_train,X_test,y_test,predictions)"
   ]
  },
  {
   "cell_type": "markdown",
   "id": "4a64009a",
   "metadata": {
    "papermill": {
     "duration": 0.01438,
     "end_time": "2023-11-16T19:01:00.095555",
     "exception": false,
     "start_time": "2023-11-16T19:01:00.081175",
     "status": "completed"
    },
    "tags": []
   },
   "source": [
    "# Conclusion\n",
    "It can be seen that all of the sected algrithm apprximate the data well considering the data quality. The K Neighbors performs among the best of the selected ML algorithms and it is also the fastest. Therefore K Neighbors is chosen for the dateset. "
   ]
  }
 ],
 "metadata": {
  "kaggle": {
   "accelerator": "none",
   "dataSources": [
    {
     "datasetId": 3443343,
     "sourceId": 6014781,
     "sourceType": "datasetVersion"
    },
    {
     "sourceId": 151014100,
     "sourceType": "kernelVersion"
    }
   ],
   "dockerImageVersionId": 30587,
   "isGpuEnabled": false,
   "isInternetEnabled": true,
   "language": "python",
   "sourceType": "notebook"
  },
  "kernelspec": {
   "display_name": "Python 3 (ipykernel)",
   "language": "python",
   "name": "python3"
  },
  "language_info": {
   "codemirror_mode": {
    "name": "ipython",
    "version": 3
   },
   "file_extension": ".py",
   "mimetype": "text/x-python",
   "name": "python",
   "nbconvert_exporter": "python",
   "pygments_lexer": "ipython3",
   "version": "3.9.12"
  },
  "papermill": {
   "default_parameters": {},
   "duration": 11.254846,
   "end_time": "2023-11-16T19:01:00.831077",
   "environment_variables": {},
   "exception": null,
   "input_path": "__notebook__.ipynb",
   "output_path": "__notebook__.ipynb",
   "parameters": {},
   "start_time": "2023-11-16T19:00:49.576231",
   "version": "2.4.0"
  }
 },
 "nbformat": 4,
 "nbformat_minor": 5
}
