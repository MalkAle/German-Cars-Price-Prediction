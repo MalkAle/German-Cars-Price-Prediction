{
 "cells": [
  {
   "cell_type": "markdown",
   "id": "8ed50363",
   "metadata": {},
   "source": [
    "# Introduction\n",
    "In this notebook the goal is to create a more robust and easy to understand, use and maintain code for preprocessing of data and model creation using the sklearn make_column_selector, make_column_transformer as well as model creation using make_pipeline. In addition, I have added model optimization with GridSearchCV and a prediction of one single datapoint. "
   ]
  },
  {
   "cell_type": "markdown",
   "id": "23697e0f",
   "metadata": {},
   "source": [
    "# Imports"
   ]
  },
  {
   "cell_type": "code",
   "execution_count": 397,
   "id": "5f91d244",
   "metadata": {},
   "outputs": [],
   "source": [
    "import pandas as pd\n",
    "import numpy as np"
   ]
  },
  {
   "cell_type": "code",
   "execution_count": 398,
   "id": "c0a9b22f",
   "metadata": {},
   "outputs": [],
   "source": [
    "import time"
   ]
  },
  {
   "cell_type": "code",
   "execution_count": 399,
   "id": "0f13eacd",
   "metadata": {},
   "outputs": [],
   "source": [
    "import seaborn as sns\n",
    "import matplotlib.pyplot as plt\n",
    "%matplotlib inline\n",
    "#plt.rcParams.update(plt.rcParamsDefault)"
   ]
  },
  {
   "cell_type": "code",
   "execution_count": 400,
   "id": "8b139ff7",
   "metadata": {},
   "outputs": [],
   "source": [
    "#from sklearn.pipeline import Pipeline\n",
    "from sklearn.pipeline import make_pipeline\n",
    "\n",
    "from sklearn.model_selection import train_test_split\n",
    "from sklearn.model_selection import GridSearchCV\n",
    "\n",
    "#from sklearn_pandas import DataFrameMapper\n",
    "from sklearn.preprocessing import MinMaxScaler\n",
    "from sklearn.preprocessing import OneHotEncoder\n",
    "\n",
    "#from sklearn.compose import ColumnTransformer\n",
    "from sklearn.compose import make_column_selector\n",
    "from sklearn.compose import make_column_transformer\n",
    "\n",
    "#from sklearn.linear_model import LinearRegression\n",
    "#from sklearn.ensemble import RandomForestRegressor\n",
    "#from sklearn.ensemble import GradientBoostingRegressor\n",
    "from sklearn.neighbors import KNeighborsRegressor\n",
    "#from sklearn.svm import SVR\n",
    "\n",
    "#from sklearn.metrics import mean_squared_error\n",
    "#from sklearn.metrics import mean_absolute_error\n",
    "#from sklearn.metrics import mean_absolute_percentage_error\n",
    "#from sklearn.metrics import r2_score"
   ]
  },
  {
   "cell_type": "code",
   "execution_count": 401,
   "id": "f265235b",
   "metadata": {},
   "outputs": [],
   "source": [
    "from joblib import dump, load"
   ]
  },
  {
   "cell_type": "markdown",
   "id": "930b8be6",
   "metadata": {},
   "source": [
    "# Read Data"
   ]
  },
  {
   "cell_type": "code",
   "execution_count": 402,
   "id": "0437bc2d",
   "metadata": {},
   "outputs": [
    {
     "data": {
      "text/html": [
       "<div>\n",
       "<style scoped>\n",
       "    .dataframe tbody tr th:only-of-type {\n",
       "        vertical-align: middle;\n",
       "    }\n",
       "\n",
       "    .dataframe tbody tr th {\n",
       "        vertical-align: top;\n",
       "    }\n",
       "\n",
       "    .dataframe thead th {\n",
       "        text-align: right;\n",
       "    }\n",
       "</style>\n",
       "<table border=\"1\" class=\"dataframe\">\n",
       "  <thead>\n",
       "    <tr style=\"text-align: right;\">\n",
       "      <th></th>\n",
       "      <th>Unnamed: 0</th>\n",
       "      <th>brand</th>\n",
       "      <th>model</th>\n",
       "      <th>price_in_euro</th>\n",
       "      <th>power_ps</th>\n",
       "      <th>transmission_type</th>\n",
       "      <th>fuel_type</th>\n",
       "      <th>mileage_in_km</th>\n",
       "      <th>car_age</th>\n",
       "    </tr>\n",
       "  </thead>\n",
       "  <tbody>\n",
       "    <tr>\n",
       "      <th>0</th>\n",
       "      <td>205</td>\n",
       "      <td>Alfa Romeo</td>\n",
       "      <td>Alfa Romeo 147</td>\n",
       "      <td>1250.0</td>\n",
       "      <td>105.0</td>\n",
       "      <td>Manual</td>\n",
       "      <td>Petrol</td>\n",
       "      <td>85000.0</td>\n",
       "      <td>16.9</td>\n",
       "    </tr>\n",
       "    <tr>\n",
       "      <th>1</th>\n",
       "      <td>149</td>\n",
       "      <td>Alfa Romeo</td>\n",
       "      <td>Alfa Romeo 147</td>\n",
       "      <td>2999.0</td>\n",
       "      <td>105.0</td>\n",
       "      <td>Manual</td>\n",
       "      <td>Petrol</td>\n",
       "      <td>171000.0</td>\n",
       "      <td>17.8</td>\n",
       "    </tr>\n",
       "    <tr>\n",
       "      <th>2</th>\n",
       "      <td>83</td>\n",
       "      <td>Alfa Romeo</td>\n",
       "      <td>Alfa Romeo 147</td>\n",
       "      <td>2700.0</td>\n",
       "      <td>120.0</td>\n",
       "      <td>Manual</td>\n",
       "      <td>Petrol</td>\n",
       "      <td>85600.0</td>\n",
       "      <td>20.6</td>\n",
       "    </tr>\n",
       "  </tbody>\n",
       "</table>\n",
       "</div>"
      ],
      "text/plain": [
       "   Unnamed: 0       brand           model  price_in_euro  power_ps  \\\n",
       "0         205  Alfa Romeo  Alfa Romeo 147         1250.0     105.0   \n",
       "1         149  Alfa Romeo  Alfa Romeo 147         2999.0     105.0   \n",
       "2          83  Alfa Romeo  Alfa Romeo 147         2700.0     120.0   \n",
       "\n",
       "  transmission_type fuel_type  mileage_in_km  car_age  \n",
       "0            Manual    Petrol        85000.0     16.9  \n",
       "1            Manual    Petrol       171000.0     17.8  \n",
       "2            Manual    Petrol        85600.0     20.6  "
      ]
     },
     "execution_count": 402,
     "metadata": {},
     "output_type": "execute_result"
    }
   ],
   "source": [
    "car_data_ML = pd.read_csv('car_data_ML.csv')\n",
    "car_data_ML.head(3)"
   ]
  },
  {
   "cell_type": "markdown",
   "id": "6a20bff3",
   "metadata": {},
   "source": [
    "# Data Selection\n",
    "The ML algorithm selection is made based on a single car a close as it is possible based on the dataset. Each model is processed at once by the ML algorithm to avoid excessive memory usage. So for each car model an separate ML model is created. \n",
    "\n",
    "The dataset is grouped by models so that the model becomes an index in the dateframe and can be selected using this index when looping though the models later on. A good choice seems to be the most popular car VW Golf with manual transmission and pertrol engine. A slice from a model sub-dataset helps to better understand what happens with the data. The issue here is that the number of datapoints is not enough for a single generation of VW Golf, therefore the age is limited to 11 years with encopasses VW Golf VI to VIII."
   ]
  },
  {
   "cell_type": "markdown",
   "id": "96aac3d5",
   "metadata": {},
   "source": [
    "**Creating the slice from model sub-dataset**"
   ]
  },
  {
   "cell_type": "code",
   "execution_count": 403,
   "id": "d5c9310d",
   "metadata": {},
   "outputs": [],
   "source": [
    "#car_data_ML = car_data_ML[(car_data_ML['model']=='Alfa Romeo Gt')]\n",
    "car_data_ML = car_data_ML[(car_data_ML['model']=='Alfa Romeo Mito')]\n",
    "#car_data_ML = car_data_ML[(car_data_ML['model']=='Alfa Romeo 147')]"
   ]
  },
  {
   "cell_type": "code",
   "execution_count": 404,
   "id": "66a4a0a0",
   "metadata": {},
   "outputs": [],
   "source": [
    "#car_data_ML = car_data_ML[(car_data_ML['brand']=='Volkswagen')]"
   ]
  },
  {
   "cell_type": "code",
   "execution_count": 405,
   "id": "24fada1d",
   "metadata": {},
   "outputs": [],
   "source": [
    "#car_data_ML = car_data_ML[(car_data_ML['model']=='Volkswagen Golf')]"
   ]
  },
  {
   "cell_type": "code",
   "execution_count": 406,
   "id": "33cfeb05",
   "metadata": {},
   "outputs": [],
   "source": [
    "# car_data_ML = car_data_ML[(car_data_ML['model']=='Volkswagen Golf') &\\\n",
    "#                           #(car_data_ML['power_ps']==150) &\\\n",
    "#                           (car_data_ML['transmission_type']=='Manual') &\\\n",
    "#                             (car_data_ML['fuel_type']=='Petrol') &\\\n",
    "#                           (car_data_ML['car_age']<11)]                       "
   ]
  },
  {
   "cell_type": "code",
   "execution_count": 407,
   "id": "c403fe8f",
   "metadata": {},
   "outputs": [
    {
     "data": {
      "text/html": [
       "<div>\n",
       "<style scoped>\n",
       "    .dataframe tbody tr th:only-of-type {\n",
       "        vertical-align: middle;\n",
       "    }\n",
       "\n",
       "    .dataframe tbody tr th {\n",
       "        vertical-align: top;\n",
       "    }\n",
       "\n",
       "    .dataframe thead th {\n",
       "        text-align: right;\n",
       "    }\n",
       "</style>\n",
       "<table border=\"1\" class=\"dataframe\">\n",
       "  <thead>\n",
       "    <tr style=\"text-align: right;\">\n",
       "      <th></th>\n",
       "      <th>Unnamed: 0</th>\n",
       "      <th>brand</th>\n",
       "      <th>model</th>\n",
       "      <th>price_in_euro</th>\n",
       "      <th>power_ps</th>\n",
       "      <th>transmission_type</th>\n",
       "      <th>fuel_type</th>\n",
       "      <th>mileage_in_km</th>\n",
       "      <th>car_age</th>\n",
       "    </tr>\n",
       "  </thead>\n",
       "  <tbody>\n",
       "    <tr>\n",
       "      <th>509</th>\n",
       "      <td>425</td>\n",
       "      <td>Alfa Romeo</td>\n",
       "      <td>Alfa Romeo Mito</td>\n",
       "      <td>7500.0</td>\n",
       "      <td>170.0</td>\n",
       "      <td>Manual</td>\n",
       "      <td>Petrol</td>\n",
       "      <td>106000.0</td>\n",
       "      <td>11.1</td>\n",
       "    </tr>\n",
       "    <tr>\n",
       "      <th>510</th>\n",
       "      <td>424</td>\n",
       "      <td>Alfa Romeo</td>\n",
       "      <td>Alfa Romeo Mito</td>\n",
       "      <td>5490.0</td>\n",
       "      <td>105.0</td>\n",
       "      <td>Manual</td>\n",
       "      <td>Petrol</td>\n",
       "      <td>144390.0</td>\n",
       "      <td>11.3</td>\n",
       "    </tr>\n",
       "    <tr>\n",
       "      <th>511</th>\n",
       "      <td>422</td>\n",
       "      <td>Alfa Romeo</td>\n",
       "      <td>Alfa Romeo Mito</td>\n",
       "      <td>4490.0</td>\n",
       "      <td>84.0</td>\n",
       "      <td>Manual</td>\n",
       "      <td>Diesel</td>\n",
       "      <td>235000.0</td>\n",
       "      <td>10.7</td>\n",
       "    </tr>\n",
       "    <tr>\n",
       "      <th>512</th>\n",
       "      <td>406</td>\n",
       "      <td>Alfa Romeo</td>\n",
       "      <td>Alfa Romeo Mito</td>\n",
       "      <td>6970.0</td>\n",
       "      <td>95.0</td>\n",
       "      <td>Manual</td>\n",
       "      <td>Petrol</td>\n",
       "      <td>94000.0</td>\n",
       "      <td>12.2</td>\n",
       "    </tr>\n",
       "    <tr>\n",
       "      <th>513</th>\n",
       "      <td>421</td>\n",
       "      <td>Alfa Romeo</td>\n",
       "      <td>Alfa Romeo Mito</td>\n",
       "      <td>5490.0</td>\n",
       "      <td>95.0</td>\n",
       "      <td>Manual</td>\n",
       "      <td>Diesel</td>\n",
       "      <td>125700.0</td>\n",
       "      <td>10.9</td>\n",
       "    </tr>\n",
       "    <tr>\n",
       "      <th>...</th>\n",
       "      <td>...</td>\n",
       "      <td>...</td>\n",
       "      <td>...</td>\n",
       "      <td>...</td>\n",
       "      <td>...</td>\n",
       "      <td>...</td>\n",
       "      <td>...</td>\n",
       "      <td>...</td>\n",
       "      <td>...</td>\n",
       "    </tr>\n",
       "    <tr>\n",
       "      <th>600</th>\n",
       "      <td>645</td>\n",
       "      <td>Alfa Romeo</td>\n",
       "      <td>Alfa Romeo Mito</td>\n",
       "      <td>13980.0</td>\n",
       "      <td>140.0</td>\n",
       "      <td>Automatic</td>\n",
       "      <td>Petrol</td>\n",
       "      <td>52000.0</td>\n",
       "      <td>5.7</td>\n",
       "    </tr>\n",
       "    <tr>\n",
       "      <th>601</th>\n",
       "      <td>560</td>\n",
       "      <td>Alfa Romeo</td>\n",
       "      <td>Alfa Romeo Mito</td>\n",
       "      <td>9250.0</td>\n",
       "      <td>105.0</td>\n",
       "      <td>Manual</td>\n",
       "      <td>Petrol</td>\n",
       "      <td>77600.0</td>\n",
       "      <td>7.2</td>\n",
       "    </tr>\n",
       "    <tr>\n",
       "      <th>602</th>\n",
       "      <td>507</td>\n",
       "      <td>Alfa Romeo</td>\n",
       "      <td>Alfa Romeo Mito</td>\n",
       "      <td>6999.0</td>\n",
       "      <td>120.0</td>\n",
       "      <td>Manual</td>\n",
       "      <td>Diesel</td>\n",
       "      <td>141700.0</td>\n",
       "      <td>9.2</td>\n",
       "    </tr>\n",
       "    <tr>\n",
       "      <th>603</th>\n",
       "      <td>585</td>\n",
       "      <td>Alfa Romeo</td>\n",
       "      <td>Alfa Romeo Mito</td>\n",
       "      <td>13680.0</td>\n",
       "      <td>170.0</td>\n",
       "      <td>Automatic</td>\n",
       "      <td>Petrol</td>\n",
       "      <td>9020.0</td>\n",
       "      <td>5.8</td>\n",
       "    </tr>\n",
       "    <tr>\n",
       "      <th>604</th>\n",
       "      <td>669</td>\n",
       "      <td>Alfa Romeo</td>\n",
       "      <td>Alfa Romeo Mito</td>\n",
       "      <td>15950.0</td>\n",
       "      <td>140.0</td>\n",
       "      <td>Automatic</td>\n",
       "      <td>Petrol</td>\n",
       "      <td>50300.0</td>\n",
       "      <td>5.2</td>\n",
       "    </tr>\n",
       "  </tbody>\n",
       "</table>\n",
       "<p>96 rows × 9 columns</p>\n",
       "</div>"
      ],
      "text/plain": [
       "     Unnamed: 0       brand            model  price_in_euro  power_ps  \\\n",
       "509         425  Alfa Romeo  Alfa Romeo Mito         7500.0     170.0   \n",
       "510         424  Alfa Romeo  Alfa Romeo Mito         5490.0     105.0   \n",
       "511         422  Alfa Romeo  Alfa Romeo Mito         4490.0      84.0   \n",
       "512         406  Alfa Romeo  Alfa Romeo Mito         6970.0      95.0   \n",
       "513         421  Alfa Romeo  Alfa Romeo Mito         5490.0      95.0   \n",
       "..          ...         ...              ...            ...       ...   \n",
       "600         645  Alfa Romeo  Alfa Romeo Mito        13980.0     140.0   \n",
       "601         560  Alfa Romeo  Alfa Romeo Mito         9250.0     105.0   \n",
       "602         507  Alfa Romeo  Alfa Romeo Mito         6999.0     120.0   \n",
       "603         585  Alfa Romeo  Alfa Romeo Mito        13680.0     170.0   \n",
       "604         669  Alfa Romeo  Alfa Romeo Mito        15950.0     140.0   \n",
       "\n",
       "    transmission_type fuel_type  mileage_in_km  car_age  \n",
       "509            Manual    Petrol       106000.0     11.1  \n",
       "510            Manual    Petrol       144390.0     11.3  \n",
       "511            Manual    Diesel       235000.0     10.7  \n",
       "512            Manual    Petrol        94000.0     12.2  \n",
       "513            Manual    Diesel       125700.0     10.9  \n",
       "..                ...       ...            ...      ...  \n",
       "600         Automatic    Petrol        52000.0      5.7  \n",
       "601            Manual    Petrol        77600.0      7.2  \n",
       "602            Manual    Diesel       141700.0      9.2  \n",
       "603         Automatic    Petrol         9020.0      5.8  \n",
       "604         Automatic    Petrol        50300.0      5.2  \n",
       "\n",
       "[96 rows x 9 columns]"
      ]
     },
     "execution_count": 407,
     "metadata": {},
     "output_type": "execute_result"
    }
   ],
   "source": [
    "car_data_ML"
   ]
  },
  {
   "cell_type": "markdown",
   "id": "f9b9af8d",
   "metadata": {},
   "source": [
    "**Dropping \"Unnamed\" and \"brand columns**"
   ]
  },
  {
   "cell_type": "code",
   "execution_count": 408,
   "id": "b9960a76",
   "metadata": {},
   "outputs": [],
   "source": [
    "car_data_ML.drop(columns=['Unnamed: 0','brand','model'],inplace=True)"
   ]
  },
  {
   "cell_type": "code",
   "execution_count": null,
   "id": "63164414",
   "metadata": {},
   "outputs": [],
   "source": []
  },
  {
   "cell_type": "markdown",
   "id": "a8013f6b",
   "metadata": {},
   "source": [
    "# Separating dataset into train and test data"
   ]
  },
  {
   "cell_type": "code",
   "execution_count": 409,
   "id": "422c247e",
   "metadata": {},
   "outputs": [],
   "source": [
    "y = car_data_ML['price_in_euro']\n",
    "X = car_data_ML.drop(columns=['price_in_euro'])"
   ]
  },
  {
   "cell_type": "markdown",
   "id": "8585ebaa",
   "metadata": {},
   "source": [
    "# Train-Test-Split"
   ]
  },
  {
   "cell_type": "code",
   "execution_count": 410,
   "id": "1bb69851",
   "metadata": {},
   "outputs": [],
   "source": [
    "X_train, X_test, y_train, y_test = train_test_split(X, y, test_size=0.2, random_state=333)"
   ]
  },
  {
   "cell_type": "code",
   "execution_count": 411,
   "id": "51976929",
   "metadata": {},
   "outputs": [
    {
     "data": {
      "text/html": [
       "<div>\n",
       "<style scoped>\n",
       "    .dataframe tbody tr th:only-of-type {\n",
       "        vertical-align: middle;\n",
       "    }\n",
       "\n",
       "    .dataframe tbody tr th {\n",
       "        vertical-align: top;\n",
       "    }\n",
       "\n",
       "    .dataframe thead th {\n",
       "        text-align: right;\n",
       "    }\n",
       "</style>\n",
       "<table border=\"1\" class=\"dataframe\">\n",
       "  <thead>\n",
       "    <tr style=\"text-align: right;\">\n",
       "      <th></th>\n",
       "      <th>power_ps</th>\n",
       "      <th>transmission_type</th>\n",
       "      <th>fuel_type</th>\n",
       "      <th>mileage_in_km</th>\n",
       "      <th>car_age</th>\n",
       "    </tr>\n",
       "  </thead>\n",
       "  <tbody>\n",
       "    <tr>\n",
       "      <th>577</th>\n",
       "      <td>95.0</td>\n",
       "      <td>Manual</td>\n",
       "      <td>Petrol</td>\n",
       "      <td>132500.0</td>\n",
       "      <td>14.0</td>\n",
       "    </tr>\n",
       "    <tr>\n",
       "      <th>530</th>\n",
       "      <td>95.0</td>\n",
       "      <td>Manual</td>\n",
       "      <td>Diesel</td>\n",
       "      <td>207429.0</td>\n",
       "      <td>10.3</td>\n",
       "    </tr>\n",
       "    <tr>\n",
       "      <th>539</th>\n",
       "      <td>135.0</td>\n",
       "      <td>Manual</td>\n",
       "      <td>Petrol</td>\n",
       "      <td>71288.0</td>\n",
       "      <td>13.1</td>\n",
       "    </tr>\n",
       "    <tr>\n",
       "      <th>524</th>\n",
       "      <td>95.0</td>\n",
       "      <td>Manual</td>\n",
       "      <td>Petrol</td>\n",
       "      <td>107000.0</td>\n",
       "      <td>12.5</td>\n",
       "    </tr>\n",
       "    <tr>\n",
       "      <th>550</th>\n",
       "      <td>155.0</td>\n",
       "      <td>Manual</td>\n",
       "      <td>Petrol</td>\n",
       "      <td>106885.0</td>\n",
       "      <td>14.1</td>\n",
       "    </tr>\n",
       "    <tr>\n",
       "      <th>...</th>\n",
       "      <td>...</td>\n",
       "      <td>...</td>\n",
       "      <td>...</td>\n",
       "      <td>...</td>\n",
       "      <td>...</td>\n",
       "    </tr>\n",
       "    <tr>\n",
       "      <th>555</th>\n",
       "      <td>95.0</td>\n",
       "      <td>Manual</td>\n",
       "      <td>Petrol</td>\n",
       "      <td>171000.0</td>\n",
       "      <td>14.3</td>\n",
       "    </tr>\n",
       "    <tr>\n",
       "      <th>560</th>\n",
       "      <td>95.0</td>\n",
       "      <td>Manual</td>\n",
       "      <td>Petrol</td>\n",
       "      <td>252300.0</td>\n",
       "      <td>14.0</td>\n",
       "    </tr>\n",
       "    <tr>\n",
       "      <th>544</th>\n",
       "      <td>105.0</td>\n",
       "      <td>Manual</td>\n",
       "      <td>Petrol</td>\n",
       "      <td>161000.0</td>\n",
       "      <td>11.0</td>\n",
       "    </tr>\n",
       "    <tr>\n",
       "      <th>586</th>\n",
       "      <td>95.0</td>\n",
       "      <td>Manual</td>\n",
       "      <td>Petrol</td>\n",
       "      <td>139223.0</td>\n",
       "      <td>14.3</td>\n",
       "    </tr>\n",
       "    <tr>\n",
       "      <th>521</th>\n",
       "      <td>105.0</td>\n",
       "      <td>Manual</td>\n",
       "      <td>Petrol</td>\n",
       "      <td>69000.0</td>\n",
       "      <td>12.0</td>\n",
       "    </tr>\n",
       "  </tbody>\n",
       "</table>\n",
       "<p>76 rows × 5 columns</p>\n",
       "</div>"
      ],
      "text/plain": [
       "     power_ps transmission_type fuel_type  mileage_in_km  car_age\n",
       "577      95.0            Manual    Petrol       132500.0     14.0\n",
       "530      95.0            Manual    Diesel       207429.0     10.3\n",
       "539     135.0            Manual    Petrol        71288.0     13.1\n",
       "524      95.0            Manual    Petrol       107000.0     12.5\n",
       "550     155.0            Manual    Petrol       106885.0     14.1\n",
       "..        ...               ...       ...            ...      ...\n",
       "555      95.0            Manual    Petrol       171000.0     14.3\n",
       "560      95.0            Manual    Petrol       252300.0     14.0\n",
       "544     105.0            Manual    Petrol       161000.0     11.0\n",
       "586      95.0            Manual    Petrol       139223.0     14.3\n",
       "521     105.0            Manual    Petrol        69000.0     12.0\n",
       "\n",
       "[76 rows x 5 columns]"
      ]
     },
     "execution_count": 411,
     "metadata": {},
     "output_type": "execute_result"
    }
   ],
   "source": [
    "X_train"
   ]
  },
  {
   "cell_type": "markdown",
   "id": "90acef37",
   "metadata": {},
   "source": [
    "# Creating ML Model"
   ]
  },
  {
   "cell_type": "code",
   "execution_count": 412,
   "id": "b5fe9a15",
   "metadata": {},
   "outputs": [
    {
     "data": {
      "text/html": [
       "<div>\n",
       "<style scoped>\n",
       "    .dataframe tbody tr th:only-of-type {\n",
       "        vertical-align: middle;\n",
       "    }\n",
       "\n",
       "    .dataframe tbody tr th {\n",
       "        vertical-align: top;\n",
       "    }\n",
       "\n",
       "    .dataframe thead th {\n",
       "        text-align: right;\n",
       "    }\n",
       "</style>\n",
       "<table border=\"1\" class=\"dataframe\">\n",
       "  <thead>\n",
       "    <tr style=\"text-align: right;\">\n",
       "      <th></th>\n",
       "      <th>price_in_euro</th>\n",
       "      <th>power_ps</th>\n",
       "      <th>transmission_type</th>\n",
       "      <th>fuel_type</th>\n",
       "      <th>mileage_in_km</th>\n",
       "      <th>car_age</th>\n",
       "    </tr>\n",
       "  </thead>\n",
       "  <tbody>\n",
       "    <tr>\n",
       "      <th>509</th>\n",
       "      <td>7500.0</td>\n",
       "      <td>170.0</td>\n",
       "      <td>Manual</td>\n",
       "      <td>Petrol</td>\n",
       "      <td>106000.0</td>\n",
       "      <td>11.1</td>\n",
       "    </tr>\n",
       "    <tr>\n",
       "      <th>510</th>\n",
       "      <td>5490.0</td>\n",
       "      <td>105.0</td>\n",
       "      <td>Manual</td>\n",
       "      <td>Petrol</td>\n",
       "      <td>144390.0</td>\n",
       "      <td>11.3</td>\n",
       "    </tr>\n",
       "    <tr>\n",
       "      <th>511</th>\n",
       "      <td>4490.0</td>\n",
       "      <td>84.0</td>\n",
       "      <td>Manual</td>\n",
       "      <td>Diesel</td>\n",
       "      <td>235000.0</td>\n",
       "      <td>10.7</td>\n",
       "    </tr>\n",
       "    <tr>\n",
       "      <th>512</th>\n",
       "      <td>6970.0</td>\n",
       "      <td>95.0</td>\n",
       "      <td>Manual</td>\n",
       "      <td>Petrol</td>\n",
       "      <td>94000.0</td>\n",
       "      <td>12.2</td>\n",
       "    </tr>\n",
       "    <tr>\n",
       "      <th>513</th>\n",
       "      <td>5490.0</td>\n",
       "      <td>95.0</td>\n",
       "      <td>Manual</td>\n",
       "      <td>Diesel</td>\n",
       "      <td>125700.0</td>\n",
       "      <td>10.9</td>\n",
       "    </tr>\n",
       "    <tr>\n",
       "      <th>...</th>\n",
       "      <td>...</td>\n",
       "      <td>...</td>\n",
       "      <td>...</td>\n",
       "      <td>...</td>\n",
       "      <td>...</td>\n",
       "      <td>...</td>\n",
       "    </tr>\n",
       "    <tr>\n",
       "      <th>600</th>\n",
       "      <td>13980.0</td>\n",
       "      <td>140.0</td>\n",
       "      <td>Automatic</td>\n",
       "      <td>Petrol</td>\n",
       "      <td>52000.0</td>\n",
       "      <td>5.7</td>\n",
       "    </tr>\n",
       "    <tr>\n",
       "      <th>601</th>\n",
       "      <td>9250.0</td>\n",
       "      <td>105.0</td>\n",
       "      <td>Manual</td>\n",
       "      <td>Petrol</td>\n",
       "      <td>77600.0</td>\n",
       "      <td>7.2</td>\n",
       "    </tr>\n",
       "    <tr>\n",
       "      <th>602</th>\n",
       "      <td>6999.0</td>\n",
       "      <td>120.0</td>\n",
       "      <td>Manual</td>\n",
       "      <td>Diesel</td>\n",
       "      <td>141700.0</td>\n",
       "      <td>9.2</td>\n",
       "    </tr>\n",
       "    <tr>\n",
       "      <th>603</th>\n",
       "      <td>13680.0</td>\n",
       "      <td>170.0</td>\n",
       "      <td>Automatic</td>\n",
       "      <td>Petrol</td>\n",
       "      <td>9020.0</td>\n",
       "      <td>5.8</td>\n",
       "    </tr>\n",
       "    <tr>\n",
       "      <th>604</th>\n",
       "      <td>15950.0</td>\n",
       "      <td>140.0</td>\n",
       "      <td>Automatic</td>\n",
       "      <td>Petrol</td>\n",
       "      <td>50300.0</td>\n",
       "      <td>5.2</td>\n",
       "    </tr>\n",
       "  </tbody>\n",
       "</table>\n",
       "<p>96 rows × 6 columns</p>\n",
       "</div>"
      ],
      "text/plain": [
       "     price_in_euro  power_ps transmission_type fuel_type  mileage_in_km  \\\n",
       "509         7500.0     170.0            Manual    Petrol       106000.0   \n",
       "510         5490.0     105.0            Manual    Petrol       144390.0   \n",
       "511         4490.0      84.0            Manual    Diesel       235000.0   \n",
       "512         6970.0      95.0            Manual    Petrol        94000.0   \n",
       "513         5490.0      95.0            Manual    Diesel       125700.0   \n",
       "..             ...       ...               ...       ...            ...   \n",
       "600        13980.0     140.0         Automatic    Petrol        52000.0   \n",
       "601         9250.0     105.0            Manual    Petrol        77600.0   \n",
       "602         6999.0     120.0            Manual    Diesel       141700.0   \n",
       "603        13680.0     170.0         Automatic    Petrol         9020.0   \n",
       "604        15950.0     140.0         Automatic    Petrol        50300.0   \n",
       "\n",
       "     car_age  \n",
       "509     11.1  \n",
       "510     11.3  \n",
       "511     10.7  \n",
       "512     12.2  \n",
       "513     10.9  \n",
       "..       ...  \n",
       "600      5.7  \n",
       "601      7.2  \n",
       "602      9.2  \n",
       "603      5.8  \n",
       "604      5.2  \n",
       "\n",
       "[96 rows x 6 columns]"
      ]
     },
     "execution_count": 412,
     "metadata": {},
     "output_type": "execute_result"
    }
   ],
   "source": [
    "car_data_ML"
   ]
  },
  {
   "cell_type": "markdown",
   "id": "98981124",
   "metadata": {},
   "source": [
    "The remaining dateset consists of 240 datapoints and should be enough to get an idea how the different algorithms perform"
   ]
  },
  {
   "cell_type": "markdown",
   "id": "89be175b",
   "metadata": {},
   "source": [
    "**Creating Pre-Processor**"
   ]
  },
  {
   "cell_type": "code",
   "execution_count": 413,
   "id": "94a9e87c",
   "metadata": {},
   "outputs": [],
   "source": [
    "preprocessor = make_column_transformer(\n",
    "    (MinMaxScaler(), make_column_selector(dtype_exclude=object)),\n",
    "    (OneHotEncoder(), make_column_selector(dtype_include=object))\n",
    ")"
   ]
  },
  {
   "cell_type": "markdown",
   "id": "13d623f2",
   "metadata": {},
   "source": [
    "**Defining ML Algorithm**"
   ]
  },
  {
   "cell_type": "code",
   "execution_count": 414,
   "id": "0c495124",
   "metadata": {},
   "outputs": [],
   "source": [
    "reg_alg = KNeighborsRegressor()"
   ]
  },
  {
   "cell_type": "markdown",
   "id": "d10354d8",
   "metadata": {},
   "source": [
    "**Creating the model**"
   ]
  },
  {
   "cell_type": "code",
   "execution_count": 415,
   "id": "8f1dd92e",
   "metadata": {},
   "outputs": [],
   "source": [
    "model = make_pipeline(preprocessor, reg_alg)"
   ]
  },
  {
   "cell_type": "markdown",
   "id": "779ade9c",
   "metadata": {},
   "source": [
    "**Fitting Model**"
   ]
  },
  {
   "cell_type": "code",
   "execution_count": 416,
   "id": "e572ca34",
   "metadata": {},
   "outputs": [
    {
     "data": {
      "text/html": [
       "<style>#sk-container-id-20 {color: black;}#sk-container-id-20 pre{padding: 0;}#sk-container-id-20 div.sk-toggleable {background-color: white;}#sk-container-id-20 label.sk-toggleable__label {cursor: pointer;display: block;width: 100%;margin-bottom: 0;padding: 0.3em;box-sizing: border-box;text-align: center;}#sk-container-id-20 label.sk-toggleable__label-arrow:before {content: \"▸\";float: left;margin-right: 0.25em;color: #696969;}#sk-container-id-20 label.sk-toggleable__label-arrow:hover:before {color: black;}#sk-container-id-20 div.sk-estimator:hover label.sk-toggleable__label-arrow:before {color: black;}#sk-container-id-20 div.sk-toggleable__content {max-height: 0;max-width: 0;overflow: hidden;text-align: left;background-color: #f0f8ff;}#sk-container-id-20 div.sk-toggleable__content pre {margin: 0.2em;color: black;border-radius: 0.25em;background-color: #f0f8ff;}#sk-container-id-20 input.sk-toggleable__control:checked~div.sk-toggleable__content {max-height: 200px;max-width: 100%;overflow: auto;}#sk-container-id-20 input.sk-toggleable__control:checked~label.sk-toggleable__label-arrow:before {content: \"▾\";}#sk-container-id-20 div.sk-estimator input.sk-toggleable__control:checked~label.sk-toggleable__label {background-color: #d4ebff;}#sk-container-id-20 div.sk-label input.sk-toggleable__control:checked~label.sk-toggleable__label {background-color: #d4ebff;}#sk-container-id-20 input.sk-hidden--visually {border: 0;clip: rect(1px 1px 1px 1px);clip: rect(1px, 1px, 1px, 1px);height: 1px;margin: -1px;overflow: hidden;padding: 0;position: absolute;width: 1px;}#sk-container-id-20 div.sk-estimator {font-family: monospace;background-color: #f0f8ff;border: 1px dotted black;border-radius: 0.25em;box-sizing: border-box;margin-bottom: 0.5em;}#sk-container-id-20 div.sk-estimator:hover {background-color: #d4ebff;}#sk-container-id-20 div.sk-parallel-item::after {content: \"\";width: 100%;border-bottom: 1px solid gray;flex-grow: 1;}#sk-container-id-20 div.sk-label:hover label.sk-toggleable__label {background-color: #d4ebff;}#sk-container-id-20 div.sk-serial::before {content: \"\";position: absolute;border-left: 1px solid gray;box-sizing: border-box;top: 0;bottom: 0;left: 50%;z-index: 0;}#sk-container-id-20 div.sk-serial {display: flex;flex-direction: column;align-items: center;background-color: white;padding-right: 0.2em;padding-left: 0.2em;position: relative;}#sk-container-id-20 div.sk-item {position: relative;z-index: 1;}#sk-container-id-20 div.sk-parallel {display: flex;align-items: stretch;justify-content: center;background-color: white;position: relative;}#sk-container-id-20 div.sk-item::before, #sk-container-id-20 div.sk-parallel-item::before {content: \"\";position: absolute;border-left: 1px solid gray;box-sizing: border-box;top: 0;bottom: 0;left: 50%;z-index: -1;}#sk-container-id-20 div.sk-parallel-item {display: flex;flex-direction: column;z-index: 1;position: relative;background-color: white;}#sk-container-id-20 div.sk-parallel-item:first-child::after {align-self: flex-end;width: 50%;}#sk-container-id-20 div.sk-parallel-item:last-child::after {align-self: flex-start;width: 50%;}#sk-container-id-20 div.sk-parallel-item:only-child::after {width: 0;}#sk-container-id-20 div.sk-dashed-wrapped {border: 1px dashed gray;margin: 0 0.4em 0.5em 0.4em;box-sizing: border-box;padding-bottom: 0.4em;background-color: white;}#sk-container-id-20 div.sk-label label {font-family: monospace;font-weight: bold;display: inline-block;line-height: 1.2em;}#sk-container-id-20 div.sk-label-container {text-align: center;}#sk-container-id-20 div.sk-container {/* jupyter's `normalize.less` sets `[hidden] { display: none; }` but bootstrap.min.css set `[hidden] { display: none !important; }` so we also need the `!important` here to be able to override the default hidden behavior on the sphinx rendered scikit-learn.org. See: https://github.com/scikit-learn/scikit-learn/issues/21755 */display: inline-block !important;position: relative;}#sk-container-id-20 div.sk-text-repr-fallback {display: none;}</style><div id=\"sk-container-id-20\" class=\"sk-top-container\"><div class=\"sk-text-repr-fallback\"><pre>Pipeline(steps=[(&#x27;columntransformer&#x27;,\n",
       "                 ColumnTransformer(transformers=[(&#x27;minmaxscaler&#x27;,\n",
       "                                                  MinMaxScaler(),\n",
       "                                                  &lt;sklearn.compose._column_transformer.make_column_selector object at 0x7f4368df92e0&gt;),\n",
       "                                                 (&#x27;onehotencoder&#x27;,\n",
       "                                                  OneHotEncoder(),\n",
       "                                                  &lt;sklearn.compose._column_transformer.make_column_selector object at 0x7f4368df9be0&gt;)])),\n",
       "                (&#x27;kneighborsregressor&#x27;, KNeighborsRegressor())])</pre><b>In a Jupyter environment, please rerun this cell to show the HTML representation or trust the notebook. <br />On GitHub, the HTML representation is unable to render, please try loading this page with nbviewer.org.</b></div><div class=\"sk-container\" hidden><div class=\"sk-item sk-dashed-wrapped\"><div class=\"sk-label-container\"><div class=\"sk-label sk-toggleable\"><input class=\"sk-toggleable__control sk-hidden--visually\" id=\"sk-estimator-id-150\" type=\"checkbox\" ><label for=\"sk-estimator-id-150\" class=\"sk-toggleable__label sk-toggleable__label-arrow\">Pipeline</label><div class=\"sk-toggleable__content\"><pre>Pipeline(steps=[(&#x27;columntransformer&#x27;,\n",
       "                 ColumnTransformer(transformers=[(&#x27;minmaxscaler&#x27;,\n",
       "                                                  MinMaxScaler(),\n",
       "                                                  &lt;sklearn.compose._column_transformer.make_column_selector object at 0x7f4368df92e0&gt;),\n",
       "                                                 (&#x27;onehotencoder&#x27;,\n",
       "                                                  OneHotEncoder(),\n",
       "                                                  &lt;sklearn.compose._column_transformer.make_column_selector object at 0x7f4368df9be0&gt;)])),\n",
       "                (&#x27;kneighborsregressor&#x27;, KNeighborsRegressor())])</pre></div></div></div><div class=\"sk-serial\"><div class=\"sk-item sk-dashed-wrapped\"><div class=\"sk-label-container\"><div class=\"sk-label sk-toggleable\"><input class=\"sk-toggleable__control sk-hidden--visually\" id=\"sk-estimator-id-151\" type=\"checkbox\" ><label for=\"sk-estimator-id-151\" class=\"sk-toggleable__label sk-toggleable__label-arrow\">columntransformer: ColumnTransformer</label><div class=\"sk-toggleable__content\"><pre>ColumnTransformer(transformers=[(&#x27;minmaxscaler&#x27;, MinMaxScaler(),\n",
       "                                 &lt;sklearn.compose._column_transformer.make_column_selector object at 0x7f4368df92e0&gt;),\n",
       "                                (&#x27;onehotencoder&#x27;, OneHotEncoder(),\n",
       "                                 &lt;sklearn.compose._column_transformer.make_column_selector object at 0x7f4368df9be0&gt;)])</pre></div></div></div><div class=\"sk-parallel\"><div class=\"sk-parallel-item\"><div class=\"sk-item\"><div class=\"sk-label-container\"><div class=\"sk-label sk-toggleable\"><input class=\"sk-toggleable__control sk-hidden--visually\" id=\"sk-estimator-id-152\" type=\"checkbox\" ><label for=\"sk-estimator-id-152\" class=\"sk-toggleable__label sk-toggleable__label-arrow\">minmaxscaler</label><div class=\"sk-toggleable__content\"><pre>&lt;sklearn.compose._column_transformer.make_column_selector object at 0x7f4368df92e0&gt;</pre></div></div></div><div class=\"sk-serial\"><div class=\"sk-item\"><div class=\"sk-estimator sk-toggleable\"><input class=\"sk-toggleable__control sk-hidden--visually\" id=\"sk-estimator-id-153\" type=\"checkbox\" ><label for=\"sk-estimator-id-153\" class=\"sk-toggleable__label sk-toggleable__label-arrow\">MinMaxScaler</label><div class=\"sk-toggleable__content\"><pre>MinMaxScaler()</pre></div></div></div></div></div></div><div class=\"sk-parallel-item\"><div class=\"sk-item\"><div class=\"sk-label-container\"><div class=\"sk-label sk-toggleable\"><input class=\"sk-toggleable__control sk-hidden--visually\" id=\"sk-estimator-id-154\" type=\"checkbox\" ><label for=\"sk-estimator-id-154\" class=\"sk-toggleable__label sk-toggleable__label-arrow\">onehotencoder</label><div class=\"sk-toggleable__content\"><pre>&lt;sklearn.compose._column_transformer.make_column_selector object at 0x7f4368df9be0&gt;</pre></div></div></div><div class=\"sk-serial\"><div class=\"sk-item\"><div class=\"sk-estimator sk-toggleable\"><input class=\"sk-toggleable__control sk-hidden--visually\" id=\"sk-estimator-id-155\" type=\"checkbox\" ><label for=\"sk-estimator-id-155\" class=\"sk-toggleable__label sk-toggleable__label-arrow\">OneHotEncoder</label><div class=\"sk-toggleable__content\"><pre>OneHotEncoder()</pre></div></div></div></div></div></div></div></div><div class=\"sk-item\"><div class=\"sk-estimator sk-toggleable\"><input class=\"sk-toggleable__control sk-hidden--visually\" id=\"sk-estimator-id-156\" type=\"checkbox\" ><label for=\"sk-estimator-id-156\" class=\"sk-toggleable__label sk-toggleable__label-arrow\">KNeighborsRegressor</label><div class=\"sk-toggleable__content\"><pre>KNeighborsRegressor()</pre></div></div></div></div></div></div></div>"
      ],
      "text/plain": [
       "Pipeline(steps=[('columntransformer',\n",
       "                 ColumnTransformer(transformers=[('minmaxscaler',\n",
       "                                                  MinMaxScaler(),\n",
       "                                                  <sklearn.compose._column_transformer.make_column_selector object at 0x7f4368df92e0>),\n",
       "                                                 ('onehotencoder',\n",
       "                                                  OneHotEncoder(),\n",
       "                                                  <sklearn.compose._column_transformer.make_column_selector object at 0x7f4368df9be0>)])),\n",
       "                ('kneighborsregressor', KNeighborsRegressor())])"
      ]
     },
     "execution_count": 416,
     "metadata": {},
     "output_type": "execute_result"
    }
   ],
   "source": [
    "model.fit(X_train, y_train)"
   ]
  },
  {
   "cell_type": "code",
   "execution_count": 417,
   "id": "4e4b348c",
   "metadata": {},
   "outputs": [
    {
     "data": {
      "text/plain": [
       "array([ 3205.8,  6638. ,  4853.8,  8728. ,  6861.6,  4064. ,  4946. ,\n",
       "        5252.8, 14569.8, 10178. , 13859.8,  8758. ,  5094. ,  6861.6,\n",
       "        4838. ,  7221.8,  7289.8,  5558. ,  7024. ,  4815.8])"
      ]
     },
     "execution_count": 417,
     "metadata": {},
     "output_type": "execute_result"
    }
   ],
   "source": [
    "model.predict(X_test)"
   ]
  },
  {
   "cell_type": "markdown",
   "id": "c59badfd",
   "metadata": {},
   "source": [
    "**Printing Score (R2)** "
   ]
  },
  {
   "cell_type": "code",
   "execution_count": 418,
   "id": "7780a5f6",
   "metadata": {},
   "outputs": [
    {
     "name": "stdout",
     "output_type": "stream",
     "text": [
      "Training set accuracy: 0.82\n",
      "Test set accuracy: 0.61\n"
     ]
    }
   ],
   "source": [
    "print('Training set accuracy:', np.round(model.score(X_train, y_train), 2))\n",
    "print('Test set accuracy:' , np.round(model.score(X_test, y_test), 2))"
   ]
  },
  {
   "cell_type": "markdown",
   "id": "8f1d4dfa",
   "metadata": {},
   "source": [
    "# Optimizing ML Model"
   ]
  },
  {
   "cell_type": "markdown",
   "id": "d58232b4",
   "metadata": {},
   "source": [
    "**Defining parameters for the gridsearch**"
   ]
  },
  {
   "cell_type": "code",
   "execution_count": 419,
   "id": "e9f276dc",
   "metadata": {},
   "outputs": [],
   "source": [
    "parameters = {'n_neighbors':[int(n) for n in np.linspace(5,50,10)],\n",
    "              'algorithm':('ball_tree','kd_tree','brute'),\n",
    "              'weights':('uniform', 'distance'),\n",
    "              'metric':('euclidean','manhattan')      \n",
    "}"
   ]
  },
  {
   "cell_type": "markdown",
   "id": "c2fe115f",
   "metadata": {},
   "source": [
    "**Creating Gridsearch Object**"
   ]
  },
  {
   "cell_type": "code",
   "execution_count": 420,
   "id": "4ec1edea",
   "metadata": {},
   "outputs": [],
   "source": [
    "GS = GridSearchCV(estimator=reg_alg,param_grid=parameters,verbose=3,return_train_score=True,refit=True)"
   ]
  },
  {
   "cell_type": "markdown",
   "id": "eeb9e60f",
   "metadata": {},
   "source": [
    "**Creating pipeline using the peprocessor created earlier**"
   ]
  },
  {
   "cell_type": "code",
   "execution_count": 421,
   "id": "5209dbbe",
   "metadata": {},
   "outputs": [],
   "source": [
    "model_opt = make_pipeline(preprocessor, GS)"
   ]
  },
  {
   "cell_type": "markdown",
   "id": "86a11441",
   "metadata": {},
   "source": [
    "**Fitting the model using parameter grid**"
   ]
  },
  {
   "cell_type": "code",
   "execution_count": 422,
   "id": "b31caf98",
   "metadata": {},
   "outputs": [
    {
     "name": "stdout",
     "output_type": "stream",
     "text": [
      "Fitting 5 folds for each of 120 candidates, totalling 600 fits\n",
      "[CV 1/5] END algorithm=ball_tree, metric=euclidean, n_neighbors=5, weights=uniform;, score=(train=0.832, test=0.483) total time=   0.0s\n",
      "[CV 2/5] END algorithm=ball_tree, metric=euclidean, n_neighbors=5, weights=uniform;, score=(train=0.840, test=0.515) total time=   0.0s\n",
      "[CV 3/5] END algorithm=ball_tree, metric=euclidean, n_neighbors=5, weights=uniform;, score=(train=0.840, test=0.456) total time=   0.0s\n",
      "[CV 4/5] END algorithm=ball_tree, metric=euclidean, n_neighbors=5, weights=uniform;, score=(train=0.687, test=0.798) total time=   0.0s\n",
      "[CV 5/5] END algorithm=ball_tree, metric=euclidean, n_neighbors=5, weights=uniform;, score=(train=0.781, test=0.737) total time=   0.0s\n",
      "[CV 1/5] END algorithm=ball_tree, metric=euclidean, n_neighbors=5, weights=distance;, score=(train=1.000, test=0.533) total time=   0.0s\n",
      "[CV 2/5] END algorithm=ball_tree, metric=euclidean, n_neighbors=5, weights=distance;, score=(train=1.000, test=0.571) total time=   0.0s\n",
      "[CV 3/5] END algorithm=ball_tree, metric=euclidean, n_neighbors=5, weights=distance;, score=(train=1.000, test=0.418) total time=   0.0s\n",
      "[CV 4/5] END algorithm=ball_tree, metric=euclidean, n_neighbors=5, weights=distance;, score=(train=1.000, test=0.895) total time=   0.0s\n",
      "[CV 5/5] END algorithm=ball_tree, metric=euclidean, n_neighbors=5, weights=distance;, score=(train=1.000, test=0.754) total time=   0.0s\n",
      "[CV 1/5] END algorithm=ball_tree, metric=euclidean, n_neighbors=10, weights=uniform;, score=(train=0.752, test=0.458) total time=   0.0s\n",
      "[CV 2/5] END algorithm=ball_tree, metric=euclidean, n_neighbors=10, weights=uniform;, score=(train=0.750, test=0.588) total time=   0.0s\n",
      "[CV 3/5] END algorithm=ball_tree, metric=euclidean, n_neighbors=10, weights=uniform;, score=(train=0.760, test=0.370) total time=   0.0s\n",
      "[CV 4/5] END algorithm=ball_tree, metric=euclidean, n_neighbors=10, weights=uniform;, score=(train=0.579, test=0.500) total time=   0.0s\n",
      "[CV 5/5] END algorithm=ball_tree, metric=euclidean, n_neighbors=10, weights=uniform;, score=(train=0.673, test=0.694) total time=   0.0s\n",
      "[CV 1/5] END algorithm=ball_tree, metric=euclidean, n_neighbors=10, weights=distance;, score=(train=1.000, test=0.528) total time=   0.0s\n",
      "[CV 2/5] END algorithm=ball_tree, metric=euclidean, n_neighbors=10, weights=distance;, score=(train=1.000, test=0.685) total time=   0.0s\n",
      "[CV 3/5] END algorithm=ball_tree, metric=euclidean, n_neighbors=10, weights=distance;, score=(train=1.000, test=0.397) total time=   0.0s\n",
      "[CV 4/5] END algorithm=ball_tree, metric=euclidean, n_neighbors=10, weights=distance;, score=(train=1.000, test=0.868) total time=   0.0s\n",
      "[CV 5/5] END algorithm=ball_tree, metric=euclidean, n_neighbors=10, weights=distance;, score=(train=1.000, test=0.765) total time=   0.0s\n",
      "[CV 1/5] END algorithm=ball_tree, metric=euclidean, n_neighbors=15, weights=uniform;, score=(train=0.686, test=0.402) total time=   0.0s\n",
      "[CV 2/5] END algorithm=ball_tree, metric=euclidean, n_neighbors=15, weights=uniform;, score=(train=0.675, test=0.604) total time=   0.0s\n",
      "[CV 3/5] END algorithm=ball_tree, metric=euclidean, n_neighbors=15, weights=uniform;, score=(train=0.691, test=0.369) total time=   0.0s\n",
      "[CV 4/5] END algorithm=ball_tree, metric=euclidean, n_neighbors=15, weights=uniform;, score=(train=0.518, test=0.398) total time=   0.0s\n",
      "[CV 5/5] END algorithm=ball_tree, metric=euclidean, n_neighbors=15, weights=uniform;, score=(train=0.612, test=0.658) total time=   0.0s\n",
      "[CV 1/5] END algorithm=ball_tree, metric=euclidean, n_neighbors=15, weights=distance;, score=(train=1.000, test=0.482) total time=   0.0s\n",
      "[CV 2/5] END algorithm=ball_tree, metric=euclidean, n_neighbors=15, weights=distance;, score=(train=1.000, test=0.800) total time=   0.0s\n",
      "[CV 3/5] END algorithm=ball_tree, metric=euclidean, n_neighbors=15, weights=distance;, score=(train=1.000, test=0.382) total time=   0.0s\n",
      "[CV 4/5] END algorithm=ball_tree, metric=euclidean, n_neighbors=15, weights=distance;, score=(train=1.000, test=0.823) total time=   0.0s\n",
      "[CV 5/5] END algorithm=ball_tree, metric=euclidean, n_neighbors=15, weights=distance;, score=(train=1.000, test=0.752) total time=   0.0s\n",
      "[CV 1/5] END algorithm=ball_tree, metric=euclidean, n_neighbors=20, weights=uniform;, score=(train=0.623, test=0.368) total time=   0.0s\n",
      "[CV 2/5] END algorithm=ball_tree, metric=euclidean, n_neighbors=20, weights=uniform;, score=(train=0.585, test=0.632) total time=   0.0s\n",
      "[CV 3/5] END algorithm=ball_tree, metric=euclidean, n_neighbors=20, weights=uniform;, score=(train=0.617, test=0.292) total time=   0.0s\n",
      "[CV 4/5] END algorithm=ball_tree, metric=euclidean, n_neighbors=20, weights=uniform;, score=(train=0.484, test=0.343) total time=   0.0s\n",
      "[CV 5/5] END algorithm=ball_tree, metric=euclidean, n_neighbors=20, weights=uniform;, score=(train=0.556, test=0.574) total time=   0.0s\n",
      "[CV 1/5] END algorithm=ball_tree, metric=euclidean, n_neighbors=20, weights=distance;, score=(train=1.000, test=0.453) total time=   0.0s\n",
      "[CV 2/5] END algorithm=ball_tree, metric=euclidean, n_neighbors=20, weights=distance;, score=(train=1.000, test=0.854) total time=   0.0s\n",
      "[CV 3/5] END algorithm=ball_tree, metric=euclidean, n_neighbors=20, weights=distance;, score=(train=1.000, test=0.321) total time=   0.0s\n",
      "[CV 4/5] END algorithm=ball_tree, metric=euclidean, n_neighbors=20, weights=distance;, score=(train=1.000, test=0.774) total time=   0.0s\n",
      "[CV 5/5] END algorithm=ball_tree, metric=euclidean, n_neighbors=20, weights=distance;, score=(train=1.000, test=0.708) total time=   0.0s\n",
      "[CV 1/5] END algorithm=ball_tree, metric=euclidean, n_neighbors=25, weights=uniform;, score=(train=0.543, test=0.314) total time=   0.0s\n",
      "[CV 2/5] END algorithm=ball_tree, metric=euclidean, n_neighbors=25, weights=uniform;, score=(train=0.490, test=0.525) total time=   0.0s\n",
      "[CV 3/5] END algorithm=ball_tree, metric=euclidean, n_neighbors=25, weights=uniform;, score=(train=0.538, test=0.206) total time=   0.0s\n",
      "[CV 4/5] END algorithm=ball_tree, metric=euclidean, n_neighbors=25, weights=uniform;, score=(train=0.401, test=0.205) total time=   0.0s\n",
      "[CV 5/5] END algorithm=ball_tree, metric=euclidean, n_neighbors=25, weights=uniform;, score=(train=0.479, test=0.459) total time=   0.0s\n",
      "[CV 1/5] END algorithm=ball_tree, metric=euclidean, n_neighbors=25, weights=distance;, score=(train=1.000, test=0.413) total time=   0.0s\n",
      "[CV 2/5] END algorithm=ball_tree, metric=euclidean, n_neighbors=25, weights=distance;, score=(train=1.000, test=0.844) total time=   0.0s\n",
      "[CV 3/5] END algorithm=ball_tree, metric=euclidean, n_neighbors=25, weights=distance;, score=(train=1.000, test=0.262) total time=   0.0s\n",
      "[CV 4/5] END algorithm=ball_tree, metric=euclidean, n_neighbors=25, weights=distance;, score=(train=1.000, test=0.706) total time=   0.0s\n",
      "[CV 5/5] END algorithm=ball_tree, metric=euclidean, n_neighbors=25, weights=distance;, score=(train=1.000, test=0.648) total time=   0.0s\n",
      "[CV 1/5] END algorithm=ball_tree, metric=euclidean, n_neighbors=30, weights=uniform;, score=(train=0.443, test=0.239) total time=   0.0s\n",
      "[CV 2/5] END algorithm=ball_tree, metric=euclidean, n_neighbors=30, weights=uniform;, score=(train=0.416, test=0.425) total time=   0.0s\n",
      "[CV 3/5] END algorithm=ball_tree, metric=euclidean, n_neighbors=30, weights=uniform;, score=(train=0.442, test=0.141) total time=   0.0s\n",
      "[CV 4/5] END algorithm=ball_tree, metric=euclidean, n_neighbors=30, weights=uniform;, score=(train=0.341, test=0.145) total time=   0.0s\n",
      "[CV 5/5] END algorithm=ball_tree, metric=euclidean, n_neighbors=30, weights=uniform;, score=(train=0.400, test=0.351) total time=   0.0s\n",
      "[CV 1/5] END algorithm=ball_tree, metric=euclidean, n_neighbors=30, weights=distance;, score=(train=1.000, test=0.376) total time=   0.0s\n",
      "[CV 2/5] END algorithm=ball_tree, metric=euclidean, n_neighbors=30, weights=distance;, score=(train=1.000, test=0.824) total time=   0.0s\n",
      "[CV 3/5] END algorithm=ball_tree, metric=euclidean, n_neighbors=30, weights=distance;, score=(train=1.000, test=0.226) total time=   0.0s\n",
      "[CV 4/5] END algorithm=ball_tree, metric=euclidean, n_neighbors=30, weights=distance;, score=(train=1.000, test=0.663) total time=   0.0s\n",
      "[CV 5/5] END algorithm=ball_tree, metric=euclidean, n_neighbors=30, weights=distance;, score=(train=1.000, test=0.590) total time=   0.0s\n",
      "[CV 1/5] END algorithm=ball_tree, metric=euclidean, n_neighbors=35, weights=uniform;, score=(train=0.362, test=0.118) total time=   0.0s\n",
      "[CV 2/5] END algorithm=ball_tree, metric=euclidean, n_neighbors=35, weights=uniform;, score=(train=0.340, test=0.334) total time=   0.0s\n",
      "[CV 3/5] END algorithm=ball_tree, metric=euclidean, n_neighbors=35, weights=uniform;, score=(train=0.363, test=0.136) total time=   0.0s\n",
      "[CV 4/5] END algorithm=ball_tree, metric=euclidean, n_neighbors=35, weights=uniform;, score=(train=0.268, test=0.063) total time=   0.0s\n",
      "[CV 5/5] END algorithm=ball_tree, metric=euclidean, n_neighbors=35, weights=uniform;, score=(train=0.331, test=0.302) total time=   0.0s\n",
      "[CV 1/5] END algorithm=ball_tree, metric=euclidean, n_neighbors=35, weights=distance;, score=(train=1.000, test=0.312) total time=   0.0s\n",
      "[CV 2/5] END algorithm=ball_tree, metric=euclidean, n_neighbors=35, weights=distance;, score=(train=1.000, test=0.803) total time=   0.0s\n",
      "[CV 3/5] END algorithm=ball_tree, metric=euclidean, n_neighbors=35, weights=distance;, score=(train=1.000, test=0.231) total time=   0.0s\n",
      "[CV 4/5] END algorithm=ball_tree, metric=euclidean, n_neighbors=35, weights=distance;, score=(train=1.000, test=0.608) total time=   0.0s\n",
      "[CV 5/5] END algorithm=ball_tree, metric=euclidean, n_neighbors=35, weights=distance;, score=(train=1.000, test=0.556) total time=   0.0s\n",
      "[CV 1/5] END algorithm=ball_tree, metric=euclidean, n_neighbors=40, weights=uniform;, score=(train=0.294, test=0.060) total time=   0.0s\n",
      "[CV 2/5] END algorithm=ball_tree, metric=euclidean, n_neighbors=40, weights=uniform;, score=(train=0.272, test=0.248) total time=   0.0s\n"
     ]
    },
    {
     "name": "stdout",
     "output_type": "stream",
     "text": [
      "[CV 3/5] END algorithm=ball_tree, metric=euclidean, n_neighbors=40, weights=uniform;, score=(train=0.297, test=0.086) total time=   0.0s\n",
      "[CV 4/5] END algorithm=ball_tree, metric=euclidean, n_neighbors=40, weights=uniform;, score=(train=0.205, test=-0.027) total time=   0.0s\n",
      "[CV 5/5] END algorithm=ball_tree, metric=euclidean, n_neighbors=40, weights=uniform;, score=(train=0.255, test=0.215) total time=   0.0s\n",
      "[CV 1/5] END algorithm=ball_tree, metric=euclidean, n_neighbors=40, weights=distance;, score=(train=1.000, test=0.299) total time=   0.0s\n",
      "[CV 2/5] END algorithm=ball_tree, metric=euclidean, n_neighbors=40, weights=distance;, score=(train=1.000, test=0.780) total time=   0.0s\n",
      "[CV 3/5] END algorithm=ball_tree, metric=euclidean, n_neighbors=40, weights=distance;, score=(train=1.000, test=0.213) total time=   0.0s\n",
      "[CV 4/5] END algorithm=ball_tree, metric=euclidean, n_neighbors=40, weights=distance;, score=(train=1.000, test=0.549) total time=   0.0s\n",
      "[CV 5/5] END algorithm=ball_tree, metric=euclidean, n_neighbors=40, weights=distance;, score=(train=1.000, test=0.511) total time=   0.0s\n",
      "[CV 1/5] END algorithm=ball_tree, metric=euclidean, n_neighbors=45, weights=uniform;, score=(train=0.215, test=0.002) total time=   0.0s\n",
      "[CV 2/5] END algorithm=ball_tree, metric=euclidean, n_neighbors=45, weights=uniform;, score=(train=0.181, test=0.178) total time=   0.0s\n",
      "[CV 3/5] END algorithm=ball_tree, metric=euclidean, n_neighbors=45, weights=uniform;, score=(train=0.227, test=0.123) total time=   0.0s\n",
      "[CV 4/5] END algorithm=ball_tree, metric=euclidean, n_neighbors=45, weights=uniform;, score=(train=0.147, test=-0.109) total time=   0.0s\n",
      "[CV 5/5] END algorithm=ball_tree, metric=euclidean, n_neighbors=45, weights=uniform;, score=(train=0.203, test=0.160) total time=   0.0s\n",
      "[CV 1/5] END algorithm=ball_tree, metric=euclidean, n_neighbors=45, weights=distance;, score=(train=1.000, test=0.284) total time=   0.0s\n",
      "[CV 2/5] END algorithm=ball_tree, metric=euclidean, n_neighbors=45, weights=distance;, score=(train=1.000, test=0.769) total time=   0.0s\n",
      "[CV 3/5] END algorithm=ball_tree, metric=euclidean, n_neighbors=45, weights=distance;, score=(train=1.000, test=0.249) total time=   0.0s\n",
      "[CV 4/5] END algorithm=ball_tree, metric=euclidean, n_neighbors=45, weights=distance;, score=(train=1.000, test=0.495) total time=   0.0s\n",
      "[CV 5/5] END algorithm=ball_tree, metric=euclidean, n_neighbors=45, weights=distance;, score=(train=1.000, test=0.482) total time=   0.0s\n",
      "[CV 1/5] END algorithm=ball_tree, metric=euclidean, n_neighbors=50, weights=uniform;, score=(train=0.194, test=0.056) total time=   0.0s\n",
      "[CV 2/5] END algorithm=ball_tree, metric=euclidean, n_neighbors=50, weights=uniform;, score=(train=0.177, test=0.136) total time=   0.0s\n",
      "[CV 3/5] END algorithm=ball_tree, metric=euclidean, n_neighbors=50, weights=uniform;, score=(train=0.201, test=0.162) total time=   0.0s\n",
      "[CV 4/5] END algorithm=ball_tree, metric=euclidean, n_neighbors=50, weights=uniform;, score=(train=0.092, test=-0.227) total time=   0.0s\n",
      "[CV 5/5] END algorithm=ball_tree, metric=euclidean, n_neighbors=50, weights=uniform;, score=(train=0.188, test=0.197) total time=   0.0s\n",
      "[CV 1/5] END algorithm=ball_tree, metric=euclidean, n_neighbors=50, weights=distance;, score=(train=1.000, test=0.305) total time=   0.0s\n",
      "[CV 2/5] END algorithm=ball_tree, metric=euclidean, n_neighbors=50, weights=distance;, score=(train=1.000, test=0.757) total time=   0.0s\n",
      "[CV 3/5] END algorithm=ball_tree, metric=euclidean, n_neighbors=50, weights=distance;, score=(train=1.000, test=0.260) total time=   0.0s\n",
      "[CV 4/5] END algorithm=ball_tree, metric=euclidean, n_neighbors=50, weights=distance;, score=(train=1.000, test=0.425) total time=   0.0s\n",
      "[CV 5/5] END algorithm=ball_tree, metric=euclidean, n_neighbors=50, weights=distance;, score=(train=1.000, test=0.481) total time=   0.0s\n",
      "[CV 1/5] END algorithm=ball_tree, metric=manhattan, n_neighbors=5, weights=uniform;, score=(train=0.825, test=0.482) total time=   0.0s\n",
      "[CV 2/5] END algorithm=ball_tree, metric=manhattan, n_neighbors=5, weights=uniform;, score=(train=0.812, test=0.514) total time=   0.0s\n",
      "[CV 3/5] END algorithm=ball_tree, metric=manhattan, n_neighbors=5, weights=uniform;, score=(train=0.832, test=0.257) total time=   0.0s\n",
      "[CV 4/5] END algorithm=ball_tree, metric=manhattan, n_neighbors=5, weights=uniform;, score=(train=0.696, test=0.781) total time=   0.0s\n",
      "[CV 5/5] END algorithm=ball_tree, metric=manhattan, n_neighbors=5, weights=uniform;, score=(train=0.782, test=0.747) total time=   0.0s\n",
      "[CV 1/5] END algorithm=ball_tree, metric=manhattan, n_neighbors=5, weights=distance;, score=(train=1.000, test=0.540) total time=   0.0s\n",
      "[CV 2/5] END algorithm=ball_tree, metric=manhattan, n_neighbors=5, weights=distance;, score=(train=1.000, test=0.561) total time=   0.0s\n",
      "[CV 3/5] END algorithm=ball_tree, metric=manhattan, n_neighbors=5, weights=distance;, score=(train=1.000, test=0.297) total time=   0.0s\n",
      "[CV 4/5] END algorithm=ball_tree, metric=manhattan, n_neighbors=5, weights=distance;, score=(train=1.000, test=0.886) total time=   0.0s\n",
      "[CV 5/5] END algorithm=ball_tree, metric=manhattan, n_neighbors=5, weights=distance;, score=(train=1.000, test=0.765) total time=   0.0s\n",
      "[CV 1/5] END algorithm=ball_tree, metric=manhattan, n_neighbors=10, weights=uniform;, score=(train=0.757, test=0.455) total time=   0.0s\n",
      "[CV 2/5] END algorithm=ball_tree, metric=manhattan, n_neighbors=10, weights=uniform;, score=(train=0.768, test=0.609) total time=   0.0s\n",
      "[CV 3/5] END algorithm=ball_tree, metric=manhattan, n_neighbors=10, weights=uniform;, score=(train=0.761, test=0.360) total time=   0.0s\n",
      "[CV 4/5] END algorithm=ball_tree, metric=manhattan, n_neighbors=10, weights=uniform;, score=(train=0.595, test=0.644) total time=   0.0s\n",
      "[CV 5/5] END algorithm=ball_tree, metric=manhattan, n_neighbors=10, weights=uniform;, score=(train=0.665, test=0.741) total time=   0.0s\n",
      "[CV 1/5] END algorithm=ball_tree, metric=manhattan, n_neighbors=10, weights=distance;, score=(train=1.000, test=0.521) total time=   0.0s\n",
      "[CV 2/5] END algorithm=ball_tree, metric=manhattan, n_neighbors=10, weights=distance;, score=(train=1.000, test=0.665) total time=   0.0s\n",
      "[CV 3/5] END algorithm=ball_tree, metric=manhattan, n_neighbors=10, weights=distance;, score=(train=1.000, test=0.383) total time=   0.0s\n",
      "[CV 4/5] END algorithm=ball_tree, metric=manhattan, n_neighbors=10, weights=distance;, score=(train=1.000, test=0.876) total time=   0.0s\n",
      "[CV 5/5] END algorithm=ball_tree, metric=manhattan, n_neighbors=10, weights=distance;, score=(train=1.000, test=0.790) total time=   0.0s\n",
      "[CV 1/5] END algorithm=ball_tree, metric=manhattan, n_neighbors=15, weights=uniform;, score=(train=0.704, test=0.432) total time=   0.0s\n",
      "[CV 2/5] END algorithm=ball_tree, metric=manhattan, n_neighbors=15, weights=uniform;, score=(train=0.696, test=0.679) total time=   0.0s\n",
      "[CV 3/5] END algorithm=ball_tree, metric=manhattan, n_neighbors=15, weights=uniform;, score=(train=0.723, test=0.317) total time=   0.0s\n",
      "[CV 4/5] END algorithm=ball_tree, metric=manhattan, n_neighbors=15, weights=uniform;, score=(train=0.535, test=0.492) total time=   0.0s\n",
      "[CV 5/5] END algorithm=ball_tree, metric=manhattan, n_neighbors=15, weights=uniform;, score=(train=0.654, test=0.669) total time=   0.0s\n",
      "[CV 1/5] END algorithm=ball_tree, metric=manhattan, n_neighbors=15, weights=distance;, score=(train=1.000, test=0.498) total time=   0.0s\n",
      "[CV 2/5] END algorithm=ball_tree, metric=manhattan, n_neighbors=15, weights=distance;, score=(train=1.000, test=0.788) total time=   0.0s\n",
      "[CV 3/5] END algorithm=ball_tree, metric=manhattan, n_neighbors=15, weights=distance;, score=(train=1.000, test=0.339) total time=   0.0s\n",
      "[CV 4/5] END algorithm=ball_tree, metric=manhattan, n_neighbors=15, weights=distance;, score=(train=1.000, test=0.855) total time=   0.0s\n",
      "[CV 5/5] END algorithm=ball_tree, metric=manhattan, n_neighbors=15, weights=distance;, score=(train=1.000, test=0.769) total time=   0.0s\n",
      "[CV 1/5] END algorithm=ball_tree, metric=manhattan, n_neighbors=20, weights=uniform;, score=(train=0.634, test=0.368) total time=   0.0s\n",
      "[CV 2/5] END algorithm=ball_tree, metric=manhattan, n_neighbors=20, weights=uniform;, score=(train=0.597, test=0.613) total time=   0.0s\n",
      "[CV 3/5] END algorithm=ball_tree, metric=manhattan, n_neighbors=20, weights=uniform;, score=(train=0.640, test=0.277) total time=   0.0s\n",
      "[CV 4/5] END algorithm=ball_tree, metric=manhattan, n_neighbors=20, weights=uniform;, score=(train=0.493, test=0.391) total time=   0.0s\n",
      "[CV 5/5] END algorithm=ball_tree, metric=manhattan, n_neighbors=20, weights=uniform;, score=(train=0.577, test=0.571) total time=   0.0s\n",
      "[CV 1/5] END algorithm=ball_tree, metric=manhattan, n_neighbors=20, weights=distance;, score=(train=1.000, test=0.449) total time=   0.0s\n",
      "[CV 2/5] END algorithm=ball_tree, metric=manhattan, n_neighbors=20, weights=distance;, score=(train=1.000, test=0.824) total time=   0.0s\n",
      "[CV 3/5] END algorithm=ball_tree, metric=manhattan, n_neighbors=20, weights=distance;, score=(train=1.000, test=0.312) total time=   0.0s\n",
      "[CV 4/5] END algorithm=ball_tree, metric=manhattan, n_neighbors=20, weights=distance;, score=(train=1.000, test=0.822) total time=   0.0s\n",
      "[CV 5/5] END algorithm=ball_tree, metric=manhattan, n_neighbors=20, weights=distance;, score=(train=1.000, test=0.725) total time=   0.0s\n",
      "[CV 1/5] END algorithm=ball_tree, metric=manhattan, n_neighbors=25, weights=uniform;, score=(train=0.562, test=0.306) total time=   0.0s\n",
      "[CV 2/5] END algorithm=ball_tree, metric=manhattan, n_neighbors=25, weights=uniform;, score=(train=0.517, test=0.540) total time=   0.0s\n"
     ]
    },
    {
     "name": "stdout",
     "output_type": "stream",
     "text": [
      "[CV 3/5] END algorithm=ball_tree, metric=manhattan, n_neighbors=25, weights=uniform;, score=(train=0.558, test=0.186) total time=   0.0s\n",
      "[CV 4/5] END algorithm=ball_tree, metric=manhattan, n_neighbors=25, weights=uniform;, score=(train=0.428, test=0.270) total time=   0.0s\n",
      "[CV 5/5] END algorithm=ball_tree, metric=manhattan, n_neighbors=25, weights=uniform;, score=(train=0.499, test=0.503) total time=   0.0s\n",
      "[CV 1/5] END algorithm=ball_tree, metric=manhattan, n_neighbors=25, weights=distance;, score=(train=1.000, test=0.410) total time=   0.0s\n",
      "[CV 2/5] END algorithm=ball_tree, metric=manhattan, n_neighbors=25, weights=distance;, score=(train=1.000, test=0.833) total time=   0.0s\n",
      "[CV 3/5] END algorithm=ball_tree, metric=manhattan, n_neighbors=25, weights=distance;, score=(train=1.000, test=0.260) total time=   0.0s\n",
      "[CV 4/5] END algorithm=ball_tree, metric=manhattan, n_neighbors=25, weights=distance;, score=(train=1.000, test=0.780) total time=   0.0s\n",
      "[CV 5/5] END algorithm=ball_tree, metric=manhattan, n_neighbors=25, weights=distance;, score=(train=1.000, test=0.687) total time=   0.0s\n",
      "[CV 1/5] END algorithm=ball_tree, metric=manhattan, n_neighbors=30, weights=uniform;, score=(train=0.463, test=0.245) total time=   0.0s\n",
      "[CV 2/5] END algorithm=ball_tree, metric=manhattan, n_neighbors=30, weights=uniform;, score=(train=0.438, test=0.431) total time=   0.0s\n",
      "[CV 3/5] END algorithm=ball_tree, metric=manhattan, n_neighbors=30, weights=uniform;, score=(train=0.465, test=0.162) total time=   0.0s\n",
      "[CV 4/5] END algorithm=ball_tree, metric=manhattan, n_neighbors=30, weights=uniform;, score=(train=0.353, test=0.179) total time=   0.0s\n",
      "[CV 5/5] END algorithm=ball_tree, metric=manhattan, n_neighbors=30, weights=uniform;, score=(train=0.412, test=0.401) total time=   0.0s\n",
      "[CV 1/5] END algorithm=ball_tree, metric=manhattan, n_neighbors=30, weights=distance;, score=(train=1.000, test=0.382) total time=   0.0s\n",
      "[CV 2/5] END algorithm=ball_tree, metric=manhattan, n_neighbors=30, weights=distance;, score=(train=1.000, test=0.822) total time=   0.0s\n",
      "[CV 3/5] END algorithm=ball_tree, metric=manhattan, n_neighbors=30, weights=distance;, score=(train=1.000, test=0.247) total time=   0.0s\n",
      "[CV 4/5] END algorithm=ball_tree, metric=manhattan, n_neighbors=30, weights=distance;, score=(train=1.000, test=0.744) total time=   0.0s\n",
      "[CV 5/5] END algorithm=ball_tree, metric=manhattan, n_neighbors=30, weights=distance;, score=(train=1.000, test=0.641) total time=   0.0s\n",
      "[CV 1/5] END algorithm=ball_tree, metric=manhattan, n_neighbors=35, weights=uniform;, score=(train=0.380, test=0.178) total time=   0.0s\n",
      "[CV 2/5] END algorithm=ball_tree, metric=manhattan, n_neighbors=35, weights=uniform;, score=(train=0.359, test=0.334) total time=   0.0s\n",
      "[CV 3/5] END algorithm=ball_tree, metric=manhattan, n_neighbors=35, weights=uniform;, score=(train=0.377, test=0.167) total time=   0.0s\n",
      "[CV 4/5] END algorithm=ball_tree, metric=manhattan, n_neighbors=35, weights=uniform;, score=(train=0.274, test=0.066) total time=   0.0s\n",
      "[CV 5/5] END algorithm=ball_tree, metric=manhattan, n_neighbors=35, weights=uniform;, score=(train=0.340, test=0.321) total time=   0.0s\n",
      "[CV 1/5] END algorithm=ball_tree, metric=manhattan, n_neighbors=35, weights=distance;, score=(train=1.000, test=0.353) total time=   0.0s\n",
      "[CV 2/5] END algorithm=ball_tree, metric=manhattan, n_neighbors=35, weights=distance;, score=(train=1.000, test=0.818) total time=   0.0s\n",
      "[CV 3/5] END algorithm=ball_tree, metric=manhattan, n_neighbors=35, weights=distance;, score=(train=1.000, test=0.258) total time=   0.0s\n",
      "[CV 4/5] END algorithm=ball_tree, metric=manhattan, n_neighbors=35, weights=distance;, score=(train=1.000, test=0.694) total time=   0.0s\n",
      "[CV 5/5] END algorithm=ball_tree, metric=manhattan, n_neighbors=35, weights=distance;, score=(train=1.000, test=0.603) total time=   0.0s\n",
      "[CV 1/5] END algorithm=ball_tree, metric=manhattan, n_neighbors=40, weights=uniform;, score=(train=0.299, test=0.089) total time=   0.0s\n",
      "[CV 2/5] END algorithm=ball_tree, metric=manhattan, n_neighbors=40, weights=uniform;, score=(train=0.276, test=0.253) total time=   0.0s\n",
      "[CV 3/5] END algorithm=ball_tree, metric=manhattan, n_neighbors=40, weights=uniform;, score=(train=0.300, test=0.098) total time=   0.0s\n",
      "[CV 4/5] END algorithm=ball_tree, metric=manhattan, n_neighbors=40, weights=uniform;, score=(train=0.214, test=-0.030) total time=   0.0s\n",
      "[CV 5/5] END algorithm=ball_tree, metric=manhattan, n_neighbors=40, weights=uniform;, score=(train=0.262, test=0.234) total time=   0.0s\n",
      "[CV 1/5] END algorithm=ball_tree, metric=manhattan, n_neighbors=40, weights=distance;, score=(train=1.000, test=0.322) total time=   0.0s\n",
      "[CV 2/5] END algorithm=ball_tree, metric=manhattan, n_neighbors=40, weights=distance;, score=(train=1.000, test=0.812) total time=   0.0s\n",
      "[CV 3/5] END algorithm=ball_tree, metric=manhattan, n_neighbors=40, weights=distance;, score=(train=1.000, test=0.231) total time=   0.0s\n",
      "[CV 4/5] END algorithm=ball_tree, metric=manhattan, n_neighbors=40, weights=distance;, score=(train=1.000, test=0.646) total time=   0.0s\n",
      "[CV 5/5] END algorithm=ball_tree, metric=manhattan, n_neighbors=40, weights=distance;, score=(train=1.000, test=0.570) total time=   0.0s\n",
      "[CV 1/5] END algorithm=ball_tree, metric=manhattan, n_neighbors=45, weights=uniform;, score=(train=0.217, test=-0.006) total time=   0.0s\n",
      "[CV 2/5] END algorithm=ball_tree, metric=manhattan, n_neighbors=45, weights=uniform;, score=(train=0.182, test=0.185) total time=   0.0s\n",
      "[CV 3/5] END algorithm=ball_tree, metric=manhattan, n_neighbors=45, weights=uniform;, score=(train=0.234, test=0.126) total time=   0.0s\n",
      "[CV 4/5] END algorithm=ball_tree, metric=manhattan, n_neighbors=45, weights=uniform;, score=(train=0.148, test=-0.106) total time=   0.0s\n",
      "[CV 5/5] END algorithm=ball_tree, metric=manhattan, n_neighbors=45, weights=uniform;, score=(train=0.206, test=0.159) total time=   0.0s\n",
      "[CV 1/5] END algorithm=ball_tree, metric=manhattan, n_neighbors=45, weights=distance;, score=(train=1.000, test=0.297) total time=   0.0s\n",
      "[CV 2/5] END algorithm=ball_tree, metric=manhattan, n_neighbors=45, weights=distance;, score=(train=1.000, test=0.812) total time=   0.0s\n",
      "[CV 3/5] END algorithm=ball_tree, metric=manhattan, n_neighbors=45, weights=distance;, score=(train=1.000, test=0.258) total time=   0.0s\n",
      "[CV 4/5] END algorithm=ball_tree, metric=manhattan, n_neighbors=45, weights=distance;, score=(train=1.000, test=0.608) total time=   0.0s\n",
      "[CV 5/5] END algorithm=ball_tree, metric=manhattan, n_neighbors=45, weights=distance;, score=(train=1.000, test=0.536) total time=   0.0s\n",
      "[CV 1/5] END algorithm=ball_tree, metric=manhattan, n_neighbors=50, weights=uniform;, score=(train=0.200, test=0.094) total time=   0.0s\n",
      "[CV 2/5] END algorithm=ball_tree, metric=manhattan, n_neighbors=50, weights=uniform;, score=(train=0.186, test=0.136) total time=   0.0s\n",
      "[CV 3/5] END algorithm=ball_tree, metric=manhattan, n_neighbors=50, weights=uniform;, score=(train=0.208, test=0.221) total time=   0.0s\n",
      "[CV 4/5] END algorithm=ball_tree, metric=manhattan, n_neighbors=50, weights=uniform;, score=(train=0.110, test=-0.228) total time=   0.0s\n",
      "[CV 5/5] END algorithm=ball_tree, metric=manhattan, n_neighbors=50, weights=uniform;, score=(train=0.206, test=0.196) total time=   0.0s\n",
      "[CV 1/5] END algorithm=ball_tree, metric=manhattan, n_neighbors=50, weights=distance;, score=(train=1.000, test=0.330) total time=   0.0s\n",
      "[CV 2/5] END algorithm=ball_tree, metric=manhattan, n_neighbors=50, weights=distance;, score=(train=1.000, test=0.808) total time=   0.0s\n",
      "[CV 3/5] END algorithm=ball_tree, metric=manhattan, n_neighbors=50, weights=distance;, score=(train=1.000, test=0.286) total time=   0.0s\n",
      "[CV 4/5] END algorithm=ball_tree, metric=manhattan, n_neighbors=50, weights=distance;, score=(train=1.000, test=0.554) total time=   0.0s\n",
      "[CV 5/5] END algorithm=ball_tree, metric=manhattan, n_neighbors=50, weights=distance;, score=(train=1.000, test=0.537) total time=   0.0s\n",
      "[CV 1/5] END algorithm=kd_tree, metric=euclidean, n_neighbors=5, weights=uniform;, score=(train=0.832, test=0.483) total time=   0.0s\n",
      "[CV 2/5] END algorithm=kd_tree, metric=euclidean, n_neighbors=5, weights=uniform;, score=(train=0.840, test=0.515) total time=   0.0s\n",
      "[CV 3/5] END algorithm=kd_tree, metric=euclidean, n_neighbors=5, weights=uniform;, score=(train=0.840, test=0.456) total time=   0.0s\n",
      "[CV 4/5] END algorithm=kd_tree, metric=euclidean, n_neighbors=5, weights=uniform;, score=(train=0.687, test=0.798) total time=   0.0s\n",
      "[CV 5/5] END algorithm=kd_tree, metric=euclidean, n_neighbors=5, weights=uniform;, score=(train=0.781, test=0.737) total time=   0.0s\n",
      "[CV 1/5] END algorithm=kd_tree, metric=euclidean, n_neighbors=5, weights=distance;, score=(train=1.000, test=0.533) total time=   0.0s\n",
      "[CV 2/5] END algorithm=kd_tree, metric=euclidean, n_neighbors=5, weights=distance;, score=(train=1.000, test=0.571) total time=   0.0s\n",
      "[CV 3/5] END algorithm=kd_tree, metric=euclidean, n_neighbors=5, weights=distance;, score=(train=1.000, test=0.418) total time=   0.0s\n",
      "[CV 4/5] END algorithm=kd_tree, metric=euclidean, n_neighbors=5, weights=distance;, score=(train=1.000, test=0.895) total time=   0.0s\n",
      "[CV 5/5] END algorithm=kd_tree, metric=euclidean, n_neighbors=5, weights=distance;, score=(train=1.000, test=0.754) total time=   0.0s\n",
      "[CV 1/5] END algorithm=kd_tree, metric=euclidean, n_neighbors=10, weights=uniform;, score=(train=0.752, test=0.458) total time=   0.0s\n",
      "[CV 2/5] END algorithm=kd_tree, metric=euclidean, n_neighbors=10, weights=uniform;, score=(train=0.750, test=0.588) total time=   0.0s\n",
      "[CV 3/5] END algorithm=kd_tree, metric=euclidean, n_neighbors=10, weights=uniform;, score=(train=0.760, test=0.370) total time=   0.0s\n",
      "[CV 4/5] END algorithm=kd_tree, metric=euclidean, n_neighbors=10, weights=uniform;, score=(train=0.579, test=0.500) total time=   0.0s\n",
      "[CV 5/5] END algorithm=kd_tree, metric=euclidean, n_neighbors=10, weights=uniform;, score=(train=0.673, test=0.694) total time=   0.0s\n",
      "[CV 1/5] END algorithm=kd_tree, metric=euclidean, n_neighbors=10, weights=distance;, score=(train=1.000, test=0.528) total time=   0.0s\n",
      "[CV 2/5] END algorithm=kd_tree, metric=euclidean, n_neighbors=10, weights=distance;, score=(train=1.000, test=0.685) total time=   0.0s\n",
      "[CV 3/5] END algorithm=kd_tree, metric=euclidean, n_neighbors=10, weights=distance;, score=(train=1.000, test=0.397) total time=   0.0s\n",
      "[CV 4/5] END algorithm=kd_tree, metric=euclidean, n_neighbors=10, weights=distance;, score=(train=1.000, test=0.868) total time=   0.0s\n",
      "[CV 5/5] END algorithm=kd_tree, metric=euclidean, n_neighbors=10, weights=distance;, score=(train=1.000, test=0.765) total time=   0.0s\n",
      "[CV 1/5] END algorithm=kd_tree, metric=euclidean, n_neighbors=15, weights=uniform;, score=(train=0.686, test=0.402) total time=   0.0s\n",
      "[CV 2/5] END algorithm=kd_tree, metric=euclidean, n_neighbors=15, weights=uniform;, score=(train=0.675, test=0.604) total time=   0.0s\n",
      "[CV 3/5] END algorithm=kd_tree, metric=euclidean, n_neighbors=15, weights=uniform;, score=(train=0.691, test=0.369) total time=   0.0s\n",
      "[CV 4/5] END algorithm=kd_tree, metric=euclidean, n_neighbors=15, weights=uniform;, score=(train=0.518, test=0.398) total time=   0.0s\n",
      "[CV 5/5] END algorithm=kd_tree, metric=euclidean, n_neighbors=15, weights=uniform;, score=(train=0.612, test=0.658) total time=   0.0s\n",
      "[CV 1/5] END algorithm=kd_tree, metric=euclidean, n_neighbors=15, weights=distance;, score=(train=1.000, test=0.482) total time=   0.0s\n"
     ]
    },
    {
     "name": "stdout",
     "output_type": "stream",
     "text": [
      "[CV 2/5] END algorithm=kd_tree, metric=euclidean, n_neighbors=15, weights=distance;, score=(train=1.000, test=0.800) total time=   0.0s\n",
      "[CV 3/5] END algorithm=kd_tree, metric=euclidean, n_neighbors=15, weights=distance;, score=(train=1.000, test=0.382) total time=   0.0s\n",
      "[CV 4/5] END algorithm=kd_tree, metric=euclidean, n_neighbors=15, weights=distance;, score=(train=1.000, test=0.823) total time=   0.0s\n",
      "[CV 5/5] END algorithm=kd_tree, metric=euclidean, n_neighbors=15, weights=distance;, score=(train=1.000, test=0.752) total time=   0.0s\n",
      "[CV 1/5] END algorithm=kd_tree, metric=euclidean, n_neighbors=20, weights=uniform;, score=(train=0.623, test=0.368) total time=   0.0s\n",
      "[CV 2/5] END algorithm=kd_tree, metric=euclidean, n_neighbors=20, weights=uniform;, score=(train=0.585, test=0.632) total time=   0.0s\n",
      "[CV 3/5] END algorithm=kd_tree, metric=euclidean, n_neighbors=20, weights=uniform;, score=(train=0.617, test=0.292) total time=   0.0s\n",
      "[CV 4/5] END algorithm=kd_tree, metric=euclidean, n_neighbors=20, weights=uniform;, score=(train=0.484, test=0.343) total time=   0.0s\n",
      "[CV 5/5] END algorithm=kd_tree, metric=euclidean, n_neighbors=20, weights=uniform;, score=(train=0.556, test=0.574) total time=   0.0s\n",
      "[CV 1/5] END algorithm=kd_tree, metric=euclidean, n_neighbors=20, weights=distance;, score=(train=1.000, test=0.453) total time=   0.0s\n",
      "[CV 2/5] END algorithm=kd_tree, metric=euclidean, n_neighbors=20, weights=distance;, score=(train=1.000, test=0.854) total time=   0.0s\n",
      "[CV 3/5] END algorithm=kd_tree, metric=euclidean, n_neighbors=20, weights=distance;, score=(train=1.000, test=0.321) total time=   0.0s\n",
      "[CV 4/5] END algorithm=kd_tree, metric=euclidean, n_neighbors=20, weights=distance;, score=(train=1.000, test=0.774) total time=   0.0s\n",
      "[CV 5/5] END algorithm=kd_tree, metric=euclidean, n_neighbors=20, weights=distance;, score=(train=1.000, test=0.708) total time=   0.0s\n",
      "[CV 1/5] END algorithm=kd_tree, metric=euclidean, n_neighbors=25, weights=uniform;, score=(train=0.543, test=0.314) total time=   0.0s\n",
      "[CV 2/5] END algorithm=kd_tree, metric=euclidean, n_neighbors=25, weights=uniform;, score=(train=0.490, test=0.525) total time=   0.0s\n",
      "[CV 3/5] END algorithm=kd_tree, metric=euclidean, n_neighbors=25, weights=uniform;, score=(train=0.538, test=0.206) total time=   0.0s\n",
      "[CV 4/5] END algorithm=kd_tree, metric=euclidean, n_neighbors=25, weights=uniform;, score=(train=0.401, test=0.205) total time=   0.0s\n",
      "[CV 5/5] END algorithm=kd_tree, metric=euclidean, n_neighbors=25, weights=uniform;, score=(train=0.479, test=0.459) total time=   0.0s\n",
      "[CV 1/5] END algorithm=kd_tree, metric=euclidean, n_neighbors=25, weights=distance;, score=(train=1.000, test=0.413) total time=   0.0s\n",
      "[CV 2/5] END algorithm=kd_tree, metric=euclidean, n_neighbors=25, weights=distance;, score=(train=1.000, test=0.844) total time=   0.0s\n",
      "[CV 3/5] END algorithm=kd_tree, metric=euclidean, n_neighbors=25, weights=distance;, score=(train=1.000, test=0.262) total time=   0.0s\n",
      "[CV 4/5] END algorithm=kd_tree, metric=euclidean, n_neighbors=25, weights=distance;, score=(train=1.000, test=0.706) total time=   0.0s\n",
      "[CV 5/5] END algorithm=kd_tree, metric=euclidean, n_neighbors=25, weights=distance;, score=(train=1.000, test=0.648) total time=   0.0s\n",
      "[CV 1/5] END algorithm=kd_tree, metric=euclidean, n_neighbors=30, weights=uniform;, score=(train=0.443, test=0.239) total time=   0.0s\n",
      "[CV 2/5] END algorithm=kd_tree, metric=euclidean, n_neighbors=30, weights=uniform;, score=(train=0.416, test=0.425) total time=   0.0s\n",
      "[CV 3/5] END algorithm=kd_tree, metric=euclidean, n_neighbors=30, weights=uniform;, score=(train=0.442, test=0.141) total time=   0.0s\n",
      "[CV 4/5] END algorithm=kd_tree, metric=euclidean, n_neighbors=30, weights=uniform;, score=(train=0.341, test=0.145) total time=   0.0s\n",
      "[CV 5/5] END algorithm=kd_tree, metric=euclidean, n_neighbors=30, weights=uniform;, score=(train=0.400, test=0.351) total time=   0.0s\n",
      "[CV 1/5] END algorithm=kd_tree, metric=euclidean, n_neighbors=30, weights=distance;, score=(train=1.000, test=0.376) total time=   0.0s\n",
      "[CV 2/5] END algorithm=kd_tree, metric=euclidean, n_neighbors=30, weights=distance;, score=(train=1.000, test=0.824) total time=   0.0s\n",
      "[CV 3/5] END algorithm=kd_tree, metric=euclidean, n_neighbors=30, weights=distance;, score=(train=1.000, test=0.226) total time=   0.0s\n",
      "[CV 4/5] END algorithm=kd_tree, metric=euclidean, n_neighbors=30, weights=distance;, score=(train=1.000, test=0.663) total time=   0.0s\n",
      "[CV 5/5] END algorithm=kd_tree, metric=euclidean, n_neighbors=30, weights=distance;, score=(train=1.000, test=0.590) total time=   0.0s\n",
      "[CV 1/5] END algorithm=kd_tree, metric=euclidean, n_neighbors=35, weights=uniform;, score=(train=0.362, test=0.118) total time=   0.0s\n",
      "[CV 2/5] END algorithm=kd_tree, metric=euclidean, n_neighbors=35, weights=uniform;, score=(train=0.340, test=0.334) total time=   0.0s\n",
      "[CV 3/5] END algorithm=kd_tree, metric=euclidean, n_neighbors=35, weights=uniform;, score=(train=0.363, test=0.136) total time=   0.0s\n",
      "[CV 4/5] END algorithm=kd_tree, metric=euclidean, n_neighbors=35, weights=uniform;, score=(train=0.268, test=0.063) total time=   0.0s\n",
      "[CV 5/5] END algorithm=kd_tree, metric=euclidean, n_neighbors=35, weights=uniform;, score=(train=0.331, test=0.302) total time=   0.0s\n",
      "[CV 1/5] END algorithm=kd_tree, metric=euclidean, n_neighbors=35, weights=distance;, score=(train=1.000, test=0.312) total time=   0.0s\n",
      "[CV 2/5] END algorithm=kd_tree, metric=euclidean, n_neighbors=35, weights=distance;, score=(train=1.000, test=0.803) total time=   0.0s\n",
      "[CV 3/5] END algorithm=kd_tree, metric=euclidean, n_neighbors=35, weights=distance;, score=(train=1.000, test=0.231) total time=   0.0s\n",
      "[CV 4/5] END algorithm=kd_tree, metric=euclidean, n_neighbors=35, weights=distance;, score=(train=1.000, test=0.608) total time=   0.0s\n",
      "[CV 5/5] END algorithm=kd_tree, metric=euclidean, n_neighbors=35, weights=distance;, score=(train=1.000, test=0.556) total time=   0.0s\n",
      "[CV 1/5] END algorithm=kd_tree, metric=euclidean, n_neighbors=40, weights=uniform;, score=(train=0.294, test=0.060) total time=   0.0s\n",
      "[CV 2/5] END algorithm=kd_tree, metric=euclidean, n_neighbors=40, weights=uniform;, score=(train=0.272, test=0.248) total time=   0.0s\n",
      "[CV 3/5] END algorithm=kd_tree, metric=euclidean, n_neighbors=40, weights=uniform;, score=(train=0.297, test=0.086) total time=   0.0s\n",
      "[CV 4/5] END algorithm=kd_tree, metric=euclidean, n_neighbors=40, weights=uniform;, score=(train=0.205, test=-0.027) total time=   0.0s\n",
      "[CV 5/5] END algorithm=kd_tree, metric=euclidean, n_neighbors=40, weights=uniform;, score=(train=0.255, test=0.215) total time=   0.0s\n",
      "[CV 1/5] END algorithm=kd_tree, metric=euclidean, n_neighbors=40, weights=distance;, score=(train=1.000, test=0.299) total time=   0.0s\n",
      "[CV 2/5] END algorithm=kd_tree, metric=euclidean, n_neighbors=40, weights=distance;, score=(train=1.000, test=0.780) total time=   0.0s\n",
      "[CV 3/5] END algorithm=kd_tree, metric=euclidean, n_neighbors=40, weights=distance;, score=(train=1.000, test=0.213) total time=   0.0s\n",
      "[CV 4/5] END algorithm=kd_tree, metric=euclidean, n_neighbors=40, weights=distance;, score=(train=1.000, test=0.549) total time=   0.0s\n",
      "[CV 5/5] END algorithm=kd_tree, metric=euclidean, n_neighbors=40, weights=distance;, score=(train=1.000, test=0.511) total time=   0.0s\n",
      "[CV 1/5] END algorithm=kd_tree, metric=euclidean, n_neighbors=45, weights=uniform;, score=(train=0.215, test=0.002) total time=   0.0s\n",
      "[CV 2/5] END algorithm=kd_tree, metric=euclidean, n_neighbors=45, weights=uniform;, score=(train=0.181, test=0.178) total time=   0.0s\n",
      "[CV 3/5] END algorithm=kd_tree, metric=euclidean, n_neighbors=45, weights=uniform;, score=(train=0.227, test=0.123) total time=   0.0s\n",
      "[CV 4/5] END algorithm=kd_tree, metric=euclidean, n_neighbors=45, weights=uniform;, score=(train=0.147, test=-0.109) total time=   0.0s\n",
      "[CV 5/5] END algorithm=kd_tree, metric=euclidean, n_neighbors=45, weights=uniform;, score=(train=0.203, test=0.160) total time=   0.0s\n",
      "[CV 1/5] END algorithm=kd_tree, metric=euclidean, n_neighbors=45, weights=distance;, score=(train=1.000, test=0.284) total time=   0.0s\n",
      "[CV 2/5] END algorithm=kd_tree, metric=euclidean, n_neighbors=45, weights=distance;, score=(train=1.000, test=0.769) total time=   0.0s\n",
      "[CV 3/5] END algorithm=kd_tree, metric=euclidean, n_neighbors=45, weights=distance;, score=(train=1.000, test=0.249) total time=   0.0s\n",
      "[CV 4/5] END algorithm=kd_tree, metric=euclidean, n_neighbors=45, weights=distance;, score=(train=1.000, test=0.495) total time=   0.0s\n",
      "[CV 5/5] END algorithm=kd_tree, metric=euclidean, n_neighbors=45, weights=distance;, score=(train=1.000, test=0.482) total time=   0.0s\n",
      "[CV 1/5] END algorithm=kd_tree, metric=euclidean, n_neighbors=50, weights=uniform;, score=(train=0.194, test=0.056) total time=   0.0s\n",
      "[CV 2/5] END algorithm=kd_tree, metric=euclidean, n_neighbors=50, weights=uniform;, score=(train=0.177, test=0.136) total time=   0.0s\n",
      "[CV 3/5] END algorithm=kd_tree, metric=euclidean, n_neighbors=50, weights=uniform;, score=(train=0.201, test=0.162) total time=   0.0s\n",
      "[CV 4/5] END algorithm=kd_tree, metric=euclidean, n_neighbors=50, weights=uniform;, score=(train=0.092, test=-0.227) total time=   0.0s\n",
      "[CV 5/5] END algorithm=kd_tree, metric=euclidean, n_neighbors=50, weights=uniform;, score=(train=0.188, test=0.197) total time=   0.0s\n",
      "[CV 1/5] END algorithm=kd_tree, metric=euclidean, n_neighbors=50, weights=distance;, score=(train=1.000, test=0.305) total time=   0.0s\n",
      "[CV 2/5] END algorithm=kd_tree, metric=euclidean, n_neighbors=50, weights=distance;, score=(train=1.000, test=0.757) total time=   0.0s\n",
      "[CV 3/5] END algorithm=kd_tree, metric=euclidean, n_neighbors=50, weights=distance;, score=(train=1.000, test=0.260) total time=   0.0s\n",
      "[CV 4/5] END algorithm=kd_tree, metric=euclidean, n_neighbors=50, weights=distance;, score=(train=1.000, test=0.425) total time=   0.0s\n",
      "[CV 5/5] END algorithm=kd_tree, metric=euclidean, n_neighbors=50, weights=distance;, score=(train=1.000, test=0.481) total time=   0.0s\n",
      "[CV 1/5] END algorithm=kd_tree, metric=manhattan, n_neighbors=5, weights=uniform;, score=(train=0.825, test=0.482) total time=   0.0s\n"
     ]
    },
    {
     "name": "stdout",
     "output_type": "stream",
     "text": [
      "[CV 2/5] END algorithm=kd_tree, metric=manhattan, n_neighbors=5, weights=uniform;, score=(train=0.812, test=0.514) total time=   0.0s\n",
      "[CV 3/5] END algorithm=kd_tree, metric=manhattan, n_neighbors=5, weights=uniform;, score=(train=0.832, test=0.257) total time=   0.0s\n",
      "[CV 4/5] END algorithm=kd_tree, metric=manhattan, n_neighbors=5, weights=uniform;, score=(train=0.696, test=0.781) total time=   0.0s\n",
      "[CV 5/5] END algorithm=kd_tree, metric=manhattan, n_neighbors=5, weights=uniform;, score=(train=0.782, test=0.747) total time=   0.0s\n",
      "[CV 1/5] END algorithm=kd_tree, metric=manhattan, n_neighbors=5, weights=distance;, score=(train=1.000, test=0.540) total time=   0.0s\n",
      "[CV 2/5] END algorithm=kd_tree, metric=manhattan, n_neighbors=5, weights=distance;, score=(train=1.000, test=0.561) total time=   0.0s\n",
      "[CV 3/5] END algorithm=kd_tree, metric=manhattan, n_neighbors=5, weights=distance;, score=(train=1.000, test=0.297) total time=   0.0s\n",
      "[CV 4/5] END algorithm=kd_tree, metric=manhattan, n_neighbors=5, weights=distance;, score=(train=1.000, test=0.886) total time=   0.0s\n",
      "[CV 5/5] END algorithm=kd_tree, metric=manhattan, n_neighbors=5, weights=distance;, score=(train=1.000, test=0.765) total time=   0.0s\n",
      "[CV 1/5] END algorithm=kd_tree, metric=manhattan, n_neighbors=10, weights=uniform;, score=(train=0.757, test=0.455) total time=   0.0s\n",
      "[CV 2/5] END algorithm=kd_tree, metric=manhattan, n_neighbors=10, weights=uniform;, score=(train=0.768, test=0.609) total time=   0.0s\n",
      "[CV 3/5] END algorithm=kd_tree, metric=manhattan, n_neighbors=10, weights=uniform;, score=(train=0.761, test=0.360) total time=   0.0s\n",
      "[CV 4/5] END algorithm=kd_tree, metric=manhattan, n_neighbors=10, weights=uniform;, score=(train=0.595, test=0.644) total time=   0.0s\n",
      "[CV 5/5] END algorithm=kd_tree, metric=manhattan, n_neighbors=10, weights=uniform;, score=(train=0.665, test=0.741) total time=   0.0s\n",
      "[CV 1/5] END algorithm=kd_tree, metric=manhattan, n_neighbors=10, weights=distance;, score=(train=1.000, test=0.521) total time=   0.0s\n",
      "[CV 2/5] END algorithm=kd_tree, metric=manhattan, n_neighbors=10, weights=distance;, score=(train=1.000, test=0.665) total time=   0.0s\n",
      "[CV 3/5] END algorithm=kd_tree, metric=manhattan, n_neighbors=10, weights=distance;, score=(train=1.000, test=0.383) total time=   0.0s\n",
      "[CV 4/5] END algorithm=kd_tree, metric=manhattan, n_neighbors=10, weights=distance;, score=(train=1.000, test=0.876) total time=   0.0s\n",
      "[CV 5/5] END algorithm=kd_tree, metric=manhattan, n_neighbors=10, weights=distance;, score=(train=1.000, test=0.790) total time=   0.0s\n",
      "[CV 1/5] END algorithm=kd_tree, metric=manhattan, n_neighbors=15, weights=uniform;, score=(train=0.704, test=0.432) total time=   0.0s\n",
      "[CV 2/5] END algorithm=kd_tree, metric=manhattan, n_neighbors=15, weights=uniform;, score=(train=0.696, test=0.679) total time=   0.0s\n",
      "[CV 3/5] END algorithm=kd_tree, metric=manhattan, n_neighbors=15, weights=uniform;, score=(train=0.723, test=0.317) total time=   0.0s\n",
      "[CV 4/5] END algorithm=kd_tree, metric=manhattan, n_neighbors=15, weights=uniform;, score=(train=0.535, test=0.492) total time=   0.0s\n",
      "[CV 5/5] END algorithm=kd_tree, metric=manhattan, n_neighbors=15, weights=uniform;, score=(train=0.654, test=0.669) total time=   0.0s\n",
      "[CV 1/5] END algorithm=kd_tree, metric=manhattan, n_neighbors=15, weights=distance;, score=(train=1.000, test=0.498) total time=   0.0s\n",
      "[CV 2/5] END algorithm=kd_tree, metric=manhattan, n_neighbors=15, weights=distance;, score=(train=1.000, test=0.788) total time=   0.0s\n",
      "[CV 3/5] END algorithm=kd_tree, metric=manhattan, n_neighbors=15, weights=distance;, score=(train=1.000, test=0.339) total time=   0.0s\n",
      "[CV 4/5] END algorithm=kd_tree, metric=manhattan, n_neighbors=15, weights=distance;, score=(train=1.000, test=0.855) total time=   0.0s\n",
      "[CV 5/5] END algorithm=kd_tree, metric=manhattan, n_neighbors=15, weights=distance;, score=(train=1.000, test=0.769) total time=   0.0s\n",
      "[CV 1/5] END algorithm=kd_tree, metric=manhattan, n_neighbors=20, weights=uniform;, score=(train=0.634, test=0.368) total time=   0.0s\n",
      "[CV 2/5] END algorithm=kd_tree, metric=manhattan, n_neighbors=20, weights=uniform;, score=(train=0.597, test=0.613) total time=   0.0s\n",
      "[CV 3/5] END algorithm=kd_tree, metric=manhattan, n_neighbors=20, weights=uniform;, score=(train=0.640, test=0.277) total time=   0.0s\n",
      "[CV 4/5] END algorithm=kd_tree, metric=manhattan, n_neighbors=20, weights=uniform;, score=(train=0.493, test=0.391) total time=   0.0s\n",
      "[CV 5/5] END algorithm=kd_tree, metric=manhattan, n_neighbors=20, weights=uniform;, score=(train=0.577, test=0.571) total time=   0.0s\n",
      "[CV 1/5] END algorithm=kd_tree, metric=manhattan, n_neighbors=20, weights=distance;, score=(train=1.000, test=0.449) total time=   0.0s\n",
      "[CV 2/5] END algorithm=kd_tree, metric=manhattan, n_neighbors=20, weights=distance;, score=(train=1.000, test=0.824) total time=   0.0s\n",
      "[CV 3/5] END algorithm=kd_tree, metric=manhattan, n_neighbors=20, weights=distance;, score=(train=1.000, test=0.312) total time=   0.0s\n",
      "[CV 4/5] END algorithm=kd_tree, metric=manhattan, n_neighbors=20, weights=distance;, score=(train=1.000, test=0.822) total time=   0.0s\n",
      "[CV 5/5] END algorithm=kd_tree, metric=manhattan, n_neighbors=20, weights=distance;, score=(train=1.000, test=0.725) total time=   0.0s\n",
      "[CV 1/5] END algorithm=kd_tree, metric=manhattan, n_neighbors=25, weights=uniform;, score=(train=0.562, test=0.306) total time=   0.0s\n",
      "[CV 2/5] END algorithm=kd_tree, metric=manhattan, n_neighbors=25, weights=uniform;, score=(train=0.517, test=0.540) total time=   0.0s\n",
      "[CV 3/5] END algorithm=kd_tree, metric=manhattan, n_neighbors=25, weights=uniform;, score=(train=0.558, test=0.186) total time=   0.0s\n",
      "[CV 4/5] END algorithm=kd_tree, metric=manhattan, n_neighbors=25, weights=uniform;, score=(train=0.428, test=0.270) total time=   0.0s\n",
      "[CV 5/5] END algorithm=kd_tree, metric=manhattan, n_neighbors=25, weights=uniform;, score=(train=0.499, test=0.503) total time=   0.0s\n",
      "[CV 1/5] END algorithm=kd_tree, metric=manhattan, n_neighbors=25, weights=distance;, score=(train=1.000, test=0.410) total time=   0.0s\n",
      "[CV 2/5] END algorithm=kd_tree, metric=manhattan, n_neighbors=25, weights=distance;, score=(train=1.000, test=0.833) total time=   0.0s\n",
      "[CV 3/5] END algorithm=kd_tree, metric=manhattan, n_neighbors=25, weights=distance;, score=(train=1.000, test=0.260) total time=   0.0s\n",
      "[CV 4/5] END algorithm=kd_tree, metric=manhattan, n_neighbors=25, weights=distance;, score=(train=1.000, test=0.780) total time=   0.0s\n",
      "[CV 5/5] END algorithm=kd_tree, metric=manhattan, n_neighbors=25, weights=distance;, score=(train=1.000, test=0.687) total time=   0.0s\n",
      "[CV 1/5] END algorithm=kd_tree, metric=manhattan, n_neighbors=30, weights=uniform;, score=(train=0.463, test=0.245) total time=   0.0s\n",
      "[CV 2/5] END algorithm=kd_tree, metric=manhattan, n_neighbors=30, weights=uniform;, score=(train=0.438, test=0.431) total time=   0.0s\n",
      "[CV 3/5] END algorithm=kd_tree, metric=manhattan, n_neighbors=30, weights=uniform;, score=(train=0.465, test=0.162) total time=   0.0s\n",
      "[CV 4/5] END algorithm=kd_tree, metric=manhattan, n_neighbors=30, weights=uniform;, score=(train=0.353, test=0.179) total time=   0.0s\n",
      "[CV 5/5] END algorithm=kd_tree, metric=manhattan, n_neighbors=30, weights=uniform;, score=(train=0.412, test=0.401) total time=   0.0s\n",
      "[CV 1/5] END algorithm=kd_tree, metric=manhattan, n_neighbors=30, weights=distance;, score=(train=1.000, test=0.382) total time=   0.0s\n",
      "[CV 2/5] END algorithm=kd_tree, metric=manhattan, n_neighbors=30, weights=distance;, score=(train=1.000, test=0.822) total time=   0.0s\n",
      "[CV 3/5] END algorithm=kd_tree, metric=manhattan, n_neighbors=30, weights=distance;, score=(train=1.000, test=0.247) total time=   0.0s\n",
      "[CV 4/5] END algorithm=kd_tree, metric=manhattan, n_neighbors=30, weights=distance;, score=(train=1.000, test=0.744) total time=   0.0s\n",
      "[CV 5/5] END algorithm=kd_tree, metric=manhattan, n_neighbors=30, weights=distance;, score=(train=1.000, test=0.641) total time=   0.0s\n",
      "[CV 1/5] END algorithm=kd_tree, metric=manhattan, n_neighbors=35, weights=uniform;, score=(train=0.380, test=0.178) total time=   0.0s\n",
      "[CV 2/5] END algorithm=kd_tree, metric=manhattan, n_neighbors=35, weights=uniform;, score=(train=0.359, test=0.334) total time=   0.0s\n",
      "[CV 3/5] END algorithm=kd_tree, metric=manhattan, n_neighbors=35, weights=uniform;, score=(train=0.377, test=0.167) total time=   0.0s\n",
      "[CV 4/5] END algorithm=kd_tree, metric=manhattan, n_neighbors=35, weights=uniform;, score=(train=0.274, test=0.066) total time=   0.0s\n",
      "[CV 5/5] END algorithm=kd_tree, metric=manhattan, n_neighbors=35, weights=uniform;, score=(train=0.340, test=0.321) total time=   0.0s\n",
      "[CV 1/5] END algorithm=kd_tree, metric=manhattan, n_neighbors=35, weights=distance;, score=(train=1.000, test=0.353) total time=   0.0s\n",
      "[CV 2/5] END algorithm=kd_tree, metric=manhattan, n_neighbors=35, weights=distance;, score=(train=1.000, test=0.818) total time=   0.0s\n",
      "[CV 3/5] END algorithm=kd_tree, metric=manhattan, n_neighbors=35, weights=distance;, score=(train=1.000, test=0.258) total time=   0.0s\n",
      "[CV 4/5] END algorithm=kd_tree, metric=manhattan, n_neighbors=35, weights=distance;, score=(train=1.000, test=0.694) total time=   0.0s\n",
      "[CV 5/5] END algorithm=kd_tree, metric=manhattan, n_neighbors=35, weights=distance;, score=(train=1.000, test=0.603) total time=   0.0s\n",
      "[CV 1/5] END algorithm=kd_tree, metric=manhattan, n_neighbors=40, weights=uniform;, score=(train=0.299, test=0.089) total time=   0.0s\n",
      "[CV 2/5] END algorithm=kd_tree, metric=manhattan, n_neighbors=40, weights=uniform;, score=(train=0.276, test=0.253) total time=   0.0s\n",
      "[CV 3/5] END algorithm=kd_tree, metric=manhattan, n_neighbors=40, weights=uniform;, score=(train=0.300, test=0.098) total time=   0.0s\n",
      "[CV 4/5] END algorithm=kd_tree, metric=manhattan, n_neighbors=40, weights=uniform;, score=(train=0.214, test=-0.030) total time=   0.0s\n",
      "[CV 5/5] END algorithm=kd_tree, metric=manhattan, n_neighbors=40, weights=uniform;, score=(train=0.262, test=0.234) total time=   0.0s\n",
      "[CV 1/5] END algorithm=kd_tree, metric=manhattan, n_neighbors=40, weights=distance;, score=(train=1.000, test=0.322) total time=   0.0s\n",
      "[CV 2/5] END algorithm=kd_tree, metric=manhattan, n_neighbors=40, weights=distance;, score=(train=1.000, test=0.812) total time=   0.0s\n",
      "[CV 3/5] END algorithm=kd_tree, metric=manhattan, n_neighbors=40, weights=distance;, score=(train=1.000, test=0.231) total time=   0.0s\n",
      "[CV 4/5] END algorithm=kd_tree, metric=manhattan, n_neighbors=40, weights=distance;, score=(train=1.000, test=0.646) total time=   0.0s\n",
      "[CV 5/5] END algorithm=kd_tree, metric=manhattan, n_neighbors=40, weights=distance;, score=(train=1.000, test=0.570) total time=   0.0s\n",
      "[CV 1/5] END algorithm=kd_tree, metric=manhattan, n_neighbors=45, weights=uniform;, score=(train=0.217, test=-0.006) total time=   0.0s\n",
      "[CV 2/5] END algorithm=kd_tree, metric=manhattan, n_neighbors=45, weights=uniform;, score=(train=0.182, test=0.185) total time=   0.0s\n",
      "[CV 3/5] END algorithm=kd_tree, metric=manhattan, n_neighbors=45, weights=uniform;, score=(train=0.234, test=0.126) total time=   0.0s\n",
      "[CV 4/5] END algorithm=kd_tree, metric=manhattan, n_neighbors=45, weights=uniform;, score=(train=0.148, test=-0.106) total time=   0.0s\n",
      "[CV 5/5] END algorithm=kd_tree, metric=manhattan, n_neighbors=45, weights=uniform;, score=(train=0.206, test=0.159) total time=   0.0s\n"
     ]
    },
    {
     "name": "stdout",
     "output_type": "stream",
     "text": [
      "[CV 1/5] END algorithm=kd_tree, metric=manhattan, n_neighbors=45, weights=distance;, score=(train=1.000, test=0.297) total time=   0.0s\n",
      "[CV 2/5] END algorithm=kd_tree, metric=manhattan, n_neighbors=45, weights=distance;, score=(train=1.000, test=0.812) total time=   0.0s\n",
      "[CV 3/5] END algorithm=kd_tree, metric=manhattan, n_neighbors=45, weights=distance;, score=(train=1.000, test=0.258) total time=   0.0s\n",
      "[CV 4/5] END algorithm=kd_tree, metric=manhattan, n_neighbors=45, weights=distance;, score=(train=1.000, test=0.608) total time=   0.0s\n",
      "[CV 5/5] END algorithm=kd_tree, metric=manhattan, n_neighbors=45, weights=distance;, score=(train=1.000, test=0.536) total time=   0.0s\n",
      "[CV 1/5] END algorithm=kd_tree, metric=manhattan, n_neighbors=50, weights=uniform;, score=(train=0.200, test=0.094) total time=   0.0s\n",
      "[CV 2/5] END algorithm=kd_tree, metric=manhattan, n_neighbors=50, weights=uniform;, score=(train=0.186, test=0.136) total time=   0.0s\n",
      "[CV 3/5] END algorithm=kd_tree, metric=manhattan, n_neighbors=50, weights=uniform;, score=(train=0.208, test=0.221) total time=   0.0s\n",
      "[CV 4/5] END algorithm=kd_tree, metric=manhattan, n_neighbors=50, weights=uniform;, score=(train=0.110, test=-0.228) total time=   0.0s\n",
      "[CV 5/5] END algorithm=kd_tree, metric=manhattan, n_neighbors=50, weights=uniform;, score=(train=0.206, test=0.196) total time=   0.0s\n",
      "[CV 1/5] END algorithm=kd_tree, metric=manhattan, n_neighbors=50, weights=distance;, score=(train=1.000, test=0.330) total time=   0.0s\n",
      "[CV 2/5] END algorithm=kd_tree, metric=manhattan, n_neighbors=50, weights=distance;, score=(train=1.000, test=0.808) total time=   0.0s\n",
      "[CV 3/5] END algorithm=kd_tree, metric=manhattan, n_neighbors=50, weights=distance;, score=(train=1.000, test=0.286) total time=   0.0s\n",
      "[CV 4/5] END algorithm=kd_tree, metric=manhattan, n_neighbors=50, weights=distance;, score=(train=1.000, test=0.554) total time=   0.0s\n",
      "[CV 5/5] END algorithm=kd_tree, metric=manhattan, n_neighbors=50, weights=distance;, score=(train=1.000, test=0.537) total time=   0.0s\n",
      "[CV 1/5] END algorithm=brute, metric=euclidean, n_neighbors=5, weights=uniform;, score=(train=0.832, test=0.483) total time=   0.0s\n",
      "[CV 2/5] END algorithm=brute, metric=euclidean, n_neighbors=5, weights=uniform;, score=(train=0.840, test=0.515) total time=   0.0s\n",
      "[CV 3/5] END algorithm=brute, metric=euclidean, n_neighbors=5, weights=uniform;, score=(train=0.840, test=0.456) total time=   0.0s\n",
      "[CV 4/5] END algorithm=brute, metric=euclidean, n_neighbors=5, weights=uniform;, score=(train=0.687, test=0.798) total time=   0.0s\n",
      "[CV 5/5] END algorithm=brute, metric=euclidean, n_neighbors=5, weights=uniform;, score=(train=0.781, test=0.737) total time=   0.0s\n",
      "[CV 1/5] END algorithm=brute, metric=euclidean, n_neighbors=5, weights=distance;, score=(train=1.000, test=0.533) total time=   0.0s\n",
      "[CV 2/5] END algorithm=brute, metric=euclidean, n_neighbors=5, weights=distance;, score=(train=1.000, test=0.571) total time=   0.0s\n",
      "[CV 3/5] END algorithm=brute, metric=euclidean, n_neighbors=5, weights=distance;, score=(train=1.000, test=0.418) total time=   0.0s\n",
      "[CV 4/5] END algorithm=brute, metric=euclidean, n_neighbors=5, weights=distance;, score=(train=1.000, test=0.895) total time=   0.0s\n",
      "[CV 5/5] END algorithm=brute, metric=euclidean, n_neighbors=5, weights=distance;, score=(train=1.000, test=0.754) total time=   0.0s\n",
      "[CV 1/5] END algorithm=brute, metric=euclidean, n_neighbors=10, weights=uniform;, score=(train=0.752, test=0.458) total time=   0.0s\n",
      "[CV 2/5] END algorithm=brute, metric=euclidean, n_neighbors=10, weights=uniform;, score=(train=0.750, test=0.588) total time=   0.0s\n",
      "[CV 3/5] END algorithm=brute, metric=euclidean, n_neighbors=10, weights=uniform;, score=(train=0.760, test=0.370) total time=   0.0s\n",
      "[CV 4/5] END algorithm=brute, metric=euclidean, n_neighbors=10, weights=uniform;, score=(train=0.579, test=0.500) total time=   0.0s\n",
      "[CV 5/5] END algorithm=brute, metric=euclidean, n_neighbors=10, weights=uniform;, score=(train=0.673, test=0.694) total time=   0.0s\n",
      "[CV 1/5] END algorithm=brute, metric=euclidean, n_neighbors=10, weights=distance;, score=(train=1.000, test=0.528) total time=   0.0s\n",
      "[CV 2/5] END algorithm=brute, metric=euclidean, n_neighbors=10, weights=distance;, score=(train=1.000, test=0.685) total time=   0.0s\n",
      "[CV 3/5] END algorithm=brute, metric=euclidean, n_neighbors=10, weights=distance;, score=(train=1.000, test=0.397) total time=   0.0s\n",
      "[CV 4/5] END algorithm=brute, metric=euclidean, n_neighbors=10, weights=distance;, score=(train=1.000, test=0.868) total time=   0.0s\n",
      "[CV 5/5] END algorithm=brute, metric=euclidean, n_neighbors=10, weights=distance;, score=(train=1.000, test=0.765) total time=   0.0s\n",
      "[CV 1/5] END algorithm=brute, metric=euclidean, n_neighbors=15, weights=uniform;, score=(train=0.686, test=0.402) total time=   0.0s\n",
      "[CV 2/5] END algorithm=brute, metric=euclidean, n_neighbors=15, weights=uniform;, score=(train=0.675, test=0.604) total time=   0.0s\n",
      "[CV 3/5] END algorithm=brute, metric=euclidean, n_neighbors=15, weights=uniform;, score=(train=0.691, test=0.369) total time=   0.0s\n",
      "[CV 4/5] END algorithm=brute, metric=euclidean, n_neighbors=15, weights=uniform;, score=(train=0.518, test=0.398) total time=   0.0s\n",
      "[CV 5/5] END algorithm=brute, metric=euclidean, n_neighbors=15, weights=uniform;, score=(train=0.612, test=0.658) total time=   0.0s\n",
      "[CV 1/5] END algorithm=brute, metric=euclidean, n_neighbors=15, weights=distance;, score=(train=1.000, test=0.482) total time=   0.0s\n",
      "[CV 2/5] END algorithm=brute, metric=euclidean, n_neighbors=15, weights=distance;, score=(train=1.000, test=0.800) total time=   0.0s\n",
      "[CV 3/5] END algorithm=brute, metric=euclidean, n_neighbors=15, weights=distance;, score=(train=1.000, test=0.382) total time=   0.0s\n",
      "[CV 4/5] END algorithm=brute, metric=euclidean, n_neighbors=15, weights=distance;, score=(train=1.000, test=0.823) total time=   0.0s\n",
      "[CV 5/5] END algorithm=brute, metric=euclidean, n_neighbors=15, weights=distance;, score=(train=1.000, test=0.752) total time=   0.0s\n",
      "[CV 1/5] END algorithm=brute, metric=euclidean, n_neighbors=20, weights=uniform;, score=(train=0.623, test=0.368) total time=   0.0s\n",
      "[CV 2/5] END algorithm=brute, metric=euclidean, n_neighbors=20, weights=uniform;, score=(train=0.585, test=0.632) total time=   0.0s\n",
      "[CV 3/5] END algorithm=brute, metric=euclidean, n_neighbors=20, weights=uniform;, score=(train=0.617, test=0.292) total time=   0.0s\n",
      "[CV 4/5] END algorithm=brute, metric=euclidean, n_neighbors=20, weights=uniform;, score=(train=0.484, test=0.343) total time=   0.0s\n",
      "[CV 5/5] END algorithm=brute, metric=euclidean, n_neighbors=20, weights=uniform;, score=(train=0.556, test=0.574) total time=   0.0s\n",
      "[CV 1/5] END algorithm=brute, metric=euclidean, n_neighbors=20, weights=distance;, score=(train=1.000, test=0.453) total time=   0.0s\n",
      "[CV 2/5] END algorithm=brute, metric=euclidean, n_neighbors=20, weights=distance;, score=(train=1.000, test=0.854) total time=   0.0s\n",
      "[CV 3/5] END algorithm=brute, metric=euclidean, n_neighbors=20, weights=distance;, score=(train=1.000, test=0.321) total time=   0.0s\n",
      "[CV 4/5] END algorithm=brute, metric=euclidean, n_neighbors=20, weights=distance;, score=(train=1.000, test=0.774) total time=   0.0s\n",
      "[CV 5/5] END algorithm=brute, metric=euclidean, n_neighbors=20, weights=distance;, score=(train=1.000, test=0.708) total time=   0.0s\n",
      "[CV 1/5] END algorithm=brute, metric=euclidean, n_neighbors=25, weights=uniform;, score=(train=0.543, test=0.314) total time=   0.0s\n",
      "[CV 2/5] END algorithm=brute, metric=euclidean, n_neighbors=25, weights=uniform;, score=(train=0.490, test=0.525) total time=   0.0s\n",
      "[CV 3/5] END algorithm=brute, metric=euclidean, n_neighbors=25, weights=uniform;, score=(train=0.538, test=0.206) total time=   0.0s\n",
      "[CV 4/5] END algorithm=brute, metric=euclidean, n_neighbors=25, weights=uniform;, score=(train=0.401, test=0.205) total time=   0.0s\n",
      "[CV 5/5] END algorithm=brute, metric=euclidean, n_neighbors=25, weights=uniform;, score=(train=0.479, test=0.459) total time=   0.0s\n",
      "[CV 1/5] END algorithm=brute, metric=euclidean, n_neighbors=25, weights=distance;, score=(train=1.000, test=0.413) total time=   0.0s\n",
      "[CV 2/5] END algorithm=brute, metric=euclidean, n_neighbors=25, weights=distance;, score=(train=1.000, test=0.844) total time=   0.0s\n",
      "[CV 3/5] END algorithm=brute, metric=euclidean, n_neighbors=25, weights=distance;, score=(train=1.000, test=0.262) total time=   0.0s\n",
      "[CV 4/5] END algorithm=brute, metric=euclidean, n_neighbors=25, weights=distance;, score=(train=1.000, test=0.706) total time=   0.0s\n",
      "[CV 5/5] END algorithm=brute, metric=euclidean, n_neighbors=25, weights=distance;, score=(train=1.000, test=0.648) total time=   0.0s\n",
      "[CV 1/5] END algorithm=brute, metric=euclidean, n_neighbors=30, weights=uniform;, score=(train=0.443, test=0.239) total time=   0.0s\n",
      "[CV 2/5] END algorithm=brute, metric=euclidean, n_neighbors=30, weights=uniform;, score=(train=0.416, test=0.425) total time=   0.0s\n",
      "[CV 3/5] END algorithm=brute, metric=euclidean, n_neighbors=30, weights=uniform;, score=(train=0.442, test=0.141) total time=   0.0s\n",
      "[CV 4/5] END algorithm=brute, metric=euclidean, n_neighbors=30, weights=uniform;, score=(train=0.341, test=0.145) total time=   0.0s\n",
      "[CV 5/5] END algorithm=brute, metric=euclidean, n_neighbors=30, weights=uniform;, score=(train=0.400, test=0.351) total time=   0.0s\n",
      "[CV 1/5] END algorithm=brute, metric=euclidean, n_neighbors=30, weights=distance;, score=(train=1.000, test=0.376) total time=   0.0s\n",
      "[CV 2/5] END algorithm=brute, metric=euclidean, n_neighbors=30, weights=distance;, score=(train=1.000, test=0.824) total time=   0.0s\n",
      "[CV 3/5] END algorithm=brute, metric=euclidean, n_neighbors=30, weights=distance;, score=(train=1.000, test=0.226) total time=   0.0s\n",
      "[CV 4/5] END algorithm=brute, metric=euclidean, n_neighbors=30, weights=distance;, score=(train=1.000, test=0.663) total time=   0.0s\n",
      "[CV 5/5] END algorithm=brute, metric=euclidean, n_neighbors=30, weights=distance;, score=(train=1.000, test=0.590) total time=   0.0s\n",
      "[CV 1/5] END algorithm=brute, metric=euclidean, n_neighbors=35, weights=uniform;, score=(train=0.362, test=0.118) total time=   0.0s\n",
      "[CV 2/5] END algorithm=brute, metric=euclidean, n_neighbors=35, weights=uniform;, score=(train=0.340, test=0.334) total time=   0.0s\n",
      "[CV 3/5] END algorithm=brute, metric=euclidean, n_neighbors=35, weights=uniform;, score=(train=0.363, test=0.136) total time=   0.0s\n",
      "[CV 4/5] END algorithm=brute, metric=euclidean, n_neighbors=35, weights=uniform;, score=(train=0.268, test=0.063) total time=   0.0s\n"
     ]
    },
    {
     "name": "stdout",
     "output_type": "stream",
     "text": [
      "[CV 5/5] END algorithm=brute, metric=euclidean, n_neighbors=35, weights=uniform;, score=(train=0.331, test=0.302) total time=   0.0s\n",
      "[CV 1/5] END algorithm=brute, metric=euclidean, n_neighbors=35, weights=distance;, score=(train=1.000, test=0.312) total time=   0.0s\n",
      "[CV 2/5] END algorithm=brute, metric=euclidean, n_neighbors=35, weights=distance;, score=(train=1.000, test=0.803) total time=   0.0s\n",
      "[CV 3/5] END algorithm=brute, metric=euclidean, n_neighbors=35, weights=distance;, score=(train=1.000, test=0.231) total time=   0.0s\n",
      "[CV 4/5] END algorithm=brute, metric=euclidean, n_neighbors=35, weights=distance;, score=(train=1.000, test=0.608) total time=   0.0s\n",
      "[CV 5/5] END algorithm=brute, metric=euclidean, n_neighbors=35, weights=distance;, score=(train=1.000, test=0.556) total time=   0.0s\n",
      "[CV 1/5] END algorithm=brute, metric=euclidean, n_neighbors=40, weights=uniform;, score=(train=0.294, test=0.060) total time=   0.0s\n",
      "[CV 2/5] END algorithm=brute, metric=euclidean, n_neighbors=40, weights=uniform;, score=(train=0.272, test=0.248) total time=   0.0s\n",
      "[CV 3/5] END algorithm=brute, metric=euclidean, n_neighbors=40, weights=uniform;, score=(train=0.297, test=0.086) total time=   0.0s\n",
      "[CV 4/5] END algorithm=brute, metric=euclidean, n_neighbors=40, weights=uniform;, score=(train=0.205, test=-0.027) total time=   0.0s\n",
      "[CV 5/5] END algorithm=brute, metric=euclidean, n_neighbors=40, weights=uniform;, score=(train=0.255, test=0.215) total time=   0.0s\n",
      "[CV 1/5] END algorithm=brute, metric=euclidean, n_neighbors=40, weights=distance;, score=(train=1.000, test=0.299) total time=   0.0s\n",
      "[CV 2/5] END algorithm=brute, metric=euclidean, n_neighbors=40, weights=distance;, score=(train=1.000, test=0.780) total time=   0.0s\n",
      "[CV 3/5] END algorithm=brute, metric=euclidean, n_neighbors=40, weights=distance;, score=(train=1.000, test=0.213) total time=   0.0s\n",
      "[CV 4/5] END algorithm=brute, metric=euclidean, n_neighbors=40, weights=distance;, score=(train=1.000, test=0.549) total time=   0.0s\n",
      "[CV 5/5] END algorithm=brute, metric=euclidean, n_neighbors=40, weights=distance;, score=(train=1.000, test=0.511) total time=   0.0s\n",
      "[CV 1/5] END algorithm=brute, metric=euclidean, n_neighbors=45, weights=uniform;, score=(train=0.215, test=0.002) total time=   0.0s\n",
      "[CV 2/5] END algorithm=brute, metric=euclidean, n_neighbors=45, weights=uniform;, score=(train=0.181, test=0.178) total time=   0.0s\n",
      "[CV 3/5] END algorithm=brute, metric=euclidean, n_neighbors=45, weights=uniform;, score=(train=0.227, test=0.123) total time=   0.0s\n",
      "[CV 4/5] END algorithm=brute, metric=euclidean, n_neighbors=45, weights=uniform;, score=(train=0.147, test=-0.109) total time=   0.0s\n",
      "[CV 5/5] END algorithm=brute, metric=euclidean, n_neighbors=45, weights=uniform;, score=(train=0.203, test=0.160) total time=   0.0s\n",
      "[CV 1/5] END algorithm=brute, metric=euclidean, n_neighbors=45, weights=distance;, score=(train=1.000, test=0.284) total time=   0.0s\n",
      "[CV 2/5] END algorithm=brute, metric=euclidean, n_neighbors=45, weights=distance;, score=(train=1.000, test=0.769) total time=   0.0s\n",
      "[CV 3/5] END algorithm=brute, metric=euclidean, n_neighbors=45, weights=distance;, score=(train=1.000, test=0.249) total time=   0.0s\n",
      "[CV 4/5] END algorithm=brute, metric=euclidean, n_neighbors=45, weights=distance;, score=(train=1.000, test=0.495) total time=   0.0s\n",
      "[CV 5/5] END algorithm=brute, metric=euclidean, n_neighbors=45, weights=distance;, score=(train=1.000, test=0.482) total time=   0.0s\n",
      "[CV 1/5] END algorithm=brute, metric=euclidean, n_neighbors=50, weights=uniform;, score=(train=0.194, test=0.056) total time=   0.0s\n",
      "[CV 2/5] END algorithm=brute, metric=euclidean, n_neighbors=50, weights=uniform;, score=(train=0.177, test=0.136) total time=   0.0s\n",
      "[CV 3/5] END algorithm=brute, metric=euclidean, n_neighbors=50, weights=uniform;, score=(train=0.201, test=0.162) total time=   0.0s\n",
      "[CV 4/5] END algorithm=brute, metric=euclidean, n_neighbors=50, weights=uniform;, score=(train=0.092, test=-0.227) total time=   0.0s\n",
      "[CV 5/5] END algorithm=brute, metric=euclidean, n_neighbors=50, weights=uniform;, score=(train=0.188, test=0.197) total time=   0.0s\n",
      "[CV 1/5] END algorithm=brute, metric=euclidean, n_neighbors=50, weights=distance;, score=(train=1.000, test=0.305) total time=   0.0s\n",
      "[CV 2/5] END algorithm=brute, metric=euclidean, n_neighbors=50, weights=distance;, score=(train=1.000, test=0.757) total time=   0.0s\n",
      "[CV 3/5] END algorithm=brute, metric=euclidean, n_neighbors=50, weights=distance;, score=(train=1.000, test=0.260) total time=   0.0s\n",
      "[CV 4/5] END algorithm=brute, metric=euclidean, n_neighbors=50, weights=distance;, score=(train=1.000, test=0.425) total time=   0.0s\n",
      "[CV 5/5] END algorithm=brute, metric=euclidean, n_neighbors=50, weights=distance;, score=(train=1.000, test=0.481) total time=   0.0s\n",
      "[CV 1/5] END algorithm=brute, metric=manhattan, n_neighbors=5, weights=uniform;, score=(train=0.825, test=0.482) total time=   0.0s\n",
      "[CV 2/5] END algorithm=brute, metric=manhattan, n_neighbors=5, weights=uniform;, score=(train=0.812, test=0.514) total time=   0.0s\n",
      "[CV 3/5] END algorithm=brute, metric=manhattan, n_neighbors=5, weights=uniform;, score=(train=0.832, test=0.257) total time=   0.0s\n",
      "[CV 4/5] END algorithm=brute, metric=manhattan, n_neighbors=5, weights=uniform;, score=(train=0.696, test=0.781) total time=   0.0s\n",
      "[CV 5/5] END algorithm=brute, metric=manhattan, n_neighbors=5, weights=uniform;, score=(train=0.782, test=0.747) total time=   0.0s\n",
      "[CV 1/5] END algorithm=brute, metric=manhattan, n_neighbors=5, weights=distance;, score=(train=1.000, test=0.540) total time=   0.0s\n",
      "[CV 2/5] END algorithm=brute, metric=manhattan, n_neighbors=5, weights=distance;, score=(train=1.000, test=0.561) total time=   0.0s\n",
      "[CV 3/5] END algorithm=brute, metric=manhattan, n_neighbors=5, weights=distance;, score=(train=1.000, test=0.297) total time=   0.0s\n",
      "[CV 4/5] END algorithm=brute, metric=manhattan, n_neighbors=5, weights=distance;, score=(train=1.000, test=0.886) total time=   0.0s\n",
      "[CV 5/5] END algorithm=brute, metric=manhattan, n_neighbors=5, weights=distance;, score=(train=1.000, test=0.765) total time=   0.0s\n",
      "[CV 1/5] END algorithm=brute, metric=manhattan, n_neighbors=10, weights=uniform;, score=(train=0.757, test=0.455) total time=   0.0s\n",
      "[CV 2/5] END algorithm=brute, metric=manhattan, n_neighbors=10, weights=uniform;, score=(train=0.768, test=0.609) total time=   0.0s\n",
      "[CV 3/5] END algorithm=brute, metric=manhattan, n_neighbors=10, weights=uniform;, score=(train=0.761, test=0.360) total time=   0.0s\n",
      "[CV 4/5] END algorithm=brute, metric=manhattan, n_neighbors=10, weights=uniform;, score=(train=0.595, test=0.644) total time=   0.0s\n",
      "[CV 5/5] END algorithm=brute, metric=manhattan, n_neighbors=10, weights=uniform;, score=(train=0.665, test=0.741) total time=   0.0s\n",
      "[CV 1/5] END algorithm=brute, metric=manhattan, n_neighbors=10, weights=distance;, score=(train=1.000, test=0.521) total time=   0.0s\n",
      "[CV 2/5] END algorithm=brute, metric=manhattan, n_neighbors=10, weights=distance;, score=(train=1.000, test=0.665) total time=   0.0s\n",
      "[CV 3/5] END algorithm=brute, metric=manhattan, n_neighbors=10, weights=distance;, score=(train=1.000, test=0.383) total time=   0.0s\n",
      "[CV 4/5] END algorithm=brute, metric=manhattan, n_neighbors=10, weights=distance;, score=(train=1.000, test=0.876) total time=   0.0s\n",
      "[CV 5/5] END algorithm=brute, metric=manhattan, n_neighbors=10, weights=distance;, score=(train=1.000, test=0.790) total time=   0.0s\n",
      "[CV 1/5] END algorithm=brute, metric=manhattan, n_neighbors=15, weights=uniform;, score=(train=0.704, test=0.432) total time=   0.0s\n",
      "[CV 2/5] END algorithm=brute, metric=manhattan, n_neighbors=15, weights=uniform;, score=(train=0.696, test=0.679) total time=   0.0s\n",
      "[CV 3/5] END algorithm=brute, metric=manhattan, n_neighbors=15, weights=uniform;, score=(train=0.723, test=0.317) total time=   0.0s\n",
      "[CV 4/5] END algorithm=brute, metric=manhattan, n_neighbors=15, weights=uniform;, score=(train=0.535, test=0.492) total time=   0.0s\n",
      "[CV 5/5] END algorithm=brute, metric=manhattan, n_neighbors=15, weights=uniform;, score=(train=0.654, test=0.669) total time=   0.0s\n",
      "[CV 1/5] END algorithm=brute, metric=manhattan, n_neighbors=15, weights=distance;, score=(train=1.000, test=0.498) total time=   0.0s\n",
      "[CV 2/5] END algorithm=brute, metric=manhattan, n_neighbors=15, weights=distance;, score=(train=1.000, test=0.788) total time=   0.0s\n",
      "[CV 3/5] END algorithm=brute, metric=manhattan, n_neighbors=15, weights=distance;, score=(train=1.000, test=0.339) total time=   0.0s\n",
      "[CV 4/5] END algorithm=brute, metric=manhattan, n_neighbors=15, weights=distance;, score=(train=1.000, test=0.855) total time=   0.0s\n",
      "[CV 5/5] END algorithm=brute, metric=manhattan, n_neighbors=15, weights=distance;, score=(train=1.000, test=0.769) total time=   0.0s\n",
      "[CV 1/5] END algorithm=brute, metric=manhattan, n_neighbors=20, weights=uniform;, score=(train=0.634, test=0.368) total time=   0.0s\n",
      "[CV 2/5] END algorithm=brute, metric=manhattan, n_neighbors=20, weights=uniform;, score=(train=0.597, test=0.613) total time=   0.0s\n",
      "[CV 3/5] END algorithm=brute, metric=manhattan, n_neighbors=20, weights=uniform;, score=(train=0.640, test=0.277) total time=   0.0s\n",
      "[CV 4/5] END algorithm=brute, metric=manhattan, n_neighbors=20, weights=uniform;, score=(train=0.493, test=0.391) total time=   0.0s\n",
      "[CV 5/5] END algorithm=brute, metric=manhattan, n_neighbors=20, weights=uniform;, score=(train=0.577, test=0.571) total time=   0.0s\n",
      "[CV 1/5] END algorithm=brute, metric=manhattan, n_neighbors=20, weights=distance;, score=(train=1.000, test=0.449) total time=   0.0s\n",
      "[CV 2/5] END algorithm=brute, metric=manhattan, n_neighbors=20, weights=distance;, score=(train=1.000, test=0.824) total time=   0.0s\n",
      "[CV 3/5] END algorithm=brute, metric=manhattan, n_neighbors=20, weights=distance;, score=(train=1.000, test=0.312) total time=   0.0s\n",
      "[CV 4/5] END algorithm=brute, metric=manhattan, n_neighbors=20, weights=distance;, score=(train=1.000, test=0.822) total time=   0.0s\n",
      "[CV 5/5] END algorithm=brute, metric=manhattan, n_neighbors=20, weights=distance;, score=(train=1.000, test=0.725) total time=   0.0s\n",
      "[CV 1/5] END algorithm=brute, metric=manhattan, n_neighbors=25, weights=uniform;, score=(train=0.562, test=0.306) total time=   0.0s\n",
      "[CV 2/5] END algorithm=brute, metric=manhattan, n_neighbors=25, weights=uniform;, score=(train=0.517, test=0.540) total time=   0.0s\n",
      "[CV 3/5] END algorithm=brute, metric=manhattan, n_neighbors=25, weights=uniform;, score=(train=0.558, test=0.186) total time=   0.0s\n",
      "[CV 4/5] END algorithm=brute, metric=manhattan, n_neighbors=25, weights=uniform;, score=(train=0.428, test=0.270) total time=   0.0s\n",
      "[CV 5/5] END algorithm=brute, metric=manhattan, n_neighbors=25, weights=uniform;, score=(train=0.499, test=0.503) total time=   0.0s\n"
     ]
    },
    {
     "name": "stdout",
     "output_type": "stream",
     "text": [
      "[CV 1/5] END algorithm=brute, metric=manhattan, n_neighbors=25, weights=distance;, score=(train=1.000, test=0.410) total time=   0.0s\n",
      "[CV 2/5] END algorithm=brute, metric=manhattan, n_neighbors=25, weights=distance;, score=(train=1.000, test=0.833) total time=   0.0s\n",
      "[CV 3/5] END algorithm=brute, metric=manhattan, n_neighbors=25, weights=distance;, score=(train=1.000, test=0.260) total time=   0.0s\n",
      "[CV 4/5] END algorithm=brute, metric=manhattan, n_neighbors=25, weights=distance;, score=(train=1.000, test=0.780) total time=   0.0s\n",
      "[CV 5/5] END algorithm=brute, metric=manhattan, n_neighbors=25, weights=distance;, score=(train=1.000, test=0.687) total time=   0.0s\n",
      "[CV 1/5] END algorithm=brute, metric=manhattan, n_neighbors=30, weights=uniform;, score=(train=0.463, test=0.245) total time=   0.0s\n",
      "[CV 2/5] END algorithm=brute, metric=manhattan, n_neighbors=30, weights=uniform;, score=(train=0.438, test=0.431) total time=   0.0s\n",
      "[CV 3/5] END algorithm=brute, metric=manhattan, n_neighbors=30, weights=uniform;, score=(train=0.465, test=0.162) total time=   0.0s\n",
      "[CV 4/5] END algorithm=brute, metric=manhattan, n_neighbors=30, weights=uniform;, score=(train=0.353, test=0.179) total time=   0.0s\n",
      "[CV 5/5] END algorithm=brute, metric=manhattan, n_neighbors=30, weights=uniform;, score=(train=0.412, test=0.401) total time=   0.0s\n",
      "[CV 1/5] END algorithm=brute, metric=manhattan, n_neighbors=30, weights=distance;, score=(train=1.000, test=0.382) total time=   0.0s\n",
      "[CV 2/5] END algorithm=brute, metric=manhattan, n_neighbors=30, weights=distance;, score=(train=1.000, test=0.822) total time=   0.0s\n",
      "[CV 3/5] END algorithm=brute, metric=manhattan, n_neighbors=30, weights=distance;, score=(train=1.000, test=0.247) total time=   0.0s\n",
      "[CV 4/5] END algorithm=brute, metric=manhattan, n_neighbors=30, weights=distance;, score=(train=1.000, test=0.744) total time=   0.0s\n",
      "[CV 5/5] END algorithm=brute, metric=manhattan, n_neighbors=30, weights=distance;, score=(train=1.000, test=0.641) total time=   0.0s\n",
      "[CV 1/5] END algorithm=brute, metric=manhattan, n_neighbors=35, weights=uniform;, score=(train=0.380, test=0.178) total time=   0.0s\n",
      "[CV 2/5] END algorithm=brute, metric=manhattan, n_neighbors=35, weights=uniform;, score=(train=0.359, test=0.334) total time=   0.0s\n",
      "[CV 3/5] END algorithm=brute, metric=manhattan, n_neighbors=35, weights=uniform;, score=(train=0.377, test=0.167) total time=   0.0s\n",
      "[CV 4/5] END algorithm=brute, metric=manhattan, n_neighbors=35, weights=uniform;, score=(train=0.274, test=0.066) total time=   0.0s\n",
      "[CV 5/5] END algorithm=brute, metric=manhattan, n_neighbors=35, weights=uniform;, score=(train=0.340, test=0.321) total time=   0.0s\n",
      "[CV 1/5] END algorithm=brute, metric=manhattan, n_neighbors=35, weights=distance;, score=(train=1.000, test=0.353) total time=   0.0s\n",
      "[CV 2/5] END algorithm=brute, metric=manhattan, n_neighbors=35, weights=distance;, score=(train=1.000, test=0.818) total time=   0.0s\n",
      "[CV 3/5] END algorithm=brute, metric=manhattan, n_neighbors=35, weights=distance;, score=(train=1.000, test=0.258) total time=   0.0s\n",
      "[CV 4/5] END algorithm=brute, metric=manhattan, n_neighbors=35, weights=distance;, score=(train=1.000, test=0.694) total time=   0.0s\n",
      "[CV 5/5] END algorithm=brute, metric=manhattan, n_neighbors=35, weights=distance;, score=(train=1.000, test=0.603) total time=   0.0s\n",
      "[CV 1/5] END algorithm=brute, metric=manhattan, n_neighbors=40, weights=uniform;, score=(train=0.299, test=0.089) total time=   0.0s\n",
      "[CV 2/5] END algorithm=brute, metric=manhattan, n_neighbors=40, weights=uniform;, score=(train=0.276, test=0.253) total time=   0.0s\n",
      "[CV 3/5] END algorithm=brute, metric=manhattan, n_neighbors=40, weights=uniform;, score=(train=0.300, test=0.098) total time=   0.0s\n",
      "[CV 4/5] END algorithm=brute, metric=manhattan, n_neighbors=40, weights=uniform;, score=(train=0.214, test=-0.030) total time=   0.0s\n",
      "[CV 5/5] END algorithm=brute, metric=manhattan, n_neighbors=40, weights=uniform;, score=(train=0.262, test=0.234) total time=   0.0s\n",
      "[CV 1/5] END algorithm=brute, metric=manhattan, n_neighbors=40, weights=distance;, score=(train=1.000, test=0.322) total time=   0.0s\n",
      "[CV 2/5] END algorithm=brute, metric=manhattan, n_neighbors=40, weights=distance;, score=(train=1.000, test=0.812) total time=   0.0s\n",
      "[CV 3/5] END algorithm=brute, metric=manhattan, n_neighbors=40, weights=distance;, score=(train=1.000, test=0.231) total time=   0.0s\n",
      "[CV 4/5] END algorithm=brute, metric=manhattan, n_neighbors=40, weights=distance;, score=(train=1.000, test=0.646) total time=   0.0s\n",
      "[CV 5/5] END algorithm=brute, metric=manhattan, n_neighbors=40, weights=distance;, score=(train=1.000, test=0.570) total time=   0.0s\n",
      "[CV 1/5] END algorithm=brute, metric=manhattan, n_neighbors=45, weights=uniform;, score=(train=0.217, test=-0.006) total time=   0.0s\n",
      "[CV 2/5] END algorithm=brute, metric=manhattan, n_neighbors=45, weights=uniform;, score=(train=0.182, test=0.185) total time=   0.0s\n",
      "[CV 3/5] END algorithm=brute, metric=manhattan, n_neighbors=45, weights=uniform;, score=(train=0.234, test=0.126) total time=   0.0s\n",
      "[CV 4/5] END algorithm=brute, metric=manhattan, n_neighbors=45, weights=uniform;, score=(train=0.148, test=-0.106) total time=   0.0s\n",
      "[CV 5/5] END algorithm=brute, metric=manhattan, n_neighbors=45, weights=uniform;, score=(train=0.206, test=0.159) total time=   0.0s\n",
      "[CV 1/5] END algorithm=brute, metric=manhattan, n_neighbors=45, weights=distance;, score=(train=1.000, test=0.297) total time=   0.0s\n",
      "[CV 2/5] END algorithm=brute, metric=manhattan, n_neighbors=45, weights=distance;, score=(train=1.000, test=0.812) total time=   0.0s\n",
      "[CV 3/5] END algorithm=brute, metric=manhattan, n_neighbors=45, weights=distance;, score=(train=1.000, test=0.258) total time=   0.0s\n",
      "[CV 4/5] END algorithm=brute, metric=manhattan, n_neighbors=45, weights=distance;, score=(train=1.000, test=0.608) total time=   0.0s\n",
      "[CV 5/5] END algorithm=brute, metric=manhattan, n_neighbors=45, weights=distance;, score=(train=1.000, test=0.536) total time=   0.0s\n",
      "[CV 1/5] END algorithm=brute, metric=manhattan, n_neighbors=50, weights=uniform;, score=(train=0.200, test=0.094) total time=   0.0s\n",
      "[CV 2/5] END algorithm=brute, metric=manhattan, n_neighbors=50, weights=uniform;, score=(train=0.186, test=0.136) total time=   0.0s\n",
      "[CV 3/5] END algorithm=brute, metric=manhattan, n_neighbors=50, weights=uniform;, score=(train=0.208, test=0.221) total time=   0.0s\n",
      "[CV 4/5] END algorithm=brute, metric=manhattan, n_neighbors=50, weights=uniform;, score=(train=0.110, test=-0.228) total time=   0.0s\n",
      "[CV 5/5] END algorithm=brute, metric=manhattan, n_neighbors=50, weights=uniform;, score=(train=0.206, test=0.196) total time=   0.0s\n",
      "[CV 1/5] END algorithm=brute, metric=manhattan, n_neighbors=50, weights=distance;, score=(train=1.000, test=0.330) total time=   0.0s\n",
      "[CV 2/5] END algorithm=brute, metric=manhattan, n_neighbors=50, weights=distance;, score=(train=1.000, test=0.808) total time=   0.0s\n",
      "[CV 3/5] END algorithm=brute, metric=manhattan, n_neighbors=50, weights=distance;, score=(train=1.000, test=0.286) total time=   0.0s\n",
      "[CV 4/5] END algorithm=brute, metric=manhattan, n_neighbors=50, weights=distance;, score=(train=1.000, test=0.554) total time=   0.0s\n",
      "[CV 5/5] END algorithm=brute, metric=manhattan, n_neighbors=50, weights=distance;, score=(train=1.000, test=0.537) total time=   0.0s\n"
     ]
    },
    {
     "data": {
      "text/html": [
       "<style>#sk-container-id-21 {color: black;}#sk-container-id-21 pre{padding: 0;}#sk-container-id-21 div.sk-toggleable {background-color: white;}#sk-container-id-21 label.sk-toggleable__label {cursor: pointer;display: block;width: 100%;margin-bottom: 0;padding: 0.3em;box-sizing: border-box;text-align: center;}#sk-container-id-21 label.sk-toggleable__label-arrow:before {content: \"▸\";float: left;margin-right: 0.25em;color: #696969;}#sk-container-id-21 label.sk-toggleable__label-arrow:hover:before {color: black;}#sk-container-id-21 div.sk-estimator:hover label.sk-toggleable__label-arrow:before {color: black;}#sk-container-id-21 div.sk-toggleable__content {max-height: 0;max-width: 0;overflow: hidden;text-align: left;background-color: #f0f8ff;}#sk-container-id-21 div.sk-toggleable__content pre {margin: 0.2em;color: black;border-radius: 0.25em;background-color: #f0f8ff;}#sk-container-id-21 input.sk-toggleable__control:checked~div.sk-toggleable__content {max-height: 200px;max-width: 100%;overflow: auto;}#sk-container-id-21 input.sk-toggleable__control:checked~label.sk-toggleable__label-arrow:before {content: \"▾\";}#sk-container-id-21 div.sk-estimator input.sk-toggleable__control:checked~label.sk-toggleable__label {background-color: #d4ebff;}#sk-container-id-21 div.sk-label input.sk-toggleable__control:checked~label.sk-toggleable__label {background-color: #d4ebff;}#sk-container-id-21 input.sk-hidden--visually {border: 0;clip: rect(1px 1px 1px 1px);clip: rect(1px, 1px, 1px, 1px);height: 1px;margin: -1px;overflow: hidden;padding: 0;position: absolute;width: 1px;}#sk-container-id-21 div.sk-estimator {font-family: monospace;background-color: #f0f8ff;border: 1px dotted black;border-radius: 0.25em;box-sizing: border-box;margin-bottom: 0.5em;}#sk-container-id-21 div.sk-estimator:hover {background-color: #d4ebff;}#sk-container-id-21 div.sk-parallel-item::after {content: \"\";width: 100%;border-bottom: 1px solid gray;flex-grow: 1;}#sk-container-id-21 div.sk-label:hover label.sk-toggleable__label {background-color: #d4ebff;}#sk-container-id-21 div.sk-serial::before {content: \"\";position: absolute;border-left: 1px solid gray;box-sizing: border-box;top: 0;bottom: 0;left: 50%;z-index: 0;}#sk-container-id-21 div.sk-serial {display: flex;flex-direction: column;align-items: center;background-color: white;padding-right: 0.2em;padding-left: 0.2em;position: relative;}#sk-container-id-21 div.sk-item {position: relative;z-index: 1;}#sk-container-id-21 div.sk-parallel {display: flex;align-items: stretch;justify-content: center;background-color: white;position: relative;}#sk-container-id-21 div.sk-item::before, #sk-container-id-21 div.sk-parallel-item::before {content: \"\";position: absolute;border-left: 1px solid gray;box-sizing: border-box;top: 0;bottom: 0;left: 50%;z-index: -1;}#sk-container-id-21 div.sk-parallel-item {display: flex;flex-direction: column;z-index: 1;position: relative;background-color: white;}#sk-container-id-21 div.sk-parallel-item:first-child::after {align-self: flex-end;width: 50%;}#sk-container-id-21 div.sk-parallel-item:last-child::after {align-self: flex-start;width: 50%;}#sk-container-id-21 div.sk-parallel-item:only-child::after {width: 0;}#sk-container-id-21 div.sk-dashed-wrapped {border: 1px dashed gray;margin: 0 0.4em 0.5em 0.4em;box-sizing: border-box;padding-bottom: 0.4em;background-color: white;}#sk-container-id-21 div.sk-label label {font-family: monospace;font-weight: bold;display: inline-block;line-height: 1.2em;}#sk-container-id-21 div.sk-label-container {text-align: center;}#sk-container-id-21 div.sk-container {/* jupyter's `normalize.less` sets `[hidden] { display: none; }` but bootstrap.min.css set `[hidden] { display: none !important; }` so we also need the `!important` here to be able to override the default hidden behavior on the sphinx rendered scikit-learn.org. See: https://github.com/scikit-learn/scikit-learn/issues/21755 */display: inline-block !important;position: relative;}#sk-container-id-21 div.sk-text-repr-fallback {display: none;}</style><div id=\"sk-container-id-21\" class=\"sk-top-container\"><div class=\"sk-text-repr-fallback\"><pre>Pipeline(steps=[(&#x27;columntransformer&#x27;,\n",
       "                 ColumnTransformer(transformers=[(&#x27;minmaxscaler&#x27;,\n",
       "                                                  MinMaxScaler(),\n",
       "                                                  &lt;sklearn.compose._column_transformer.make_column_selector object at 0x7f4368df92e0&gt;),\n",
       "                                                 (&#x27;onehotencoder&#x27;,\n",
       "                                                  OneHotEncoder(),\n",
       "                                                  &lt;sklearn.compose._column_transformer.make_column_selector object at 0x7f4368df9be0&gt;)])),\n",
       "                (&#x27;gridsearchcv&#x27;,\n",
       "                 GridSearchCV(estimator=KNeighborsRegressor(),\n",
       "                              param_grid={&#x27;algorithm&#x27;: (&#x27;ball_tree&#x27;, &#x27;kd_tree&#x27;,\n",
       "                                                        &#x27;brute&#x27;),\n",
       "                                          &#x27;metric&#x27;: (&#x27;euclidean&#x27;, &#x27;manhattan&#x27;),\n",
       "                                          &#x27;n_neighbors&#x27;: [5, 10, 15, 20, 25, 30,\n",
       "                                                          35, 40, 45, 50],\n",
       "                                          &#x27;weights&#x27;: (&#x27;uniform&#x27;, &#x27;distance&#x27;)},\n",
       "                              return_train_score=True, verbose=3))])</pre><b>In a Jupyter environment, please rerun this cell to show the HTML representation or trust the notebook. <br />On GitHub, the HTML representation is unable to render, please try loading this page with nbviewer.org.</b></div><div class=\"sk-container\" hidden><div class=\"sk-item sk-dashed-wrapped\"><div class=\"sk-label-container\"><div class=\"sk-label sk-toggleable\"><input class=\"sk-toggleable__control sk-hidden--visually\" id=\"sk-estimator-id-157\" type=\"checkbox\" ><label for=\"sk-estimator-id-157\" class=\"sk-toggleable__label sk-toggleable__label-arrow\">Pipeline</label><div class=\"sk-toggleable__content\"><pre>Pipeline(steps=[(&#x27;columntransformer&#x27;,\n",
       "                 ColumnTransformer(transformers=[(&#x27;minmaxscaler&#x27;,\n",
       "                                                  MinMaxScaler(),\n",
       "                                                  &lt;sklearn.compose._column_transformer.make_column_selector object at 0x7f4368df92e0&gt;),\n",
       "                                                 (&#x27;onehotencoder&#x27;,\n",
       "                                                  OneHotEncoder(),\n",
       "                                                  &lt;sklearn.compose._column_transformer.make_column_selector object at 0x7f4368df9be0&gt;)])),\n",
       "                (&#x27;gridsearchcv&#x27;,\n",
       "                 GridSearchCV(estimator=KNeighborsRegressor(),\n",
       "                              param_grid={&#x27;algorithm&#x27;: (&#x27;ball_tree&#x27;, &#x27;kd_tree&#x27;,\n",
       "                                                        &#x27;brute&#x27;),\n",
       "                                          &#x27;metric&#x27;: (&#x27;euclidean&#x27;, &#x27;manhattan&#x27;),\n",
       "                                          &#x27;n_neighbors&#x27;: [5, 10, 15, 20, 25, 30,\n",
       "                                                          35, 40, 45, 50],\n",
       "                                          &#x27;weights&#x27;: (&#x27;uniform&#x27;, &#x27;distance&#x27;)},\n",
       "                              return_train_score=True, verbose=3))])</pre></div></div></div><div class=\"sk-serial\"><div class=\"sk-item sk-dashed-wrapped\"><div class=\"sk-label-container\"><div class=\"sk-label sk-toggleable\"><input class=\"sk-toggleable__control sk-hidden--visually\" id=\"sk-estimator-id-158\" type=\"checkbox\" ><label for=\"sk-estimator-id-158\" class=\"sk-toggleable__label sk-toggleable__label-arrow\">columntransformer: ColumnTransformer</label><div class=\"sk-toggleable__content\"><pre>ColumnTransformer(transformers=[(&#x27;minmaxscaler&#x27;, MinMaxScaler(),\n",
       "                                 &lt;sklearn.compose._column_transformer.make_column_selector object at 0x7f4368df92e0&gt;),\n",
       "                                (&#x27;onehotencoder&#x27;, OneHotEncoder(),\n",
       "                                 &lt;sklearn.compose._column_transformer.make_column_selector object at 0x7f4368df9be0&gt;)])</pre></div></div></div><div class=\"sk-parallel\"><div class=\"sk-parallel-item\"><div class=\"sk-item\"><div class=\"sk-label-container\"><div class=\"sk-label sk-toggleable\"><input class=\"sk-toggleable__control sk-hidden--visually\" id=\"sk-estimator-id-159\" type=\"checkbox\" ><label for=\"sk-estimator-id-159\" class=\"sk-toggleable__label sk-toggleable__label-arrow\">minmaxscaler</label><div class=\"sk-toggleable__content\"><pre>&lt;sklearn.compose._column_transformer.make_column_selector object at 0x7f4368df92e0&gt;</pre></div></div></div><div class=\"sk-serial\"><div class=\"sk-item\"><div class=\"sk-estimator sk-toggleable\"><input class=\"sk-toggleable__control sk-hidden--visually\" id=\"sk-estimator-id-160\" type=\"checkbox\" ><label for=\"sk-estimator-id-160\" class=\"sk-toggleable__label sk-toggleable__label-arrow\">MinMaxScaler</label><div class=\"sk-toggleable__content\"><pre>MinMaxScaler()</pre></div></div></div></div></div></div><div class=\"sk-parallel-item\"><div class=\"sk-item\"><div class=\"sk-label-container\"><div class=\"sk-label sk-toggleable\"><input class=\"sk-toggleable__control sk-hidden--visually\" id=\"sk-estimator-id-161\" type=\"checkbox\" ><label for=\"sk-estimator-id-161\" class=\"sk-toggleable__label sk-toggleable__label-arrow\">onehotencoder</label><div class=\"sk-toggleable__content\"><pre>&lt;sklearn.compose._column_transformer.make_column_selector object at 0x7f4368df9be0&gt;</pre></div></div></div><div class=\"sk-serial\"><div class=\"sk-item\"><div class=\"sk-estimator sk-toggleable\"><input class=\"sk-toggleable__control sk-hidden--visually\" id=\"sk-estimator-id-162\" type=\"checkbox\" ><label for=\"sk-estimator-id-162\" class=\"sk-toggleable__label sk-toggleable__label-arrow\">OneHotEncoder</label><div class=\"sk-toggleable__content\"><pre>OneHotEncoder()</pre></div></div></div></div></div></div></div></div><div class=\"sk-item sk-dashed-wrapped\"><div class=\"sk-label-container\"><div class=\"sk-label sk-toggleable\"><input class=\"sk-toggleable__control sk-hidden--visually\" id=\"sk-estimator-id-163\" type=\"checkbox\" ><label for=\"sk-estimator-id-163\" class=\"sk-toggleable__label sk-toggleable__label-arrow\">gridsearchcv: GridSearchCV</label><div class=\"sk-toggleable__content\"><pre>GridSearchCV(estimator=KNeighborsRegressor(),\n",
       "             param_grid={&#x27;algorithm&#x27;: (&#x27;ball_tree&#x27;, &#x27;kd_tree&#x27;, &#x27;brute&#x27;),\n",
       "                         &#x27;metric&#x27;: (&#x27;euclidean&#x27;, &#x27;manhattan&#x27;),\n",
       "                         &#x27;n_neighbors&#x27;: [5, 10, 15, 20, 25, 30, 35, 40, 45, 50],\n",
       "                         &#x27;weights&#x27;: (&#x27;uniform&#x27;, &#x27;distance&#x27;)},\n",
       "             return_train_score=True, verbose=3)</pre></div></div></div><div class=\"sk-parallel\"><div class=\"sk-parallel-item\"><div class=\"sk-item\"><div class=\"sk-label-container\"><div class=\"sk-label sk-toggleable\"><input class=\"sk-toggleable__control sk-hidden--visually\" id=\"sk-estimator-id-164\" type=\"checkbox\" ><label for=\"sk-estimator-id-164\" class=\"sk-toggleable__label sk-toggleable__label-arrow\">estimator: KNeighborsRegressor</label><div class=\"sk-toggleable__content\"><pre>KNeighborsRegressor()</pre></div></div></div><div class=\"sk-serial\"><div class=\"sk-item\"><div class=\"sk-estimator sk-toggleable\"><input class=\"sk-toggleable__control sk-hidden--visually\" id=\"sk-estimator-id-165\" type=\"checkbox\" ><label for=\"sk-estimator-id-165\" class=\"sk-toggleable__label sk-toggleable__label-arrow\">KNeighborsRegressor</label><div class=\"sk-toggleable__content\"><pre>KNeighborsRegressor()</pre></div></div></div></div></div></div></div></div></div></div></div></div>"
      ],
      "text/plain": [
       "Pipeline(steps=[('columntransformer',\n",
       "                 ColumnTransformer(transformers=[('minmaxscaler',\n",
       "                                                  MinMaxScaler(),\n",
       "                                                  <sklearn.compose._column_transformer.make_column_selector object at 0x7f4368df92e0>),\n",
       "                                                 ('onehotencoder',\n",
       "                                                  OneHotEncoder(),\n",
       "                                                  <sklearn.compose._column_transformer.make_column_selector object at 0x7f4368df9be0>)])),\n",
       "                ('gridsearchcv',\n",
       "                 GridSearchCV(estimator=KNeighborsRegressor(),\n",
       "                              param_grid={'algorithm': ('ball_tree', 'kd_tree',\n",
       "                                                        'brute'),\n",
       "                                          'metric': ('euclidean', 'manhattan'),\n",
       "                                          'n_neighbors': [5, 10, 15, 20, 25, 30,\n",
       "                                                          35, 40, 45, 50],\n",
       "                                          'weights': ('uniform', 'distance')},\n",
       "                              return_train_score=True, verbose=3))])"
      ]
     },
     "execution_count": 422,
     "metadata": {},
     "output_type": "execute_result"
    }
   ],
   "source": [
    "model_opt.fit(X_train, y_train)"
   ]
  },
  {
   "cell_type": "code",
   "execution_count": 423,
   "id": "d279caa3",
   "metadata": {},
   "outputs": [],
   "source": [
    "#GS.best_estimator_ "
   ]
  },
  {
   "cell_type": "markdown",
   "id": "c48d2711",
   "metadata": {},
   "source": [
    "**Best score from all tested parameters**"
   ]
  },
  {
   "cell_type": "code",
   "execution_count": 424,
   "id": "1a86c662",
   "metadata": {},
   "outputs": [
    {
     "data": {
      "text/plain": [
       "0.6497572565174721"
      ]
     },
     "execution_count": 424,
     "metadata": {},
     "output_type": "execute_result"
    }
   ],
   "source": [
    "GS.best_score_"
   ]
  },
  {
   "cell_type": "markdown",
   "id": "d78da82a",
   "metadata": {},
   "source": [
    "**Parameters that achieved the best score**"
   ]
  },
  {
   "cell_type": "code",
   "execution_count": 425,
   "id": "0654f487",
   "metadata": {},
   "outputs": [
    {
     "data": {
      "text/plain": [
       "{'algorithm': 'ball_tree',\n",
       " 'metric': 'manhattan',\n",
       " 'n_neighbors': 15,\n",
       " 'weights': 'distance'}"
      ]
     },
     "execution_count": 425,
     "metadata": {},
     "output_type": "execute_result"
    }
   ],
   "source": [
    "GS.best_params_"
   ]
  },
  {
   "cell_type": "markdown",
   "id": "fb7c5f82",
   "metadata": {},
   "source": [
    "**Training score for comparison with the default parameters**"
   ]
  },
  {
   "cell_type": "code",
   "execution_count": 426,
   "id": "16f738dd",
   "metadata": {},
   "outputs": [
    {
     "name": "stdout",
     "output_type": "stream",
     "text": [
      "Training set accuracy: 1.0\n",
      "Test set accuracy: 0.65\n"
     ]
    }
   ],
   "source": [
    "print('Training set accuracy:', np.round(model_opt.score(X_train, y_train), 2))\n",
    "print('Test set accuracy:' , np.round(model_opt.score(X_test, y_test), 2))"
   ]
  },
  {
   "cell_type": "markdown",
   "id": "dd8ec722",
   "metadata": {},
   "source": [
    "Please note that the fold used to define the best parameters is actually not the same as fold created during the train-test-split. "
   ]
  },
  {
   "cell_type": "markdown",
   "id": "9caed40d",
   "metadata": {},
   "source": [
    "## Saving Model"
   ]
  },
  {
   "cell_type": "code",
   "execution_count": 427,
   "id": "215cb672",
   "metadata": {},
   "outputs": [
    {
     "data": {
      "text/plain": [
       "['model.joblib']"
      ]
     },
     "execution_count": 427,
     "metadata": {},
     "output_type": "execute_result"
    }
   ],
   "source": [
    "dump(model_opt, 'model.joblib') "
   ]
  },
  {
   "cell_type": "markdown",
   "id": "928b0658",
   "metadata": {},
   "source": [
    "## Loading Model"
   ]
  },
  {
   "cell_type": "code",
   "execution_count": 428,
   "id": "19191e51",
   "metadata": {},
   "outputs": [],
   "source": [
    "model_load = load('model.joblib')"
   ]
  },
  {
   "cell_type": "markdown",
   "id": "6b3d9bf7",
   "metadata": {},
   "source": [
    "## Make predictions for test data"
   ]
  },
  {
   "cell_type": "code",
   "execution_count": 429,
   "id": "aee44ec5",
   "metadata": {},
   "outputs": [],
   "source": [
    "predictions = model_load.predict(X_test)"
   ]
  },
  {
   "cell_type": "markdown",
   "id": "eecfe531",
   "metadata": {},
   "source": [
    "## Creating a single datapoint for Prediction"
   ]
  },
  {
   "cell_type": "markdown",
   "id": "4af748d1",
   "metadata": {},
   "source": [
    "**Getting columns for the datapoint**"
   ]
  },
  {
   "cell_type": "code",
   "execution_count": 430,
   "id": "64520a0a",
   "metadata": {},
   "outputs": [
    {
     "data": {
      "text/plain": [
       "array(['power_ps', 'transmission_type', 'fuel_type', 'mileage_in_km',\n",
       "       'car_age'], dtype='<U17')"
      ]
     },
     "execution_count": 430,
     "metadata": {},
     "output_type": "execute_result"
    }
   ],
   "source": [
    "X_keys = np.array(X.keys().to_list())\n",
    "X_keys"
   ]
  },
  {
   "cell_type": "markdown",
   "id": "40391615",
   "metadata": {},
   "source": [
    "**Defining values for the datapoint**"
   ]
  },
  {
   "cell_type": "code",
   "execution_count": 431,
   "id": "90306585",
   "metadata": {},
   "outputs": [],
   "source": [
    "X_values = [[140,'Manual','Petrol',100000,10]]"
   ]
  },
  {
   "cell_type": "markdown",
   "id": "246a835d",
   "metadata": {},
   "source": [
    "**Creating Dataframe for the datapoint**"
   ]
  },
  {
   "cell_type": "code",
   "execution_count": 432,
   "id": "ff903547",
   "metadata": {},
   "outputs": [],
   "source": [
    "X = pd.DataFrame(data=X_values,columns=X_keys)"
   ]
  },
  {
   "cell_type": "code",
   "execution_count": 433,
   "id": "c0576d19",
   "metadata": {},
   "outputs": [
    {
     "data": {
      "text/html": [
       "<div>\n",
       "<style scoped>\n",
       "    .dataframe tbody tr th:only-of-type {\n",
       "        vertical-align: middle;\n",
       "    }\n",
       "\n",
       "    .dataframe tbody tr th {\n",
       "        vertical-align: top;\n",
       "    }\n",
       "\n",
       "    .dataframe thead th {\n",
       "        text-align: right;\n",
       "    }\n",
       "</style>\n",
       "<table border=\"1\" class=\"dataframe\">\n",
       "  <thead>\n",
       "    <tr style=\"text-align: right;\">\n",
       "      <th></th>\n",
       "      <th>power_ps</th>\n",
       "      <th>transmission_type</th>\n",
       "      <th>fuel_type</th>\n",
       "      <th>mileage_in_km</th>\n",
       "      <th>car_age</th>\n",
       "    </tr>\n",
       "  </thead>\n",
       "  <tbody>\n",
       "    <tr>\n",
       "      <th>0</th>\n",
       "      <td>140</td>\n",
       "      <td>Manual</td>\n",
       "      <td>Petrol</td>\n",
       "      <td>100000</td>\n",
       "      <td>10</td>\n",
       "    </tr>\n",
       "  </tbody>\n",
       "</table>\n",
       "</div>"
      ],
      "text/plain": [
       "   power_ps transmission_type fuel_type  mileage_in_km  car_age\n",
       "0       140            Manual    Petrol         100000       10"
      ]
     },
     "execution_count": 433,
     "metadata": {},
     "output_type": "execute_result"
    }
   ],
   "source": [
    "X"
   ]
  },
  {
   "cell_type": "markdown",
   "id": "6ba49953",
   "metadata": {},
   "source": [
    "## Predicting Price for the single datapoint"
   ]
  },
  {
   "cell_type": "code",
   "execution_count": 434,
   "id": "d6f522e7",
   "metadata": {},
   "outputs": [
    {
     "data": {
      "text/plain": [
       "array([7795.])"
      ]
     },
     "execution_count": 434,
     "metadata": {},
     "output_type": "execute_result"
    }
   ],
   "source": [
    "prediction_single = np.round(model_load.predict(X))\n",
    "prediction_single"
   ]
  },
  {
   "cell_type": "markdown",
   "id": "c15b55b6",
   "metadata": {},
   "source": [
    "# Vusializing data"
   ]
  },
  {
   "cell_type": "markdown",
   "id": "d9c056b2",
   "metadata": {},
   "source": [
    "## Creating a plot function"
   ]
  },
  {
   "cell_type": "code",
   "execution_count": 435,
   "id": "ef49a964",
   "metadata": {},
   "outputs": [],
   "source": [
    "def plot_results(X_train,y_train,X_test,y_test,predictions):\n",
    "    fig, (ax1, ax2) = plt.subplots(1, 2,figsize=(12,5),sharey=True)\n",
    "    fig.tight_layout()\n",
    "    ax1.scatter(x=X_train['mileage_in_km'],y=y_train,color='blue',alpha=0.3,label='y_train')\n",
    "    ax1.set_title('Training Data')\n",
    "    ax1.set_ylabel('Price in Euro')\n",
    "    ax1.legend()\n",
    "    ax2.scatter(x=X_test['mileage_in_km'],y=y_test,color='blue',alpha=0.3,label='y_test')\n",
    "    ax2.scatter(x=X_test['mileage_in_km'],y=predictions,color='red',alpha=0.3,label='predictions')\n",
    "    ax2.scatter(x=X['mileage_in_km'],y=prediction_single,color='yellow',alpha=1,label='single_datapoint')\n",
    "    ax2.set_title('Testing Data vs Predictions')\n",
    "    ax2.legend()\n",
    "    fig.text(0.5,-0.02, \"Mileage in km\", ha=\"center\", va=\"center\")\n",
    "    plt.show() "
   ]
  },
  {
   "cell_type": "markdown",
   "id": "b26b224d",
   "metadata": {},
   "source": [
    "## Plotting data"
   ]
  },
  {
   "cell_type": "code",
   "execution_count": 436,
   "id": "1fa013f8",
   "metadata": {},
   "outputs": [
    {
     "data": {
      "image/png": "[encoded data removed]",
      "text/plain": [
       "<Figure size 1200x500 with 2 Axes>"
      ]
     },
     "metadata": {},
     "output_type": "display_data"
    }
   ],
   "source": [
    "plot_results(X_train,y_train,X_test,y_test,predictions)"
   ]
  },
  {
   "cell_type": "code",
   "execution_count": null,
   "id": "be241c70",
   "metadata": {},
   "outputs": [],
   "source": []
  },
  {
   "cell_type": "code",
   "execution_count": null,
   "id": "e52f042c",
   "metadata": {},
   "outputs": [],
   "source": []
  },
  {
   "cell_type": "code",
   "execution_count": null,
   "id": "b033de75",
   "metadata": {},
   "outputs": [],
   "source": []
  }
 ],
 "metadata": {
  "kernelspec": {
   "display_name": "streamlit-env",
   "language": "python",
   "name": "streamlit-env"
  },
  "language_info": {
   "codemirror_mode": {
    "name": "ipython",
    "version": 3
   },
   "file_extension": ".py",
   "mimetype": "text/x-python",
   "name": "python",
   "nbconvert_exporter": "python",
   "pygments_lexer": "ipython3",
   "version": "3.9.12"
  }
 },
 "nbformat": 4,
 "nbformat_minor": 5
}
